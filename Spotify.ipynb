{
  "cells": [
    {
      "cell_type": "code",
      "execution_count": 2,
      "metadata": {
        "id": "94YNy3aXPck7"
      },
      "outputs": [],
      "source": [
        "# Import libraries and packages\n",
        "import pandas as pd\n",
        "import numpy as np\n",
        "from decouple import config\n",
        "import spotipy\n",
        "from spotipy.oauth2 import SpotifyClientCredentials"
      ]
    },
    {
      "cell_type": "code",
      "execution_count": 44,
      "metadata": {
        "colab": {
          "base_uri": "https://localhost:8080/"
        },
        "id": "uivLN5UW9-YW",
        "outputId": "bb6f7ea5-dd89-4e3f-d9ed-4cacbe584c72"
      },
      "outputs": [],
      "source": [
        "id = config('client_id')\n",
        "secret = config('client_password')\n",
        "# Create a .env file in the same folder and enter 'client_id' = XXX and 'client_password' = YYY\n",
        "# Alternatively, \n",
        "# Fill in your client id from spotify developer here https://developer.spotify.com/dashboard/applications and replace it above\n",
        "# Fill in your client secret from spotify developer here https://developer.spotify.com/dashboard/applications and replace it above\n",
        "\n",
        "client_credentials_manager = SpotifyClientCredentials(client_id=id, client_secret=secret)\n",
        "sp = spotipy.Spotify(client_credentials_manager=client_credentials_manager) # spotify object to access API"
      ]
    },
    {
      "cell_type": "code",
      "execution_count": 5,
      "metadata": {},
      "outputs": [],
      "source": [
        "# Run this cell if you are reading the files from the Github\n",
        "charts_no_duplicate = pd.read_csv(\"charts_no_duplicate.csv\")\n",
        "df = pd.read_csv('df.csv')"
      ]
    },
    {
      "cell_type": "code",
      "execution_count": 10,
      "metadata": {
        "id": "WnuIOGJDP5lR"
      },
      "outputs": [],
      "source": [
        "# Read the billboard weekly top 100 data\n",
        "charts = pd.read_csv(\"charts.csv\") # Extracted the billboard weekly top 100 data from: https://www.kaggle.com/datasets/dhruvildave/billboard-the-hot-100-songs?select=charts.csv"
      ]
    },
    {
      "cell_type": "code",
      "execution_count": 4,
      "metadata": {
        "colab": {
          "base_uri": "https://localhost:8080/",
          "height": 206
        },
        "id": "3JGCHI6-SDgS",
        "outputId": "b7543e22-1ea5-4566-bc50-ed0e1525a33f"
      },
      "outputs": [
        {
          "data": {
            "text/html": [
              "<div>\n",
              "<style scoped>\n",
              "    .dataframe tbody tr th:only-of-type {\n",
              "        vertical-align: middle;\n",
              "    }\n",
              "\n",
              "    .dataframe tbody tr th {\n",
              "        vertical-align: top;\n",
              "    }\n",
              "\n",
              "    .dataframe thead th {\n",
              "        text-align: right;\n",
              "    }\n",
              "</style>\n",
              "<table border=\"1\" class=\"dataframe\">\n",
              "  <thead>\n",
              "    <tr style=\"text-align: right;\">\n",
              "      <th></th>\n",
              "      <th>date</th>\n",
              "      <th>rank</th>\n",
              "      <th>song</th>\n",
              "      <th>artist</th>\n",
              "      <th>last-week</th>\n",
              "      <th>peak-rank</th>\n",
              "      <th>weeks-on-board</th>\n",
              "    </tr>\n",
              "  </thead>\n",
              "  <tbody>\n",
              "    <tr>\n",
              "      <th>0</th>\n",
              "      <td>6/11/21</td>\n",
              "      <td>1</td>\n",
              "      <td>Easy On Me</td>\n",
              "      <td>Adele</td>\n",
              "      <td>1.0</td>\n",
              "      <td>1</td>\n",
              "      <td>3</td>\n",
              "    </tr>\n",
              "    <tr>\n",
              "      <th>1</th>\n",
              "      <td>6/11/21</td>\n",
              "      <td>2</td>\n",
              "      <td>Stay</td>\n",
              "      <td>The Kid LAROI &amp; Justin Bieber</td>\n",
              "      <td>2.0</td>\n",
              "      <td>1</td>\n",
              "      <td>16</td>\n",
              "    </tr>\n",
              "    <tr>\n",
              "      <th>2</th>\n",
              "      <td>6/11/21</td>\n",
              "      <td>3</td>\n",
              "      <td>Industry Baby</td>\n",
              "      <td>Lil Nas X &amp; Jack Harlow</td>\n",
              "      <td>3.0</td>\n",
              "      <td>1</td>\n",
              "      <td>14</td>\n",
              "    </tr>\n",
              "    <tr>\n",
              "      <th>3</th>\n",
              "      <td>6/11/21</td>\n",
              "      <td>4</td>\n",
              "      <td>Fancy Like</td>\n",
              "      <td>Walker Hayes</td>\n",
              "      <td>4.0</td>\n",
              "      <td>3</td>\n",
              "      <td>19</td>\n",
              "    </tr>\n",
              "    <tr>\n",
              "      <th>4</th>\n",
              "      <td>6/11/21</td>\n",
              "      <td>5</td>\n",
              "      <td>Bad Habits</td>\n",
              "      <td>Ed Sheeran</td>\n",
              "      <td>5.0</td>\n",
              "      <td>2</td>\n",
              "      <td>18</td>\n",
              "    </tr>\n",
              "  </tbody>\n",
              "</table>\n",
              "</div>"
            ],
            "text/plain": [
              "      date  rank           song                         artist  last-week  \\\n",
              "0  6/11/21     1     Easy On Me                          Adele        1.0   \n",
              "1  6/11/21     2           Stay  The Kid LAROI & Justin Bieber        2.0   \n",
              "2  6/11/21     3  Industry Baby        Lil Nas X & Jack Harlow        3.0   \n",
              "3  6/11/21     4     Fancy Like                   Walker Hayes        4.0   \n",
              "4  6/11/21     5     Bad Habits                     Ed Sheeran        5.0   \n",
              "\n",
              "   peak-rank  weeks-on-board  \n",
              "0          1               3  \n",
              "1          1              16  \n",
              "2          1              14  \n",
              "3          3              19  \n",
              "4          2              18  "
            ]
          },
          "execution_count": 4,
          "metadata": {},
          "output_type": "execute_result"
        }
      ],
      "source": [
        "# Explore the billboard data\n",
        "charts.head()"
      ]
    },
    {
      "cell_type": "code",
      "execution_count": 5,
      "metadata": {
        "id": "Vz_0BoCBcu8s"
      },
      "outputs": [],
      "source": [
        "# Create a column for the year\n",
        "charts['year'] = charts['date'].str[-2:]\n",
        "charts['year'] = charts.year.astype(int)"
      ]
    },
    {
      "cell_type": "code",
      "execution_count": 6,
      "metadata": {
        "colab": {
          "base_uri": "https://localhost:8080/"
        },
        "id": "qi4jl8NFZo3h",
        "outputId": "67dc2f56-b4f3-4e61-85d3-7fb3dfc6cfd4"
      },
      "outputs": [
        {
          "name": "stderr",
          "output_type": "stream",
          "text": [
            "/var/folders/2p/_ht4x02d5859684c2wb6vvhr0000gp/T/ipykernel_20506/2379766543.py:2: SettingWithCopyWarning: \n",
            "A value is trying to be set on a copy of a slice from a DataFrame.\n",
            "Try using .loc[row_indexer,col_indexer] = value instead\n",
            "\n",
            "See the caveats in the documentation: https://pandas.pydata.org/pandas-docs/stable/user_guide/indexing.html#returning-a-view-versus-a-copy\n",
            "  charts_no_duplicate['year'] = charts_no_duplicate.year.astype(int)\n"
          ]
        }
      ],
      "source": [
        "charts_no_duplicate = charts.drop_duplicates(subset=['song','artist']) # remove unique song duplicates by song and artist\n",
        "charts_no_duplicate['year'] = charts_no_duplicate.year.astype(int) # set year as integer time to filter\n",
        "charts_no_duplicate = charts_no_duplicate[(charts_no_duplicate.year<=21)] # filter away songs not from year 2000 and above\n",
        "charts_no_duplicate = charts_no_duplicate.reset_index()\n",
        "charts_no_duplicate[\"id\"] = charts_no_duplicate.index + 1 # create a unique id for each song to track across the different datasets"
      ]
    },
    {
      "cell_type": "code",
      "execution_count": 17,
      "metadata": {},
      "outputs": [
        {
          "data": {
            "text/html": [
              "<div>\n",
              "<style scoped>\n",
              "    .dataframe tbody tr th:only-of-type {\n",
              "        vertical-align: middle;\n",
              "    }\n",
              "\n",
              "    .dataframe tbody tr th {\n",
              "        vertical-align: top;\n",
              "    }\n",
              "\n",
              "    .dataframe thead th {\n",
              "        text-align: right;\n",
              "    }\n",
              "</style>\n",
              "<table border=\"1\" class=\"dataframe\">\n",
              "  <thead>\n",
              "    <tr style=\"text-align: right;\">\n",
              "      <th></th>\n",
              "      <th>song</th>\n",
              "      <th>artist</th>\n",
              "      <th>id</th>\n",
              "    </tr>\n",
              "  </thead>\n",
              "  <tbody>\n",
              "    <tr>\n",
              "      <th>0</th>\n",
              "      <td>Easy On Me</td>\n",
              "      <td>Adele</td>\n",
              "      <td>1</td>\n",
              "    </tr>\n",
              "    <tr>\n",
              "      <th>1</th>\n",
              "      <td>Stay</td>\n",
              "      <td>The Kid LAROI &amp; Justin Bieber</td>\n",
              "      <td>2</td>\n",
              "    </tr>\n",
              "    <tr>\n",
              "      <th>2</th>\n",
              "      <td>Industry Baby</td>\n",
              "      <td>Lil Nas X &amp; Jack Harlow</td>\n",
              "      <td>3</td>\n",
              "    </tr>\n",
              "    <tr>\n",
              "      <th>3</th>\n",
              "      <td>Fancy Like</td>\n",
              "      <td>Walker Hayes</td>\n",
              "      <td>4</td>\n",
              "    </tr>\n",
              "    <tr>\n",
              "      <th>4</th>\n",
              "      <td>Bad Habits</td>\n",
              "      <td>Ed Sheeran</td>\n",
              "      <td>5</td>\n",
              "    </tr>\n",
              "  </tbody>\n",
              "</table>\n",
              "</div>"
            ],
            "text/plain": [
              "            song                         artist  id\n",
              "0     Easy On Me                          Adele   1\n",
              "1           Stay  The Kid LAROI & Justin Bieber   2\n",
              "2  Industry Baby        Lil Nas X & Jack Harlow   3\n",
              "3     Fancy Like                   Walker Hayes   4\n",
              "4     Bad Habits                     Ed Sheeran   5"
            ]
          },
          "execution_count": 17,
          "metadata": {},
          "output_type": "execute_result"
        }
      ],
      "source": [
        "charts_no_duplicate = charts_no_duplicate.drop(['index','date','rank','last-week','peak-rank','weeks-on-board','year'],axis=1)\n",
        "charts_no_duplicate.head()"
      ]
    },
    {
      "cell_type": "code",
      "execution_count": null,
      "metadata": {
        "id": "Hm6GgPEq_UE0"
      },
      "outputs": [],
      "source": [
        "#export charts_no_duplicate for documentation\n",
        "pd.DataFrame(charts_no_duplicate).to_csv('charts_no_duplicate.csv',header=False,index=False)"
      ]
    },
    {
      "cell_type": "code",
      "execution_count": 18,
      "metadata": {
        "id": "X-0uXRKjbkNn"
      },
      "outputs": [],
      "source": [
        "# Create an empty list to store all the spotify IDs extracted from the search\n",
        "iddata = []"
      ]
    },
    {
      "cell_type": "code",
      "execution_count": null,
      "metadata": {
        "id": "a301qr-sMzP_"
      },
      "outputs": [],
      "source": [
        "for i in range(len(charts_no_duplicate)):\n",
        "  track = charts_no_duplicate.iloc[i,2] # Song\n",
        "  artist = charts_no_duplicate.iloc[i,3] # Singer\n",
        "  try:\n",
        "    sptrack = sp.search(q='artist:' + artist + ' track:' + track, type='track',limit=1)\n",
        "    id = sptrack['tracks']['items'][0]['id']\n",
        "    iddata.append(id)\n",
        "  except IndexError:\n",
        "    sptrack = sp.search(q=' track:' + track, type='track',limit=1)\n",
        "    id = sptrack['tracks']['items'][0]['id']\n",
        "    iddata.append(id)\n",
        "  except:\n",
        "    iddata.append(\" \")"
      ]
    },
    {
      "cell_type": "code",
      "execution_count": 13,
      "metadata": {
        "id": "MyGm4AEJlrSN"
      },
      "outputs": [],
      "source": [
        "# Define a function to extract all the song details\n",
        "def getTrackFeatures(id):\n",
        "  try:\n",
        "    meta = sp.track(id)\n",
        "    features = sp.audio_features(id)\n",
        "\n",
        "    # meta\n",
        "    song = meta['name']\n",
        "    album = meta['album']['name']\n",
        "    artist = meta['album']['artists'][0]['name']\n",
        "    release_date = meta['album']['release_date']\n",
        "    length = meta['duration_ms']\n",
        "    popularity = meta['popularity']\n",
        "\n",
        "    # features\n",
        "    acousticness = features[0]['acousticness']\n",
        "    danceability = features[0]['danceability']\n",
        "    energy = features[0]['energy']\n",
        "    instrumentalness = features[0]['instrumentalness']\n",
        "    liveness = features[0]['liveness']\n",
        "    loudness = features[0]['loudness']\n",
        "    speechiness = features[0]['speechiness']\n",
        "    tempo = features[0]['tempo']\n",
        "    time_signature = features[0]['time_signature']\n",
        "    \n",
        "    track = [song, album, artist, release_date, length, popularity, danceability, acousticness, energy, instrumentalness, liveness, loudness, speechiness, tempo, time_signature]\n",
        "    return track\n",
        "  except:\n",
        "    track = [\" \"]\n",
        "    return track"
      ]
    },
    {
      "cell_type": "code",
      "execution_count": null,
      "metadata": {
        "id": "F_UQETmMSRX2"
      },
      "outputs": [],
      "source": [
        "# Create an empty list to store all the spotify song features extracted from the IDs\n",
        "trackfeatures = []\n",
        "for i in iddata:\n",
        "  trackfeatures.append(getTrackFeatures(i))"
      ]
    },
    {
      "cell_type": "code",
      "execution_count": null,
      "metadata": {
        "id": "DKjPnz4dc7mv"
      },
      "outputs": [],
      "source": [
        "#export trackfeatures for documentation\n",
        "df=pd.DataFrame(trackfeatures, columns = ['song', 'album', 'artist', 'release_date', 'length', 'popularity', 'danceability', 'acousticness', 'danceability', 'energy', 'instrumentalness', 'liveness', 'loudness', 'speechiness', 'tempo', 'time_signature'])\n",
        "df.to_csv('df.csv')"
      ]
    },
    {
      "cell_type": "markdown",
      "metadata": {
        "id": "FJTS877LFm66"
      },
      "source": [
        "# Resolving Errors"
      ]
    },
    {
      "cell_type": "code",
      "execution_count": null,
      "metadata": {
        "id": "Fk1Vp0bND9BS"
      },
      "outputs": [],
      "source": [
        "# When running the for loop there are some songs that returned an API error, hence we note down the song name to manually fill it in \n",
        "#91 error -> start at 92\n",
        "#298 error (actually 299) -> start at 300\n",
        "#346 error (actually 348) -> start at 349\n",
        "#399 error (actually 402) -> start at 403\n",
        "#400 error (actually 404) -> start at 405\n",
        "#400 error (actually 405) -> start at 406\n",
        "#400 error (actually 406) -> start at 407\n",
        "#571 error (actually 578) -> start at 579\n",
        "#608 error (actually 616) -> start at 617\n",
        "#679 error (actually 688) -> start at 689\n",
        "#1605 error (actually 1615) -> start at 1616\n",
        "#1825 error (actually 1836) -> start at 1837\n",
        "#2192 error (actually 2204) -> start at 2205\n",
        "#2198 error (actually 2211) -> start at 2212\n",
        "#2484 error (actually 2498) -> start at 2499\n",
        "#2672 error (actually 2687) -> start at 2688\n",
        "#2759 error (actually 2775) -> start at 2776\n",
        "#3008 error (actually 3025) -> start at 3026\n",
        "#3778 error (actually 3796) -> start at 3797\n",
        "#3915 error (actually 3934) -> start at 3935\n",
        "#3981 error (actually 4001) -> start at 4002\n",
        "#4014 error (actually 4035) -> start at 4036\n",
        "#4180 error (actually 4202) -> start at 4203\n",
        "#4417 error (actually 4440) -> start at 4441\n",
        "#4720 error (actually 4744) -> start at 4745\n",
        "#5112 error (actually 5137) -> start at 5138\n",
        "#5328 error (actually 5354) -> start at 5355\n",
        "#5621 error (actually 5648) -> start at 5649\n",
        "#5708 error (actually 5736) -> start at 5737\n",
        "#5736 error (actually 5765) -> start at 5766\n",
        "#5809 error (actually 5839) -> start at 5840\n",
        "#5874 error (actually 5905) -> start at 5906\n",
        "#5883 error (actually 5915) -> start at 5916\n",
        "#5989 error (actually 6022) -> start at 6023\n",
        "#6039 error (actually 6073) -> start at 6074\n",
        "#6045 error (actually 6080) -> start at 6081\n",
        "#6069 error (actually 6105) -> start at 6106\n",
        "#6070 error (actually 6107) -> start at 6108\n",
        "#6146 error (actually 6184) -> start at 6185\n",
        "#6177 error (actually 6216) -> start at 6217\n",
        "#6212 error (actually 6252) -> start at 6253\n",
        "#6278 error (actually 6319) -> start at 6320\n",
        "#6348 error (actually 6390) -> start at 6391, 42\n",
        "#6387 error (actually 6430) -> start at 6431, 43\n",
        "#6560 error (actually 6604) -> start at 6605, 44\n",
        "#6571 error (actually 6616) -> start at 6617, 45\n",
        "#6644 error (actually 6690) -> 6691, 46\n",
        "#6717 error (actually 6764) -> 6765, 47\n",
        "#6771 error (actually 6819) -> 6820, 48\n",
        "#6817 error (actually 6866) -> 6867, 49\n",
        "#6831 error (actually 6881) -> 6882, 50\n",
        "#7164 error (actually 7215) -> 7216, 51\n",
        "#7322 error (actually 7374) -> 7375, 52\n",
        "#7329 error (actually 7382) -> 7383, 53\n",
        "#7443 error (actually 7497) -> 7498, 54\n",
        "#7492 error (actually 7547) -> 7548, 55\n",
        "#7846 error (actually 7902) -> 7903, 56\n",
        "#7853 error (actually 7910) -> 7911, 57\n",
        "#8090 error (actually 8148) -> 8149, 58\n",
        "#8111 error (actually 8170) -> 8171, 59\n",
        "#8146 error (actually 8206) -> 8207, 60\n",
        "#8272 error (actually 8333) -> 8334, 61\n",
        "#8328 error (actually 8390) -> 8391, 62\n",
        "#8452 error (actually 8515) -> 8516, 63\n",
        "#8567 error (actually 8631) -> 8632, 64\n",
        "#8682 error (actually 8747) -> 8748, 65\n",
        "#8886 error (actually 8952) -> 8953, 66\n",
        "#8888 error (actually 8955) -> 8956, 67\n",
        "#8946 error (actually 9014) -> 9015, 68"
      ]
    },
    {
      "cell_type": "code",
      "execution_count": null,
      "metadata": {
        "colab": {
          "base_uri": "https://localhost:8080/"
        },
        "id": "gIwfH803Fzka",
        "outputId": "cd23bd65-9f02-4379-f185-7b811d3c0f67"
      },
      "outputs": [],
      "source": [
        "print(charts_no_duplicate.loc[91])\n",
        "df.loc[90.5] = getTrackFeatures('6HIIuuUIEzH1meVdGbMXyf')\n",
        "df = df.sort_index().reset_index(drop=True)"
      ]
    },
    {
      "cell_type": "code",
      "execution_count": null,
      "metadata": {
        "colab": {
          "base_uri": "https://localhost:8080/"
        },
        "id": "SoUGtw0wG4i_",
        "outputId": "e294a8cd-0516-4aba-cb1d-7df37d3dda9b"
      },
      "outputs": [],
      "source": [
        "print(charts_no_duplicate.loc[299])\n",
        "df.loc[298.5] = getTrackFeatures('1QL7nSDZCwZMnbisV4KOXt')\n",
        "df = df.sort_index().reset_index(drop=True)"
      ]
    },
    {
      "cell_type": "code",
      "execution_count": null,
      "metadata": {
        "colab": {
          "base_uri": "https://localhost:8080/"
        },
        "id": "HCCw1uoMHVoh",
        "outputId": "4c2f5e49-4b3a-4c61-ca92-ab2122189a2d"
      },
      "outputs": [],
      "source": [
        "print(charts_no_duplicate.loc[348])\n",
        "df.loc[347.5] = getTrackFeatures('5W8jRrZ6tWrTrqnKRtIQBf')\n",
        "df = df.sort_index().reset_index(drop=True)"
      ]
    },
    {
      "cell_type": "code",
      "execution_count": null,
      "metadata": {
        "colab": {
          "base_uri": "https://localhost:8080/"
        },
        "id": "ZijpoZwlHlSh",
        "outputId": "04345a98-0969-4df1-8f6f-58e631bdac89"
      },
      "outputs": [],
      "source": [
        "print(charts_no_duplicate.loc[402])\n",
        "df.loc[401.5] = getTrackFeatures('0GAyuCo975IHGxxiLKDufB')\n",
        "df = df.sort_index().reset_index(drop=True)"
      ]
    },
    {
      "cell_type": "code",
      "execution_count": null,
      "metadata": {
        "colab": {
          "base_uri": "https://localhost:8080/"
        },
        "id": "eUKtOtBCH1Am",
        "outputId": "5816b3eb-93dc-4038-a68a-2ffe82556dde"
      },
      "outputs": [],
      "source": [
        "print(charts_no_duplicate.loc[404])\n",
        "df.loc[403.5] = getTrackFeatures('57ZUX6TNyKLBydAdVVd02x')\n",
        "df = df.sort_index().reset_index(drop=True)"
      ]
    },
    {
      "cell_type": "code",
      "execution_count": null,
      "metadata": {
        "colab": {
          "base_uri": "https://localhost:8080/"
        },
        "id": "VYL6sMvcIBKH",
        "outputId": "16038055-a039-429e-a711-9a072c51c5b1"
      },
      "outputs": [],
      "source": [
        "print(charts_no_duplicate.loc[405])\n",
        "df.loc[404.5] = getTrackFeatures('5lLNBIyjp72btcnrjBG751')\n",
        "df = df.sort_index().reset_index(drop=True)"
      ]
    },
    {
      "cell_type": "code",
      "execution_count": null,
      "metadata": {
        "colab": {
          "base_uri": "https://localhost:8080/"
        },
        "id": "TrCziOG3IfjK",
        "outputId": "7a4b1633-2e79-4d67-fa6b-4feb5eeff5e4"
      },
      "outputs": [],
      "source": [
        "print(charts_no_duplicate.loc[406])\n",
        "df.loc[405.5] = getTrackFeatures('5BwQjRasNcdRPuVWKcHto2')\n",
        "df = df.sort_index().reset_index(drop=True)"
      ]
    },
    {
      "cell_type": "code",
      "execution_count": null,
      "metadata": {
        "colab": {
          "base_uri": "https://localhost:8080/"
        },
        "id": "CrdhFGPCJImk",
        "outputId": "6b093e30-449d-499b-b144-afcd613c5d16"
      },
      "outputs": [],
      "source": [
        "print(charts_no_duplicate.loc[578])\n",
        "df.loc[577.5] = getTrackFeatures('1tEskhLQFPHfBqDaBgtkyO')\n",
        "df = df.sort_index().reset_index(drop=True)"
      ]
    },
    {
      "cell_type": "code",
      "execution_count": null,
      "metadata": {
        "colab": {
          "base_uri": "https://localhost:8080/"
        },
        "id": "wnaIdBnuJR67",
        "outputId": "25beb849-4a7b-4c3b-ef49-b198ee7d44f0"
      },
      "outputs": [],
      "source": [
        "print(charts_no_duplicate.loc[616])\n",
        "df.loc[615.5] = getTrackFeatures('77XoAnllT85lmR9WP0D8dS')\n",
        "df = df.sort_index().reset_index(drop=True)"
      ]
    },
    {
      "cell_type": "code",
      "execution_count": null,
      "metadata": {
        "colab": {
          "base_uri": "https://localhost:8080/"
        },
        "id": "W5mpxBZGJiaC",
        "outputId": "58bc6836-fb99-4dde-dd0e-d1f4239bad41"
      },
      "outputs": [],
      "source": [
        "print(charts_no_duplicate.loc[688])\n",
        "df.loc[687.5] = getTrackFeatures('27oVCAziETRbNuo5A8LNpg')\n",
        "df = df.sort_index().reset_index(drop=True)"
      ]
    },
    {
      "cell_type": "code",
      "execution_count": null,
      "metadata": {
        "colab": {
          "base_uri": "https://localhost:8080/"
        },
        "id": "RdLtvo6tJ09n",
        "outputId": "2e0a6112-c8e9-4d43-eb12-2d48343dd915"
      },
      "outputs": [],
      "source": [
        "print(charts_no_duplicate.loc[1615])\n",
        "df.loc[1614.5] = getTrackFeatures('7ILEWkpfdK6AjH2D7jppWk')\n",
        "df = df.sort_index().reset_index(drop=True)"
      ]
    },
    {
      "cell_type": "code",
      "execution_count": null,
      "metadata": {
        "colab": {
          "base_uri": "https://localhost:8080/"
        },
        "id": "hc0WVkXWKFuf",
        "outputId": "5d719845-42a0-4210-d1f3-34eb301e3704"
      },
      "outputs": [],
      "source": [
        "print(charts_no_duplicate.loc[1836])\n",
        "df.loc[1835.5] = getTrackFeatures('0hPLZrnDgtKxrym1BHjDhd')\n",
        "df = df.sort_index().reset_index(drop=True)"
      ]
    },
    {
      "cell_type": "code",
      "execution_count": null,
      "metadata": {
        "colab": {
          "base_uri": "https://localhost:8080/"
        },
        "id": "g2RRpHh5KW2b",
        "outputId": "21a69d60-2434-4369-dc0c-01003baaf8a8"
      },
      "outputs": [],
      "source": [
        "print(charts_no_duplicate.loc[2204])\n",
        "df.loc[2203.5] = getTrackFeatures('1nGoy0cEj0extAwXYNYTWd')\n",
        "df = df.sort_index().reset_index(drop=True)"
      ]
    },
    {
      "cell_type": "code",
      "execution_count": null,
      "metadata": {
        "colab": {
          "base_uri": "https://localhost:8080/"
        },
        "id": "sqvNcQtTKiaE",
        "outputId": "f8604339-869f-4a63-f10a-b61050b54d3f"
      },
      "outputs": [],
      "source": [
        "print(charts_no_duplicate.loc[2211])\n",
        "df.loc[2210.5] = getTrackFeatures('6ojicjDYUUoeE1tdSvfFo4')\n",
        "df = df.sort_index().reset_index(drop=True)"
      ]
    },
    {
      "cell_type": "code",
      "execution_count": null,
      "metadata": {
        "colab": {
          "base_uri": "https://localhost:8080/"
        },
        "id": "pGm0jsN_K62h",
        "outputId": "b61b1899-5b56-4e74-b5ca-0f0b44e0827d"
      },
      "outputs": [],
      "source": [
        "print(charts_no_duplicate.loc[2498])\n",
        "df.loc[2497.5] = getTrackFeatures('2D2w9943rsnJOGCrI4aMQp')\n",
        "df = df.sort_index().reset_index(drop=True)"
      ]
    },
    {
      "cell_type": "code",
      "execution_count": null,
      "metadata": {
        "colab": {
          "base_uri": "https://localhost:8080/"
        },
        "id": "DmvusRSeK68g",
        "outputId": "1245e442-b83d-4b1d-e82c-b4b36331cd10"
      },
      "outputs": [],
      "source": [
        "print(charts_no_duplicate.loc[2687])\n",
        "df.loc[2686.5] = getTrackFeatures('0OVhQZkNe7lh0fQeH96EFW')\n",
        "df = df.sort_index().reset_index(drop=True)"
      ]
    },
    {
      "cell_type": "code",
      "execution_count": null,
      "metadata": {
        "colab": {
          "base_uri": "https://localhost:8080/"
        },
        "id": "bvQpLg01LjCk",
        "outputId": "125920dd-9955-47d9-8a4d-893083eeae90"
      },
      "outputs": [],
      "source": [
        "print(charts_no_duplicate.loc[2775])\n",
        "df.loc[2774.5] = getTrackFeatures('5f5r2N4Lp9WoULWPH9zp2W')\n",
        "df = df.sort_index().reset_index(drop=True)"
      ]
    },
    {
      "cell_type": "code",
      "execution_count": null,
      "metadata": {
        "colab": {
          "base_uri": "https://localhost:8080/"
        },
        "id": "Y3YfiRBpLuZZ",
        "outputId": "4c513957-c883-4337-a9a5-7ce3b5d4b644"
      },
      "outputs": [],
      "source": [
        "print(charts_no_duplicate.loc[3025])\n",
        "df.loc[3024.5] = getTrackFeatures('2GICtNjlmq5w1XIQ9s0D9y')\n",
        "df = df.sort_index().reset_index(drop=True)"
      ]
    },
    {
      "cell_type": "code",
      "execution_count": null,
      "metadata": {
        "colab": {
          "base_uri": "https://localhost:8080/"
        },
        "id": "tC2t-lDxN-Bh",
        "outputId": "ba374e6a-4ba1-4d58-d706-2c43d8883bd5"
      },
      "outputs": [],
      "source": [
        "print(charts_no_duplicate.loc[3796])\n",
        "df.loc[3795.5] = getTrackFeatures('3tPYlTUFTkGTRKYgPn1vei')\n",
        "df = df.sort_index().reset_index(drop=True)"
      ]
    },
    {
      "cell_type": "code",
      "execution_count": null,
      "metadata": {
        "colab": {
          "base_uri": "https://localhost:8080/"
        },
        "id": "fH41daYtOM2z",
        "outputId": "3293b28b-6f11-4ce8-d701-864a095107be"
      },
      "outputs": [],
      "source": [
        "print(charts_no_duplicate.loc[3934])\n",
        "df.loc[3933.5] = getTrackFeatures('0BBj0SW3vef8UNzTg4lwH9')\n",
        "df = df.sort_index().reset_index(drop=True)"
      ]
    },
    {
      "cell_type": "code",
      "execution_count": null,
      "metadata": {
        "colab": {
          "base_uri": "https://localhost:8080/"
        },
        "id": "Z5TALZJwOb2V",
        "outputId": "16901512-9e80-42d0-9994-bfd22fd2f5fd"
      },
      "outputs": [],
      "source": [
        "print(charts_no_duplicate.loc[4001])\n",
        "df.loc[4000.5] = getTrackFeatures('0vvKyFjX1hzSwpNtVwnJ2H')\n",
        "df = df.sort_index().reset_index(drop=True)"
      ]
    },
    {
      "cell_type": "code",
      "execution_count": null,
      "metadata": {
        "colab": {
          "base_uri": "https://localhost:8080/"
        },
        "id": "aH3IVfE0OotB",
        "outputId": "6be16e66-b816-4181-d2e6-b362c1563e47"
      },
      "outputs": [],
      "source": [
        "print(charts_no_duplicate.loc[4035])\n",
        "df.loc[4034.5] = getTrackFeatures('0nlMls0o7JPGhbyRNvGnOZ')\n",
        "df = df.sort_index().reset_index(drop=True)"
      ]
    },
    {
      "cell_type": "code",
      "execution_count": null,
      "metadata": {
        "colab": {
          "base_uri": "https://localhost:8080/"
        },
        "id": "5wymr8H0PeFm",
        "outputId": "fc908969-edaa-40ff-e4c4-a8af1617af95"
      },
      "outputs": [],
      "source": [
        "print(charts_no_duplicate.loc[4202])\n",
        "df.loc[4201.5] = getTrackFeatures('3gTBF9aB9MVCy9ejLo8HJJ')\n",
        "df = df.sort_index().reset_index(drop=True)"
      ]
    },
    {
      "cell_type": "code",
      "execution_count": null,
      "metadata": {
        "colab": {
          "base_uri": "https://localhost:8080/"
        },
        "id": "E6aUFZd1PnlL",
        "outputId": "b21e4194-3297-41b4-e6e2-db18ebc5222c"
      },
      "outputs": [],
      "source": [
        "print(charts_no_duplicate.loc[4440])\n",
        "df.loc[4439.5] = getTrackFeatures('2qWTGIvj3t9VdkggzllU8G')\n",
        "df = df.sort_index().reset_index(drop=True)"
      ]
    },
    {
      "cell_type": "code",
      "execution_count": null,
      "metadata": {
        "colab": {
          "base_uri": "https://localhost:8080/"
        },
        "id": "viDHiv-ePzvM",
        "outputId": "93776d33-ff5c-4eac-9060-915df181adb8"
      },
      "outputs": [],
      "source": [
        "print(charts_no_duplicate.loc[4744])\n",
        "df.loc[4743.5] = getTrackFeatures('4HRa9ZWcmZ8JD7UySPu0wT')\n",
        "df = df.sort_index().reset_index(drop=True)"
      ]
    },
    {
      "cell_type": "code",
      "execution_count": null,
      "metadata": {
        "colab": {
          "base_uri": "https://localhost:8080/"
        },
        "id": "HfH6fw-EqpkX",
        "outputId": "af1bab66-9086-474d-d058-1e8ce7144191"
      },
      "outputs": [],
      "source": [
        "print(charts_no_duplicate.loc[5137])\n",
        "df.loc[5136.5] = getTrackFeatures('3nnJwpK7mH3Vdovz1OmqCF')\n",
        "df = df.sort_index().reset_index(drop=True)"
      ]
    },
    {
      "cell_type": "code",
      "execution_count": null,
      "metadata": {
        "colab": {
          "base_uri": "https://localhost:8080/"
        },
        "id": "w_z8--6zrFSU",
        "outputId": "a86e22b0-080d-4cad-851a-f55cd45967da"
      },
      "outputs": [],
      "source": [
        "print(charts_no_duplicate.loc[5354])\n",
        "df.loc[5353.5] = getTrackFeatures('0T6Bs49TkEFPvxl3tZOkkF')\n",
        "df = df.sort_index().reset_index(drop=True)"
      ]
    },
    {
      "cell_type": "code",
      "execution_count": null,
      "metadata": {
        "colab": {
          "base_uri": "https://localhost:8080/"
        },
        "id": "XOwaWTZBrZWM",
        "outputId": "3428a07d-33d4-4cb6-dacf-0e2857f44e26"
      },
      "outputs": [],
      "source": [
        "print(charts_no_duplicate.loc[5648])\n",
        "df.loc[5647.5] = getTrackFeatures('3oCRs9r4CUZESH7e3axxKU')\n",
        "df = df.sort_index().reset_index(drop=True)"
      ]
    },
    {
      "cell_type": "code",
      "execution_count": null,
      "metadata": {
        "colab": {
          "base_uri": "https://localhost:8080/"
        },
        "id": "NH7UzJF4ruWu",
        "outputId": "2444a50d-8b0b-466d-ff55-45cf911ec1ef"
      },
      "outputs": [],
      "source": [
        "print(charts_no_duplicate.loc[5736])\n",
        "df.loc[5735.5] = getTrackFeatures('4kLzo3exwh18YxYqBxLsuX')\n",
        "df = df.sort_index().reset_index(drop=True)"
      ]
    },
    {
      "cell_type": "code",
      "execution_count": null,
      "metadata": {
        "colab": {
          "base_uri": "https://localhost:8080/"
        },
        "id": "TwCn4OWtr-pR",
        "outputId": "cb4b6fd2-159b-4eff-bd81-9b4f4bc06cb1"
      },
      "outputs": [],
      "source": [
        "print(charts_no_duplicate.loc[5765])\n",
        "df.loc[5764.5] = getTrackFeatures('7i8eqTke7Fl8jl5pbEQPC5')\n",
        "df = df.sort_index().reset_index(drop=True)"
      ]
    },
    {
      "cell_type": "code",
      "execution_count": null,
      "metadata": {
        "colab": {
          "base_uri": "https://localhost:8080/"
        },
        "id": "n5_BOOn6sgmC",
        "outputId": "bc2f4371-5581-468a-fa51-7bd8e9e6f169"
      },
      "outputs": [],
      "source": [
        "print(charts_no_duplicate.loc[5839])\n",
        "df.loc[5838.5] = getTrackFeatures('4M44ezhmtmWq97SZATK9eD')\n",
        "df = df.sort_index().reset_index(drop=True)"
      ]
    },
    {
      "cell_type": "code",
      "execution_count": null,
      "metadata": {
        "colab": {
          "base_uri": "https://localhost:8080/"
        },
        "id": "wj-VYjESsrkY",
        "outputId": "9841fe41-92aa-48c9-cc62-4c83eb2951ef"
      },
      "outputs": [],
      "source": [
        "print(charts_no_duplicate.loc[5905])\n",
        "df.loc[5904.5] = getTrackFeatures('2vJVTVxLUZHjxan5UtBe1V')\n",
        "df = df.sort_index().reset_index(drop=True)"
      ]
    },
    {
      "cell_type": "code",
      "execution_count": null,
      "metadata": {
        "colab": {
          "base_uri": "https://localhost:8080/"
        },
        "id": "nqvH5p-Hs92f",
        "outputId": "c0e90b31-aabb-462e-b8d0-8452d4653229"
      },
      "outputs": [],
      "source": [
        "print(charts_no_duplicate.loc[5915])\n",
        "df.loc[5914.5] = getTrackFeatures('0eHAYxlo3Ty9pQoht4jvG2')\n",
        "df = df.sort_index().reset_index(drop=True)"
      ]
    },
    {
      "cell_type": "code",
      "execution_count": null,
      "metadata": {
        "colab": {
          "base_uri": "https://localhost:8080/"
        },
        "id": "PqOwxBvIt7Tw",
        "outputId": "b88e110f-1239-473c-f436-da3cbd7f50c9"
      },
      "outputs": [],
      "source": [
        "print(charts_no_duplicate.loc[6022])\n",
        "df.loc[6021.5] = getTrackFeatures('3IQSYqnKsCTMLWn2xE3HFT')\n",
        "df = df.sort_index().reset_index(drop=True)"
      ]
    },
    {
      "cell_type": "code",
      "execution_count": null,
      "metadata": {
        "colab": {
          "base_uri": "https://localhost:8080/"
        },
        "id": "KVYwvHi0uE5_",
        "outputId": "b0e0126f-8251-4437-e922-09fa70cad1af"
      },
      "outputs": [],
      "source": [
        "print(charts_no_duplicate.loc[6073])\n",
        "df.loc[6072.5] = getTrackFeatures('0B8yh3jfMdQM4Xtfidm2RC')\n",
        "df = df.sort_index().reset_index(drop=True)"
      ]
    },
    {
      "cell_type": "code",
      "execution_count": null,
      "metadata": {
        "colab": {
          "base_uri": "https://localhost:8080/"
        },
        "id": "UOvvYA9AuPlu",
        "outputId": "3b85429b-7acd-438a-ab93-fe498a10a39b"
      },
      "outputs": [],
      "source": [
        "print(charts_no_duplicate.loc[6080])\n",
        "df.loc[6079.5] = getTrackFeatures('1SoP2zC2ttcI2zjuRsQ5xx')\n",
        "df = df.sort_index().reset_index(drop=True)"
      ]
    },
    {
      "cell_type": "code",
      "execution_count": null,
      "metadata": {
        "colab": {
          "base_uri": "https://localhost:8080/"
        },
        "id": "9GsV82DfuYyg",
        "outputId": "f790ea7b-8f35-4b36-f4bb-e9f0e32316e2"
      },
      "outputs": [],
      "source": [
        "print(charts_no_duplicate.loc[6105])\n",
        "df.loc[6104.5] = getTrackFeatures('12wSL3tGk3MtbDEhfG7xy3')\n",
        "df = df.sort_index().reset_index(drop=True)"
      ]
    },
    {
      "cell_type": "code",
      "execution_count": null,
      "metadata": {
        "colab": {
          "base_uri": "https://localhost:8080/"
        },
        "id": "usCq-cVjuoav",
        "outputId": "20d52dac-87a6-4c34-b0a2-5c2cbdb04a39"
      },
      "outputs": [],
      "source": [
        "print(charts_no_duplicate.loc[6107])\n",
        "df.loc[6106.5] = getTrackFeatures('6bQoVCAhcmYMPFx5pdyNj3')\n",
        "df = df.sort_index().reset_index(drop=True)"
      ]
    },
    {
      "cell_type": "code",
      "execution_count": null,
      "metadata": {
        "colab": {
          "base_uri": "https://localhost:8080/"
        },
        "id": "ZkT8qYuAu0LB",
        "outputId": "0cb5ce0c-cc61-4f20-f4fe-559a40290372"
      },
      "outputs": [],
      "source": [
        "print(charts_no_duplicate.loc[6184])\n",
        "df.loc[6183.5] = getTrackFeatures('6TfBA04WJ3X1d1wXhaCFVT')\n",
        "df = df.sort_index().reset_index(drop=True)"
      ]
    },
    {
      "cell_type": "code",
      "execution_count": null,
      "metadata": {
        "colab": {
          "base_uri": "https://localhost:8080/"
        },
        "id": "wrqf0BK9u6Zi",
        "outputId": "99e9685b-22c4-4854-cbb2-0c60efca6cb3"
      },
      "outputs": [],
      "source": [
        "print(charts_no_duplicate.loc[6216])\n",
        "df.loc[6215.5] = getTrackFeatures('4avrnJ1t946he63pkD4syn')\n",
        "df = df.sort_index().reset_index(drop=True)"
      ]
    },
    {
      "cell_type": "code",
      "execution_count": null,
      "metadata": {
        "colab": {
          "base_uri": "https://localhost:8080/"
        },
        "id": "MyPEX4UjvD4d",
        "outputId": "5873aef7-44d8-4d1d-93a6-64c83a16778c"
      },
      "outputs": [],
      "source": [
        "print(charts_no_duplicate.loc[6252])\n",
        "df.loc[6251.5] = getTrackFeatures('1xQZtbipNLyP0e0hihE5F5')\n",
        "df = df.sort_index().reset_index(drop=True)"
      ]
    },
    {
      "cell_type": "code",
      "execution_count": null,
      "metadata": {
        "colab": {
          "base_uri": "https://localhost:8080/"
        },
        "id": "0VBJzBXbvQJk",
        "outputId": "e55408ce-f7e3-4a96-c68a-439fc98f2e7c"
      },
      "outputs": [],
      "source": [
        "print(charts_no_duplicate.loc[6319])\n",
        "df.loc[6318.5] = getTrackFeatures('227pyOXIQszch2wJAzx0ny')\n",
        "df = df.sort_index().reset_index(drop=True)"
      ]
    },
    {
      "cell_type": "code",
      "execution_count": null,
      "metadata": {
        "colab": {
          "base_uri": "https://localhost:8080/"
        },
        "id": "eZ8lAsI3vYXq",
        "outputId": "89a476b8-482d-4f0a-8c2b-59c1bbd95549"
      },
      "outputs": [],
      "source": [
        "print(charts_no_duplicate.loc[6390])\n",
        "df.loc[6389.5] = getTrackFeatures('7qW9TkSOoSWI63EqzMzksJ')\n",
        "df = df.sort_index().reset_index(drop=True)"
      ]
    },
    {
      "cell_type": "code",
      "execution_count": null,
      "metadata": {
        "colab": {
          "base_uri": "https://localhost:8080/"
        },
        "id": "kw2JqHjGvtnj",
        "outputId": "bc63342e-cd28-4588-8f6b-4fb6ef00619e"
      },
      "outputs": [],
      "source": [
        "print(charts_no_duplicate.loc[6430])\n",
        "df.loc[6429.5] = getTrackFeatures('5Ga2YBqKtetWgWL2pl3g3f')\n",
        "df = df.sort_index().reset_index(drop=True)"
      ]
    },
    {
      "cell_type": "code",
      "execution_count": null,
      "metadata": {
        "colab": {
          "base_uri": "https://localhost:8080/"
        },
        "id": "ag3y0nAWv7a0",
        "outputId": "00a99197-4748-42ad-8a59-3456ca97621f"
      },
      "outputs": [],
      "source": [
        "print(charts_no_duplicate.loc[6604])\n",
        "df.loc[6603.5] = getTrackFeatures('27K0tchvM5KszaSJEX7fj5')\n",
        "df = df.sort_index().reset_index(drop=True)"
      ]
    },
    {
      "cell_type": "code",
      "execution_count": null,
      "metadata": {
        "colab": {
          "base_uri": "https://localhost:8080/"
        },
        "id": "AxabrAdawM1h",
        "outputId": "8bb21c3e-2483-4727-907d-e5c083e124d5"
      },
      "outputs": [],
      "source": [
        "print(charts_no_duplicate.loc[6616])\n",
        "df.loc[6615.5] = getTrackFeatures('59xrXDaYumkmhZtH0jMohG')\n",
        "df = df.sort_index().reset_index(drop=True)"
      ]
    },
    {
      "cell_type": "code",
      "execution_count": null,
      "metadata": {
        "colab": {
          "base_uri": "https://localhost:8080/"
        },
        "id": "NPsj6DhiwUQw",
        "outputId": "dcd9168e-aba7-42fe-c008-420c972d9e0b"
      },
      "outputs": [],
      "source": [
        "print(charts_no_duplicate.loc[6690])\n",
        "df.loc[6689.5] = getTrackFeatures('4ns1XFP3W5JPyzvnAjMdHD')\n",
        "df = df.sort_index().reset_index(drop=True)"
      ]
    },
    {
      "cell_type": "code",
      "execution_count": null,
      "metadata": {
        "colab": {
          "base_uri": "https://localhost:8080/"
        },
        "id": "YPV7lWMawjLs",
        "outputId": "fbc385fb-ff9f-4200-bd72-af27aa1ff32b"
      },
      "outputs": [],
      "source": [
        "print(charts_no_duplicate.loc[6764])\n",
        "df.loc[6763.5] = getTrackFeatures('68gSc54o9lUu8aVg3DJqYH')\n",
        "df = df.sort_index().reset_index(drop=True)"
      ]
    },
    {
      "cell_type": "code",
      "execution_count": null,
      "metadata": {
        "colab": {
          "base_uri": "https://localhost:8080/"
        },
        "id": "Tbq0YXZxwslg",
        "outputId": "b9d7c406-2d65-4d26-ee48-f1a4a73117bf"
      },
      "outputs": [],
      "source": [
        "print(charts_no_duplicate.loc[6819])\n",
        "df.loc[6818.5] = getTrackFeatures('6lptYvvpxe3LIFgEAoQ8DG')\n",
        "df = df.sort_index().reset_index(drop=True)"
      ]
    },
    {
      "cell_type": "code",
      "execution_count": null,
      "metadata": {
        "colab": {
          "base_uri": "https://localhost:8080/"
        },
        "id": "lKwZ8gHVxOef",
        "outputId": "265e63ff-aacd-47e5-f074-8a976c2f6051"
      },
      "outputs": [],
      "source": [
        "print(charts_no_duplicate.loc[6866])\n",
        "df.loc[6865.5] = getTrackFeatures('0EKBV6GybPtALXUgWqWrym')\n",
        "df = df.sort_index().reset_index(drop=True)"
      ]
    },
    {
      "cell_type": "code",
      "execution_count": null,
      "metadata": {
        "colab": {
          "base_uri": "https://localhost:8080/"
        },
        "id": "HUZgB5puxWZC",
        "outputId": "b042feb0-90c0-4bd2-9129-056d1da842a2"
      },
      "outputs": [],
      "source": [
        "print(charts_no_duplicate.loc[6881])\n",
        "df.loc[6880.5] = getTrackFeatures('1AfkyOZmDWuJ9miRTrIHKE')\n",
        "df = df.sort_index().reset_index(drop=True)"
      ]
    },
    {
      "cell_type": "code",
      "execution_count": null,
      "metadata": {
        "colab": {
          "base_uri": "https://localhost:8080/"
        },
        "id": "bGRlofPixur2",
        "outputId": "7495595d-187f-4acc-8987-a5f0e424090f"
      },
      "outputs": [],
      "source": [
        "print(charts_no_duplicate.loc[7215])\n",
        "df.loc[7214.5] = getTrackFeatures('1lih9AUGlOI2qbAkptdBsr')\n",
        "df = df.sort_index().reset_index(drop=True)"
      ]
    },
    {
      "cell_type": "code",
      "execution_count": null,
      "metadata": {
        "colab": {
          "base_uri": "https://localhost:8080/"
        },
        "id": "GFOFKO7Ix38G",
        "outputId": "60124452-5335-42dc-dc13-3b5a71a75ade"
      },
      "outputs": [],
      "source": [
        "print(charts_no_duplicate.loc[7374])\n",
        "df.loc[7373.5] = getTrackFeatures('401olpZBrdF03wa5lJfgdy')\n",
        "df = df.sort_index().reset_index(drop=True)"
      ]
    },
    {
      "cell_type": "code",
      "execution_count": null,
      "metadata": {
        "colab": {
          "base_uri": "https://localhost:8080/"
        },
        "id": "CWZ7Sve2yB6E",
        "outputId": "7c7c9cd5-0993-4d0d-8938-ff2b58b07123"
      },
      "outputs": [],
      "source": [
        "print(charts_no_duplicate.loc[7382])\n",
        "df.loc[7381.5] = getTrackFeatures('0o995gJCGebaza0LWybToU')\n",
        "df = df.sort_index().reset_index(drop=True)"
      ]
    },
    {
      "cell_type": "code",
      "execution_count": null,
      "metadata": {
        "colab": {
          "base_uri": "https://localhost:8080/"
        },
        "id": "IXmVgu09yJC_",
        "outputId": "4b370733-a9d2-4f4a-ab9f-3476f8dea849"
      },
      "outputs": [],
      "source": [
        "print(charts_no_duplicate.loc[7497])\n",
        "df.loc[7496.5] = getTrackFeatures('3ExcxvkepzqXKkf8tfZlI8')\n",
        "df = df.sort_index().reset_index(drop=True)"
      ]
    },
    {
      "cell_type": "code",
      "execution_count": null,
      "metadata": {
        "colab": {
          "base_uri": "https://localhost:8080/"
        },
        "id": "Nwt6lQU8yTLl",
        "outputId": "80e12c1b-5b4f-4a98-9a2a-582e3919275f"
      },
      "outputs": [],
      "source": [
        "print(charts_no_duplicate.loc[7547])\n",
        "df.loc[7546.5] = getTrackFeatures('5KdyG61gbN8d66qjPl2UIz')\n",
        "df = df.sort_index().reset_index(drop=True)"
      ]
    },
    {
      "cell_type": "code",
      "execution_count": null,
      "metadata": {
        "colab": {
          "base_uri": "https://localhost:8080/"
        },
        "id": "5wnARrgwyeID",
        "outputId": "a68e387b-778f-4e28-d488-f45000f11b23"
      },
      "outputs": [],
      "source": [
        "print(charts_no_duplicate.loc[7902])\n",
        "df.loc[7901.5] = getTrackFeatures('510Efpc9eTTSe038rqZwfC')\n",
        "df = df.sort_index().reset_index(drop=True)"
      ]
    },
    {
      "cell_type": "code",
      "execution_count": null,
      "metadata": {
        "colab": {
          "base_uri": "https://localhost:8080/"
        },
        "id": "uPkUdZ2YytyQ",
        "outputId": "0f3184bd-0a31-40c2-e30a-384e2b426bb1"
      },
      "outputs": [],
      "source": [
        "print(charts_no_duplicate.loc[7910])\n",
        "df.loc[7909.5] = getTrackFeatures('0q7z99dIbw37rabJtGBZt5')\n",
        "df = df.sort_index().reset_index(drop=True)"
      ]
    },
    {
      "cell_type": "code",
      "execution_count": null,
      "metadata": {
        "colab": {
          "base_uri": "https://localhost:8080/"
        },
        "id": "MpPzyH-8y4-8",
        "outputId": "c89e7846-d826-4db9-eedb-416654e7a7b6"
      },
      "outputs": [],
      "source": [
        "print(charts_no_duplicate.loc[8148])\n",
        "df.loc[8147.5] = getTrackFeatures('5S5TBPy2x24wXbkzpjHdIg')\n",
        "df = df.sort_index().reset_index(drop=True)"
      ]
    },
    {
      "cell_type": "code",
      "execution_count": null,
      "metadata": {
        "colab": {
          "base_uri": "https://localhost:8080/"
        },
        "id": "gzO84hJ0zUPB",
        "outputId": "d4660406-4487-4fc8-e830-f8707c0d5bdc"
      },
      "outputs": [],
      "source": [
        "print(charts_no_duplicate.loc[8170])\n",
        "df.loc[8169.5] = getTrackFeatures('3Mkegm3Crq0YEw04lLg0J4')\n",
        "df = df.sort_index().reset_index(drop=True)"
      ]
    },
    {
      "cell_type": "code",
      "execution_count": null,
      "metadata": {
        "colab": {
          "base_uri": "https://localhost:8080/"
        },
        "id": "okoVVviH0K7Q",
        "outputId": "1fd477f4-8d69-4cf0-9371-8b77fba58a87"
      },
      "outputs": [],
      "source": [
        "print(charts_no_duplicate.loc[8206])\n",
        "df.loc[8205.5] = getTrackFeatures('39YovPslPCXbFYhlYjsZ2Y')\n",
        "df = df.sort_index().reset_index(drop=True)"
      ]
    },
    {
      "cell_type": "code",
      "execution_count": null,
      "metadata": {
        "colab": {
          "base_uri": "https://localhost:8080/"
        },
        "id": "bd7pHjzq0UpQ",
        "outputId": "975643cb-5f0b-4e83-db6a-1c7ad80f0b35"
      },
      "outputs": [],
      "source": [
        "print(charts_no_duplicate.loc[8333])\n",
        "df.loc[8332.5] = getTrackFeatures('2rh1HEbkalvTKVhooKdePe')\n",
        "df = df.sort_index().reset_index(drop=True)"
      ]
    },
    {
      "cell_type": "code",
      "execution_count": null,
      "metadata": {
        "colab": {
          "base_uri": "https://localhost:8080/"
        },
        "id": "J0QE36Nm0bAS",
        "outputId": "6a0b3b8b-b03d-4a2f-d3f7-dc3a7fed192e"
      },
      "outputs": [],
      "source": [
        "print(charts_no_duplicate.loc[8390])\n",
        "df.loc[8389.5] = getTrackFeatures('6lvOjbVbunXeDBOEY3QDdZ')\n",
        "df = df.sort_index().reset_index(drop=True)"
      ]
    },
    {
      "cell_type": "code",
      "execution_count": null,
      "metadata": {
        "colab": {
          "base_uri": "https://localhost:8080/"
        },
        "id": "qiyYVZhc0nHe",
        "outputId": "3385fcbe-08b9-4db4-8148-ca9e9329f9a7"
      },
      "outputs": [],
      "source": [
        "print(charts_no_duplicate.loc[8515])\n",
        "df.loc[8514.5] = getTrackFeatures('0jdkdbnRwNVHJQ6zL84pQs')\n",
        "df = df.sort_index().reset_index(drop=True)"
      ]
    },
    {
      "cell_type": "code",
      "execution_count": null,
      "metadata": {
        "colab": {
          "base_uri": "https://localhost:8080/"
        },
        "id": "v7eqd7O-078L",
        "outputId": "7012537c-dbfa-49fe-9a88-b3f8ee67991f"
      },
      "outputs": [],
      "source": [
        "print(charts_no_duplicate.loc[8631])\n",
        "df.loc[8630.5] = getTrackFeatures('4EGnzfHA9pWcXxcPL4pSRN')\n",
        "df = df.sort_index().reset_index(drop=True)"
      ]
    },
    {
      "cell_type": "code",
      "execution_count": null,
      "metadata": {
        "colab": {
          "base_uri": "https://localhost:8080/"
        },
        "id": "TQQZENeb1G0i",
        "outputId": "01e266d1-ce7e-4734-f2d7-b59d80287622"
      },
      "outputs": [],
      "source": [
        "print(charts_no_duplicate.loc[8747])\n",
        "df.loc[8746.5] = getTrackFeatures('4iihDHIoKZdOeOW1kFDUtR')\n",
        "df = df.sort_index().reset_index(drop=True)"
      ]
    },
    {
      "cell_type": "code",
      "execution_count": null,
      "metadata": {
        "colab": {
          "base_uri": "https://localhost:8080/"
        },
        "id": "AORi9CdT1Rbk",
        "outputId": "3438a08f-e713-4f7a-80a0-bc92ee86b0dc"
      },
      "outputs": [],
      "source": [
        "print(charts_no_duplicate.loc[8952])\n",
        "df.loc[8951.5] = getTrackFeatures('5d8woPn6sHRA6yPnnHnqSt')\n",
        "df = df.sort_index().reset_index(drop=True)"
      ]
    },
    {
      "cell_type": "code",
      "execution_count": null,
      "metadata": {
        "colab": {
          "base_uri": "https://localhost:8080/"
        },
        "id": "dVYG5Tiy1j25",
        "outputId": "b275e55d-2bd2-4388-f92f-44c191846254"
      },
      "outputs": [],
      "source": [
        "print(charts_no_duplicate.loc[8955])\n",
        "df.loc[8954.5] = getTrackFeatures('1migZXJuB0tB2pFucCtEm5')\n",
        "df = df.sort_index().reset_index(drop=True)"
      ]
    },
    {
      "cell_type": "code",
      "execution_count": null,
      "metadata": {
        "colab": {
          "base_uri": "https://localhost:8080/"
        },
        "id": "A3-NQBzw2CQN",
        "outputId": "84effdd2-fb6b-4408-b3d5-baa192adef70"
      },
      "outputs": [],
      "source": [
        "print(charts_no_duplicate.loc[9014])\n",
        "df.loc[9013.5] = getTrackFeatures('3u25S5XdV8goD3piUSZRw6')\n",
        "df = df.sort_index().reset_index(drop=True)"
      ]
    },
    {
      "cell_type": "code",
      "execution_count": null,
      "metadata": {
        "colab": {
          "base_uri": "https://localhost:8080/"
        },
        "id": "nBfWK-dBEF2f",
        "outputId": "2bd84fa4-f1a8-43de-909c-3868dbf8910d"
      },
      "outputs": [],
      "source": [
        "# Check for missing data values\n",
        "df[df['name'] == ' '].index"
      ]
    },
    {
      "cell_type": "code",
      "execution_count": null,
      "metadata": {
        "id": "cOuF8AD9i6La"
      },
      "outputs": [],
      "source": [
        "# Manually add the spotify ID for the missing songs\n",
        "df.loc[112] = getTrackFeatures('58T4yPLn4NjBYXfRxeweyM')\n",
        "df.loc[113] = getTrackFeatures('25r6MZ4Gtd76l43qnZI1DG')\n",
        "df.loc[114] = getTrackFeatures('4iJyoBOLtHqaGxP12qzhQI')\n",
        "df.loc[209] = getTrackFeatures('6SRsiMl7w1USE4mFqrOhHC')\n",
        "df.loc[262] = getTrackFeatures('4ka1FkKAMde6dQAFFMXKac')\n",
        "df.loc[624] = getTrackFeatures('2EjXfH91m7f8HiJN1yQg97')"
      ]
    },
    {
      "cell_type": "code",
      "execution_count": null,
      "metadata": {
        "colab": {
          "base_uri": "https://localhost:8080/"
        },
        "id": "35h_JddvlVZW",
        "outputId": "848171f4-d020-4fe4-96a0-76be05d2b32f"
      },
      "outputs": [],
      "source": [
        "print(\n",
        "df.loc[112],\n",
        "df.loc[113],\n",
        "df.loc[114],\n",
        "df.loc[209],\n",
        "df.loc[262],\n",
        "df.loc[624],)\n",
        "# df.loc[7392]) spotify data is empty"
      ]
    },
    {
      "cell_type": "code",
      "execution_count": 38,
      "metadata": {},
      "outputs": [],
      "source": [
        "# df = pd.read_csv('df.csv',index_col=0)\n",
        "# df = df.drop('id',axis=1)"
      ]
    },
    {
      "cell_type": "code",
      "execution_count": 61,
      "metadata": {},
      "outputs": [],
      "source": [
        "# Fix erroroneous and duplicate songs\n",
        "df.loc[22]=getTrackFeatures('07MDkzWARZaLEdKxo6yArG')\n",
        "df.loc[27]=getTrackFeatures('3qwnYfT6vhs5gNRjXSLAwR')\n",
        "df.loc[65]=getTrackFeatures('4rPkN1FMzQyFNP9cLUGIIB')\n",
        "df.loc[98]=getTrackFeatures('3krZxyBsWEHfEfJegYaWTd')\n",
        "df.loc[106]=getTrackFeatures('1XRzIGsdYaLi0jHeGlcHGP')\n",
        "df.loc[125]=getTrackFeatures('5qyZ6LcHvBiIHLaoED8K4g')\n",
        "df.loc[128]=getTrackFeatures('488HG8lR11JswT2YgcWGRB')\n",
        "df.loc[135]=getTrackFeatures('4YFPUYwA9Jmk9xQYCbz3zb')\n",
        "df.loc[137]=getTrackFeatures('4VCbgIdr8ptegWeJpqLVHH')\n",
        "df.loc[147]=getTrackFeatures('6KgtcmCF9Ky68XC7ezxl3s')\n",
        "df.loc[169]=getTrackFeatures('63aj87TQG6F3RVO5nbG2VQ')\n",
        "df.loc[172]=getTrackFeatures('1058fW9H3fZA6QjYCdOBad')\n",
        "df.loc[185]=getTrackFeatures('3RkNXZvOSMMElmmXztDc94')\n",
        "df.loc[210]=getTrackFeatures('2dNhNlpZAtV4lwAFW45LIv')\n",
        "df.loc[219]=getTrackFeatures('0NmuYnjETG3u3qx0OmEJev')\n",
        "df.loc[228]=getTrackFeatures('2BITQ360Knh6qNAOqR7Dyq')\n",
        "df.loc[229]=getTrackFeatures('2cc8Sw1OnCuA5bV8nqWqpE')\n",
        "df.loc[233]=getTrackFeatures('04EHa1ZzBl8OPvcnddph4p')\n",
        "df.loc[248]=getTrackFeatures('1KBN9lYx9QkfUJC3NSXlhQ')\n",
        "df.loc[251]=getTrackFeatures('2AJvoUXSml9cDzQdsk1pEG')\n",
        "df.loc[261]=getTrackFeatures('7nVERWQXlgZRQsYw4fHf3b')\n",
        "df.loc[266]=getTrackFeatures('7Bk0uXKk1uPT0XuQbpFzvs')\n",
        "df.loc[295]=getTrackFeatures('3Zg68ElzsOAHABZsfXlljo')\n",
        "df.loc[298]=getTrackFeatures('3DMs7bahbQTnoxCjgP7qoK')\n",
        "df.loc[301]=getTrackFeatures('24YG5Z8Of1VHovrfXsbvCZ')\n",
        "df.loc[314]=getTrackFeatures('1aU1wpYBSpP0M6IiihY5Ue')\n",
        "df.loc[336]=getTrackFeatures('4Hta7Oy5W9HD0UgT1P8PPV')\n",
        "df.loc[342]=getTrackFeatures('3R6wLBD4oU6op8L4YfMho9')\n",
        "df.loc[347]=getTrackFeatures('1diS6nkxMQc3wwC4G1j0bh')\n",
        "df.loc[356]=getTrackFeatures('3v1zVVdzNVNt7vmI9VG2gq')\n",
        "df.loc[357]=getTrackFeatures('4N4wemxs9Em6nJ5kXTjEsS')\n",
        "df.loc[368]=getTrackFeatures('3vJKLsUYcC7mARUTOMUPaJ')\n",
        "df.loc[370]=getTrackFeatures('1huoY7hw3hGVGfuPPe9y8P')\n",
        "df.loc[371]=getTrackFeatures('3jweuceENR5zzn10LhcjPH')\n",
        "df.loc[375]=getTrackFeatures('5LtzwqIWPXKEYfVcaY3bjc')\n",
        "df.loc[379]=getTrackFeatures('3zWR0zS9p39c0FVkYkHfVF')\n",
        "df.loc[382]=getTrackFeatures('1EXRmdtTA2IEnYGiuw9plD')\n",
        "df.loc[387]=getTrackFeatures('7zl7kehxesNEo2pYkKXTSe')\n",
        "df.loc[388]=getTrackFeatures('2cnKST6T9qUo2i907lm8zX')\n",
        "df.loc[390]=getTrackFeatures('6rTInqW3YECMkQsBEHw4sd')\n",
        "df.loc[393]=getTrackFeatures('5R691ipUYRDYW6ehapjoj6')\n",
        "df.loc[397]=getTrackFeatures('2MnLkFqY9Rpg9s3Zv6ZJdK')\n",
        "df.loc[399]=getTrackFeatures('1d7q712nXjG98HiwHk7HFS')\n",
        "df.loc[401]=getTrackFeatures('4n6NDfYake476trCjJRNl0')\n",
        "df.loc[407]=getTrackFeatures('4YiY551vHi6glMtgVxuqAy')\n",
        "df.loc[416]=getTrackFeatures('0939D7aT18uBDS2MTjWzct')\n",
        "df.loc[427]=getTrackFeatures('3FE6cfCDhmhOraeSLPe6Vj')\n",
        "df.loc[432]=getTrackFeatures('20GrahbI4AzAOWxpYfDKkf')\n",
        "df.loc[435]=getTrackFeatures('53tv6ZbyeAwfAUwFaxYbfO')\n",
        "df.loc[436]=getTrackFeatures('1cEhrSF6EylAEqdhUGuNpX')\n",
        "df.loc[439]=getTrackFeatures('04wzgTWP6YU07PdUjm0XzG')\n",
        "df.loc[443]=getTrackFeatures('5OypcrFg58e4k2iYHi69ED')\n",
        "df.loc[446]=getTrackFeatures('2ES75ADP1RR9TQmYqtDtyB')\n",
        "df.loc[450]=getTrackFeatures('5suOUHDyRxvWDYF5GA6dly')\n",
        "df.loc[501]=getTrackFeatures('1jReouUURqZ4LmgJ7bgXA3')\n",
        "df.loc[517]=getTrackFeatures('7aely3H8kMj9o0gt6vXHE1')\n",
        "df.loc[519]=getTrackFeatures('2tB9OFgAHjAds3cqquLlvp')\n",
        "df.loc[521]=getTrackFeatures('2xlOJSbScxrHHOmlNmILpD')\n",
        "df.loc[526]=getTrackFeatures('2MZrOmrVxRmmOoFW6dhenG')\n",
        "df.loc[533]=getTrackFeatures('7ighoI7pr7eE4r0gyXZwX7')\n",
        "df.loc[536]=getTrackFeatures('0osvOdeD3YXZiWkT8MKolJ')\n",
        "df.loc[554]=getTrackFeatures('5cMoYjSCddCVVRUiVRv88q')\n",
        "df.loc[558]=getTrackFeatures('7Ei7kZxjEw9d76cEDxoxua')\n",
        "df.loc[565]=getTrackFeatures('7ytR5pFWmSjzHJIeQkgog4')\n",
        "df.loc[567]=getTrackFeatures('0tQmgwFKw9069z1BXniOiA')\n",
        "df.loc[594]=getTrackFeatures('73O30uMI7n6DuzBmbtO7kC')\n",
        "df.loc[599]=getTrackFeatures('0FJdg6Fh9Js4XmbnML18ZZ')\n",
        "df.loc[611]=getTrackFeatures('2sXydP9vPEYUH4uAWotuGu')\n",
        "df.loc[643]=getTrackFeatures('5ASM6Qjiav2xPe7gRkQMsQ')\n",
        "df.loc[648]=getTrackFeatures('46pF1zFimM582ss1PrMy68')\n",
        "df.loc[654]=getTrackFeatures('6ZgigeSB0XUMqc0jjzaq6d')\n",
        "df.loc[663]=getTrackFeatures('4lftz0V8DZhWSVtL4GrzMH')\n",
        "df.loc[664]=getTrackFeatures('2olKV1Kl0yp2WdK78jcFsR')\n",
        "df.loc[680]=getTrackFeatures('3O5osWf1rSoKMwe6E9ZaXP')\n",
        "df.loc[698]=getTrackFeatures('1Ri9P0ZPrqr6h0REDRdJBd')\n",
        "df.loc[699]=getTrackFeatures('3yv7994DWTEk3ihwy75YBQ')\n",
        "df.loc[718]=getTrackFeatures('5Y05LYM8LhnQN78GqfjSeK')\n",
        "df.loc[727]=getTrackFeatures('1SBgI8NDCkKLFFQgwzmsVX')\n",
        "df.loc[736]=getTrackFeatures('5n6gBhdEjCuj3obgCoTEFD')\n",
        "df.loc[742]=getTrackFeatures('7liO3TEHfUqLnIlN54CW1D')\n",
        "df.loc[743]=getTrackFeatures('0DUHmrwC8ZviGGC2o2JBy1')\n",
        "df.loc[744]=getTrackFeatures('2T5NBwKRySiCR78vVk08vr')\n",
        "df.loc[745]=getTrackFeatures('6GK5du9ndZ7ZwMBrTRTGMH')\n",
        "df.loc[757]=getTrackFeatures('4x3mum2YGHtIBrgUKiNt4F')\n",
        "df.loc[760]=getTrackFeatures('4g27tVPyGHi38dczFoJZZy')\n",
        "df.loc[762]=getTrackFeatures('6V20oVETqPBJ4suIEoEkIY')\n",
        "df.loc[771]=getTrackFeatures('017PF4Q3l4DBUiWoXk4OWT')\n",
        "df.loc[779]=getTrackFeatures('0YYNIGKgAk34vZkV2NySie')\n",
        "df.loc[785]=getTrackFeatures('3zxAw8PaqpeGZ3Pakkxv3J')\n",
        "df.loc[789]=getTrackFeatures('0EhpEsp4L0oRGM0vmeaN5e')\n",
        "df.loc[799]=getTrackFeatures('1cdbkpZ3q1KYZDNSrOpdkb')\n",
        "df.loc[801]=getTrackFeatures('3H7ihDc1dqLriiWXwsc2po')\n",
        "df.loc[807]=getTrackFeatures('5W3z7a1dBlERTBAye0murh')\n",
        "df.loc[814]=getTrackFeatures('3CDVMejYHnB1SkEEx0T1N4')\n",
        "df.loc[818]=getTrackFeatures('42Tohunwlh34o0mgxYx5iq')\n",
        "df.loc[832]=getTrackFeatures('6gxKUmycQX7uyMwJcweFjp')\n",
        "df.loc[833]=getTrackFeatures('4EivmOT13NMpNSfTKn9p4s')\n",
        "df.loc[834]=getTrackFeatures('58AGoOGbwsQMhBbH0eFLRR')\n",
        "df.loc[838]=getTrackFeatures('1ULW2IkewU0JDXPZahqqdh')\n",
        "df.loc[845]=getTrackFeatures('7IECs9d4Rrlpa7tiHOCE1w')\n",
        "df.loc[847]=getTrackFeatures('7e1VoRlNumuEkXlITMHKLE')\n",
        "df.loc[876]=getTrackFeatures('5o6dFqafETxZNqUFt9ZqAC')\n",
        "df.loc[886]=getTrackFeatures('661wc0CTq5MbppEG6zYP5n')\n",
        "df.loc[903]=getTrackFeatures('0PXukVbYpvz40KcEFKnIw7')\n",
        "df.loc[923]=getTrackFeatures('0FlfN5cbUUpIHCRH8X1M44')\n",
        "df.loc[927]=getTrackFeatures('2t7D3y0jvYjR8IP9Bosyew')\n",
        "df.loc[939]=getTrackFeatures('4PPLJAEYBSOcnzr9TZoqf9')\n",
        "df.loc[958]=getTrackFeatures('2FhEj9lvEIaJihjFprRrGt')\n",
        "df.loc[960]=getTrackFeatures('3eV2WT9YhfzkxbufnBF8wK')\n",
        "df.loc[964]=getTrackFeatures('4Tc9PHEoeP17PQj3OOKXPu')\n",
        "df.loc[966]=getTrackFeatures('3JwxpSpGaXmGqLwWN6D6eC')\n",
        "df.loc[979]=getTrackFeatures('4HDCLYli2SUdkq9OjmvhSD')\n",
        "df.loc[983]=getTrackFeatures('77fvnWALKJR0ws1VUx09CY')\n",
        "df.loc[985]=getTrackFeatures('0Al3wN3keprGTSgG8NBwjr')\n",
        "df.loc[995]=getTrackFeatures('6coQRrNFWTS9YsIbxLzDDo')\n",
        "df.loc[1001]=getTrackFeatures('3yOlyBJuViE2YSGn3nVE1K')\n",
        "df.loc[1007]=getTrackFeatures('5raTDhlbxFDnpn89bxArdH')\n",
        "df.loc[1037]=getTrackFeatures('3QzAOrNlsabgbMwlZt7TAY')\n",
        "df.loc[1039]=getTrackFeatures('021lWIHJrURZrmvYQ1xcM8')\n",
        "df.loc[1047]=getTrackFeatures('3cFHCXuBZKMJd8Q4Wt8RB3')\n",
        "df.loc[1049]=getTrackFeatures('3TciLI5wo7RddPtAFhiU9V')\n",
        "df.loc[1064]=getTrackFeatures('0oT9ElXYSxvnOOagP9efDq')\n",
        "df.loc[1071]=getTrackFeatures('05aZ9sAU1YXndHv0FMi9iW')\n",
        "df.loc[1080]=getTrackFeatures('2rTnVB1bvwxHtaIl4uVu7f')\n",
        "df.loc[1083]=getTrackFeatures('7KSSdFCBHCfq4KPzz78ghk')\n",
        "df.loc[1084]=getTrackFeatures('3TTMUI5dFcbeNSDTTDY9M8')\n",
        "df.loc[1092]=getTrackFeatures('485RHcQUM5qotAlfutUhwT')\n",
        "df.loc[1099]=getTrackFeatures('3oHiR89Y8gn6xt3YGAAzFj')\n",
        "df.loc[1105]=getTrackFeatures('5gNOINI5dXZVom2b36LMOd')\n",
        "df.loc[1109]=getTrackFeatures('57crda5Lx9OVaYCzb4Wrnd')\n",
        "df.loc[1111]=getTrackFeatures('6ChpgWt7s2ksM1Y3l0D9sk')\n",
        "df.loc[1112]=getTrackFeatures('7k4t7uLgtOxPwTpFmtJNTY')\n",
        "df.loc[1113]=getTrackFeatures('5rFGVn8fCFjnRwCebW0XbS')\n",
        "df.loc[1121]=getTrackFeatures('463PQggkmk5tTw8ug0ahOX')\n",
        "df.loc[1145]=getTrackFeatures('3LnJM1B5Mjgx5LfT9plXUU')\n",
        "df.loc[1147]=getTrackFeatures('3AzjcOeAmA57TIOr9zF1ZW')\n",
        "df.loc[1153]=getTrackFeatures('3Z0oQ8r78OUaHvGPiDBR3W')\n",
        "df.loc[1173]=getTrackFeatures('19Ec2gbNtQTE44IizcPjtD')\n",
        "df.loc[1181]=getTrackFeatures('5erLs80hB2TbFWgSAbVQpe')\n",
        "df.loc[1193]=getTrackFeatures('1xcOYJxDa5pObgxY1r0I9c')\n",
        "df.loc[1199]=getTrackFeatures('7f5trao56t7sB7f14QDTmp')\n",
        "df.loc[1208]=getTrackFeatures('0TK2YIli7K1leLovkQiNik')\n",
        "df.loc[1216]=getTrackFeatures('3EVzllf30zIBAtKb75bs1W')\n",
        "df.loc[1219]=getTrackFeatures('733c1CWmIGymoQXdp7Us88')\n",
        "df.loc[1223]=getTrackFeatures('5ixKkLQSriCQakDWbdW8qD')\n",
        "df.loc[1227]=getTrackFeatures('3PSUg0M68bXMb8vQJIPMZO')\n",
        "df.loc[1230]=getTrackFeatures('3HVWdVOQ0ZA45FuZGSfvns')\n",
        "df.loc[1236]=getTrackFeatures('2ZlCGeK30BLRNSPC832pNZ')\n",
        "df.loc[1239]=getTrackFeatures('2FvD20Z8aoWIePi7PoN8sG')\n",
        "df.loc[1246]=getTrackFeatures('7HMmFQsKsljwTw8bS7lu19')\n",
        "df.loc[1251]=getTrackFeatures('6Gg1gjgKi2AK4e0qzsR7sd')\n",
        "df.loc[1257]=getTrackFeatures('3o0nkjyy6eZL5lZcEpvJec')\n",
        "df.loc[1261]=getTrackFeatures('5Z8HZM6iQMhhqyPcCGY5g9')\n",
        "df.loc[1264]=getTrackFeatures('1bRO28yzxgO3y3UmNR29TZ')\n",
        "df.loc[1270]=getTrackFeatures('6fvqvUQr12qghH4N8gpAch')\n",
        "df.loc[1272]=getTrackFeatures('4CMrdHWqic0usIZfTrKoI3')\n",
        "df.loc[1283]=getTrackFeatures('5HqRQwSAPAgJBQ3bhtpUTg')\n",
        "df.loc[1284]=getTrackFeatures('5VwwpU7KsLhgfbMEecedhJ')\n",
        "df.loc[1318]=getTrackFeatures('1GIYmwtBbPSHrqcSaukZck')\n",
        "df.loc[1320]=getTrackFeatures('6ztvsy3C6hPjVg9j4x1XKJ')\n",
        "df.loc[1323]=getTrackFeatures('1bIEvOOqf2V3QBrFiClE3Y')\n",
        "df.loc[1329]=getTrackFeatures('4sjiIpEv617LDXaidKioOI')\n",
        "df.loc[1334]=getTrackFeatures('6uJONCdr2rC65BNmCnTBWK')\n",
        "df.loc[1335]=getTrackFeatures('7LGWmZaoS7jZJ5tEi9EcDi')\n",
        "df.loc[1338]=getTrackFeatures('4AO1XhrgJczQ9bNVxdfKQe')\n",
        "df.loc[1339]=getTrackFeatures('1lOe9qE0vR9zwWQAOk6CoO')\n",
        "df.loc[1340]=getTrackFeatures('5MPPttjfGap2C6j6eKcO6J')\n",
        "df.loc[1343]=getTrackFeatures('3Kd6Wp3lG5HXMB2dlvuy7y')\n",
        "df.loc[1348]=getTrackFeatures('2ksOAxtIxY8yElEWw8RhgK')\n",
        "df.loc[1369]=getTrackFeatures('50WeOnXhM1H7AZEeIDoWfZ')\n",
        "df.loc[1380]=getTrackFeatures('421eObjg0DTm2qajJl5OJm')\n",
        "df.loc[1381]=getTrackFeatures('0fea68AdmYNygeTGI4RC18')\n",
        "df.loc[1382]=getTrackFeatures('0t3ZvGKlmYmVsDzBJAXK8C')\n",
        "df.loc[1386]=getTrackFeatures('1FxTz4x5X7ewAICkKhB3kA')\n",
        "df.loc[1393]=getTrackFeatures('6Qs4SXO9dwPj5GKvVOv8Ki')\n",
        "df.loc[1394]=getTrackFeatures('0Odu228D0yGcFySGuxU4rY')\n",
        "df.loc[1403]=getTrackFeatures('3y8xKFhQWc8DARB3fuGMGA')\n",
        "df.loc[1407]=getTrackFeatures('31dgrKXIJ7FCxlENs8uxuo')\n",
        "df.loc[1427]=getTrackFeatures('454Epa1vrCGFddHXKyC1kb')\n",
        "df.loc[1428]=getTrackFeatures('7r6aR2f57resC5r93LwMfK')\n",
        "df.loc[1431]=getTrackFeatures('6zegtH6XXd2PDPLvy1Y0n2')\n",
        "df.loc[1432]=getTrackFeatures('3KkXRkHbMCARz0aVfEt68P')\n",
        "df.loc[1442]=getTrackFeatures('7EkiMl81fUHVwpItgtzI4r')\n",
        "df.loc[1444]=getTrackFeatures('0Ryd8975WihbObpp5cPW1t')\n",
        "df.loc[1448]=getTrackFeatures('7x9nXsowok1JszkVztI5NI')\n",
        "df.loc[1450]=getTrackFeatures('1GeNui6m825V8jP4uKiIaH')\n",
        "df.loc[1460]=getTrackFeatures('6PYnUsNEpYC7A4BS2sjw3L')\n",
        "df.loc[1462]=getTrackFeatures('2TsD9kSbgYx5fSNRsoNURE')\n",
        "df.loc[1465]=getTrackFeatures('3GX2hFAekmSduZzcS52OnR')\n",
        "df.loc[1467]=getTrackFeatures('0WoAkdHmgPmEXfiBox1flk')\n",
        "df.loc[1468]=getTrackFeatures('7vxGCUPJhe0fXfBkwVPFcP')\n",
        "df.loc[1487]=getTrackFeatures('4o05DiC0RQ9DNtGJGauwna')\n",
        "df.loc[1509]=getTrackFeatures('2Rk4JlNc2TPmZe2af99d45')\n",
        "df.loc[1536]=getTrackFeatures('59ywHNwwchG4nZJMLyxSzd')\n",
        "df.loc[1539]=getTrackFeatures('6igOR5QCn09zAVF2ikZjsV')\n",
        "df.loc[1541]=getTrackFeatures('2sqsNXfN0HtgDEgaHXiUTa')\n",
        "df.loc[1544]=getTrackFeatures('4e34Qq2lkp92egwgjacVcT')\n",
        "df.loc[1546]=getTrackFeatures('1yBbxDXEfr8boXM1ubvBHi')\n",
        "df.loc[1548]=getTrackFeatures('4hanO6Du5J7QEguNHYZHmw')\n",
        "df.loc[1550]=getTrackFeatures('2dpaYNEQHiRxtZbfNsse99')\n",
        "df.loc[1556]=getTrackFeatures('0BnTBAGmr9FtYwkZrwKhwS')\n",
        "df.loc[1558]=getTrackFeatures('3doNvO8zrwzcM0PJrcn8Rb')\n",
        "df.loc[1560]=getTrackFeatures('6irE4Fbjbry3czv7mTxVSB')\n",
        "df.loc[1563]=getTrackFeatures('5rU6kDNXZLXIinFezpbWbO')\n",
        "df.loc[1564]=getTrackFeatures('4cEONREpY8NQJMuGQP95Kl')\n",
        "df.loc[1570]=getTrackFeatures('4n4BflhWjCHIxrI4v7Xt9s')\n",
        "df.loc[1580]=getTrackFeatures('4wuCQX7JvAZLlrcmH4AeZF')\n",
        "df.loc[1585]=getTrackFeatures('67xBtV07CC73eFw7z5oCvU')\n",
        "df.loc[1586]=getTrackFeatures('5iwz1NiezX7WWjnCgY5TH4')\n",
        "df.loc[1592]=getTrackFeatures('5w9c2J52mkdntKOmRLeM2m')\n",
        "df.loc[1598]=getTrackFeatures('0AtP8EkGPn6SwxKDaUuXec')\n",
        "df.loc[1625]=getTrackFeatures('4U6ubKsTd8RBDP5tPPhh7I')\n",
        "df.loc[1654]=getTrackFeatures('6O10oTtZIZ4DkkUqyfCbrR')\n",
        "df.loc[1655]=getTrackFeatures('2fVHrSxsQbJUuj9MW9zG1e')\n",
        "df.loc[1663]=getTrackFeatures('0b6UoVjUzFyZNpHI0aAhKt')\n",
        "df.loc[1664]=getTrackFeatures('6Dq8FZrvx9S28iyaKSwn9x')\n",
        "df.loc[1671]=getTrackFeatures('6xVhqLT40s5sVhepe9Mckc')\n",
        "df.loc[1679]=getTrackFeatures('4vjpLMyL3ZO6aphdYr8XYw')\n",
        "df.loc[1681]=getTrackFeatures('0n2nEtLP3OzDdi12ziIekx')\n",
        "df.loc[1684]=getTrackFeatures('1R6VwZ8TuHRzxZUxe88n4I')\n",
        "df.loc[1686]=getTrackFeatures('2GjMaJ7DacMIkgoe8oMXGg')\n",
        "df.loc[1689]=getTrackFeatures('4cbdPT6uaBOgOQe3fLMofl')\n",
        "df.loc[1690]=getTrackFeatures('4AEzAEnbm9uRgbmTdeI63K')\n",
        "df.loc[1695]=getTrackFeatures('4NN6N5TxBO5k9uqu0W4gfQ')\n",
        "df.loc[1733]=getTrackFeatures('0RRm4OS5ymfZryXBuj0G2m')\n",
        "df.loc[1739]=getTrackFeatures('0KoiMHhqKLoL4xM54rcWYY')\n",
        "df.loc[1764]=getTrackFeatures('6Z4rmc0uujCpl8yXe3yjgI')\n",
        "df.loc[1775]=getTrackFeatures('6flur5o18COKeafnjLHRiJ')\n",
        "df.loc[1787]=getTrackFeatures('1q9jq5X5vwmewjOa2mHtQ1')\n",
        "df.loc[1793]=getTrackFeatures('21RzyxY3EFaxVy6K4RqaU9')\n",
        "df.loc[1794]=getTrackFeatures('2XWjPtKdi5sucFYtVav07d')\n",
        "df.loc[1811]=getTrackFeatures('3WRIaWsws011vHMd9uzPjG')\n",
        "df.loc[1812]=getTrackFeatures('5YAP8zpqj1eIX88makBjDe')\n",
        "df.loc[1845]=getTrackFeatures('4hXDobvUaXyDFLnmecoY0z')\n",
        "df.loc[1879]=getTrackFeatures('1q8PAOcnI1tciyj3BVpVhw')\n",
        "df.loc[1908]=getTrackFeatures('04ZTP5KsCypmtCmQg5tH9R')\n",
        "df.loc[1938]=getTrackFeatures('42k9e2hgl98IdgkXLg4pxs')\n",
        "df.loc[1971]=getTrackFeatures('5BQrp63SHCVf4bzCzJePne')\n",
        "df.loc[2026]=getTrackFeatures('6kPJZM97LwdG9QIsT7khp6')\n",
        "df.loc[2073]=getTrackFeatures('3L4GsGLgxpHieVQH86H8bv')\n",
        "df.loc[2117]=getTrackFeatures('2yI8omCrTAyrTcK7NRppu7')\n",
        "df.loc[2164]=getTrackFeatures('7AQim7LbvFVZJE3O8TYgf2')\n",
        "df.loc[2206]=getTrackFeatures('2qcG0nZ6S3zZV0UrkY5nFo')\n",
        "df.loc[2213]=getTrackFeatures('3DoBTwfr8yi2LN08SBpFkN')\n",
        "df.loc[2260]=getTrackFeatures('1f5PNhkNgUpvDEeZfcIlO1')\n",
        "df.loc[2300]=getTrackFeatures('7zFXmv6vqI4qOt4yGf3jYZ')\n",
        "df.loc[2371]=getTrackFeatures('3OnOomd79OjqSYHchCQ6ht')\n",
        "df.loc[2410]=getTrackFeatures('35ffVv9x4mtzBh5rF1K9sP')\n",
        "df.loc[2489]=getTrackFeatures('15EPc80XuFrb2LmOzGjuRg')\n",
        "df.loc[2501]=getTrackFeatures('7LAhKXDNWwq3CmnFP3UIOP')\n",
        "df.loc[2543]=getTrackFeatures('7F9vK8hNFMml4GtHsaXui6')\n",
        "df.loc[2574]=getTrackFeatures('0XQHz5C8PknyrEhyrKxVKa')\n",
        "df.loc[2633]=getTrackFeatures('1vVNlXi8gf8tZ7OhnEs4VE')\n",
        "df.loc[2718]=getTrackFeatures('4iYRa2btalAzPZoSYfROqF')\n",
        "df.loc[2763]=getTrackFeatures('16dXg2YuFOxwDC3cTf5jde')\n",
        "df.loc[2774]=getTrackFeatures('28irpKCCK9nn9DZSik2zEx')\n",
        "df.loc[2817]=getTrackFeatures('2jIT1TfSIjVik7Qu1B6P5h')\n",
        "df.loc[2864]=getTrackFeatures('4oLuMvGQ4WJfU2s4OM6nfE')\n",
        "df.loc[2883]=getTrackFeatures('5uQOauh47VFt3B2kV9kRXw')\n",
        "df.loc[2905]=getTrackFeatures('6ezg5Mm5UEEi3Oqsbb7Cjn')\n",
        "df.loc[2954]=getTrackFeatures('0ADG9OgdVTL7fgREP75BrZ')\n",
        "df.loc[16]=getTrackFeatures('37BZB0z9T8Xu7U3e65qxFy')\n",
        "df.loc[419]=getTrackFeatures('3jjBPF4NDMCU51psU8JPpR')\n",
        "df.loc[1217]=getTrackFeatures('0fZRNhPJ4AGmwY7rkpdbqK')\n",
        "df.loc[1424]=getTrackFeatures('6xRWoYwfwIKnT8bQGzKbxR')\n",
        "df.loc[1445]=getTrackFeatures('1Hd2XLitkt1PYCWSbfF5qV')\n",
        "df.loc[1810]=getTrackFeatures('4VUwkH455At9kENOfzTqmF')\n",
        "df.loc[1848]=getTrackFeatures('3lb5fWSG2p7x8ik8HN9oFR')\n",
        "df.loc[1877]=getTrackFeatures('3DnZfpfe8wLeJgzc00gKeW')\n",
        "df.loc[1882]=getTrackFeatures('4s7TIubkdsgdtDEDFEAYVL')\n",
        "df.loc[1977]=getTrackFeatures('69PkhA9q3xCWU2CzoZnLAu')\n",
        "df.loc[1994]=getTrackFeatures('05r1GGg1Rhs0RcUg27C82a')\n",
        "df.loc[2062]=getTrackFeatures('1a7WZZZH7LzyvorhpOJFTe')\n",
        "df.loc[2110]=getTrackFeatures('2yI8omCrTAyrTcK7NRppu7')\n",
        "df.loc[2175]=getTrackFeatures('5Cg98kiDYtCEHmjcKD0CJD')\n",
        "df.loc[2178]=getTrackFeatures('2bSk87AVkCIIC3Bcligq1z')\n",
        "df.loc[2210]=getTrackFeatures('3Vo4wInECJQuz9BIBMOu8i')\n",
        "df.loc[2234]=getTrackFeatures('3Vo4wInECJQuz9BIBMOu8i')\n",
        "df.loc[2234]=getTrackFeatures('4caEPudXQ1xDd1garjHPFv')\n",
        "df.loc[2283]=getTrackFeatures('00B7TZ0Xawar6NZ00JFomN')\n",
        "df.loc[2312]=getTrackFeatures('6QdnKD1zwEgyOWtkrdzlOF')\n",
        "df.loc[2489]=getTrackFeatures('15EPc80XuFrb2LmOzGjuRg')\n",
        "df.loc[2499]=getTrackFeatures('3n3b5WNEohHP7Ou4ndBo6b')\n",
        "df.loc[2618]=getTrackFeatures('4Iw8bM0BCRmrN778ZODnJa')\n",
        "df.loc[2638]=getTrackFeatures('1kJtfldK9F7XmsSiSNlbth')\n",
        "df.loc[2719]=getTrackFeatures('1KhljCoJ2TgDEldnnfTHHc')\n",
        "df.loc[2722]=getTrackFeatures('6yHkPtl6UQ7RjtJLBPzbJw')\n",
        "df.loc[2784]=getTrackFeatures('1KZ0Xo6Mmeprp1Sw5xCHYz')\n",
        "df.loc[2841]=getTrackFeatures('7xHWNBFm6ObGEQPaUxHuKO')\n",
        "df.loc[2849]=getTrackFeatures('2Yia0Gh4n61fPAjrNE5i2t')\n",
        "df.loc[2853]=getTrackFeatures('0URaKGzNTtzKRtsJN1RkA9')\n",
        "df.loc[2915]=getTrackFeatures('5rmcjZTrE9JR1YrbNZDFNW')\n",
        "df.loc[2931]=getTrackFeatures('3gY3fTkff4VmZ2XfvU6N4l')\n",
        "df.loc[2935]=getTrackFeatures('0NWqNXBJTpXbkI5rPWNy3p')\n",
        "df.loc[2964]=getTrackFeatures('3BtuIIrQlkujKPuWF2B85z')\n",
        "df.loc[2971]=getTrackFeatures('0MkruAJ99HAHNc36HKkcAK')\n",
        "df.loc[3002]=getTrackFeatures('2yJ9GVCLMmzBBfQAnfzlwr')\n",
        "df.loc[3006]=getTrackFeatures('51Nwg5wCDDiqcTntgJUlLo')\n",
        "df.loc[3018]=getTrackFeatures('72TFWvU3wUYdUuxejTTIzt')\n",
        "df.loc[3089]=getTrackFeatures('20s34XSPIiYMGSFDRSs24t')\n",
        "df.loc[3152]=getTrackFeatures('5IZc3KIVFhjzJ0L2kiXzUl')\n",
        "df.loc[3166]=getTrackFeatures('71qR03VPn762lG8esdRmkR')\n",
        "df.loc[3201]=getTrackFeatures('5tf1VVWniHgryyumXyJM7w')\n",
        "df.loc[3334]=getTrackFeatures('26BvbgWisvyequ09r52TDA')\n",
        "df.loc[3348]=getTrackFeatures('3ECa54kPiJ6Fo1RfeXjDSP')\n",
        "df.loc[3483]=getTrackFeatures('5k7KtLUFDlawcjyvo5NpnT')\n",
        "df.loc[3584]=getTrackFeatures('7MmG8p0F9N3C4AXdK6o6Eb')\n",
        "df.loc[3613]=getTrackFeatures('1zbcFS5hS92oXNL3UZDfY0')\n",
        "df.loc[3637]=getTrackFeatures('34HwOOG2tTiz6tAN9h83YT')\n",
        "df.loc[3649]=getTrackFeatures('0j35X8cTq543QDYLOyqB8W')\n",
        "df.loc[3686]=getTrackFeatures('7pqgMEKsDMOHUdFQ7n0N9K')\n",
        "df.loc[3695]=getTrackFeatures('2Ima72UXnfvR539afL3SAF')\n",
        "df.loc[3712]=getTrackFeatures('2f8FHYOkBjxnNxBWXWBpsG')\n",
        "df.loc[3721]=getTrackFeatures('7CGiaPuj7kSb0GZjTjHrC0')\n",
        "df.loc[3773]=getTrackFeatures('44DNRbTlkVXL80mZa2XwZl')\n",
        "df.loc[3848]=getTrackFeatures('77OuOZhDxJSQLYnNIpX2AG')\n",
        "df.loc[3886]=getTrackFeatures('72DuDVv06ZtKDceAlq40f2')\n",
        "df.loc[4038]=getTrackFeatures('3JsydWaf2Ev4ehaLUjj3SY')\n",
        "df.loc[4052]=getTrackFeatures('2MDueMvPkUTpU6Xkmeinln')\n",
        "df.loc[4083]=getTrackFeatures('7IByJvSqRFltGyiiIiL4wn')\n",
        "df.loc[4089]=getTrackFeatures('7F4szzhfJYIfK8fdKSJj9C')\n",
        "df.loc[4136]=getTrackFeatures('7hiBhOh4s8G0xmGYBAjyuw')\n",
        "df.loc[4170]=getTrackFeatures('01uqI4H13Gsd8Lyl1EYd8H')\n",
        "df.loc[4205]=getTrackFeatures('6yQ1QRBRRKKtS7keL32QqG')\n",
        "df.loc[4233]=getTrackFeatures('1ahAuX3F6tDdNRfMdiLsv6')\n",
        "df.loc[4245]=getTrackFeatures('2p88qjsUqXPZnuPh5lmBEV')\n",
        "df.loc[4246]=getTrackFeatures('64Nbnw22f8adeMuLd1nSBD')\n",
        "df.loc[4274]=getTrackFeatures('4gKy4mu2gkMEUyXD5peMIr')\n",
        "df.loc[4325]=getTrackFeatures('4FMtPpDo4l4AJitaFxvaMV')\n",
        "df.loc[4469]=getTrackFeatures('0WjQu6qf7KlVWAb6JqICYd')\n",
        "df.loc[4483]=getTrackFeatures('2GoOioZVtOF1iMYfnzkreg')\n",
        "df.loc[4489]=getTrackFeatures('5Ur3FZ0DkRPDwXdyjmx64i')\n",
        "df.loc[4517]=getTrackFeatures('4f3uZW3Wc1uO2cN4WJs5nu')\n",
        "df.loc[4560]=getTrackFeatures('7EOzfH8P0K4pKZpXE8JMmT')\n",
        "df.loc[4562]=getTrackFeatures('082Qmgg50XtXN4QBpOO4jo')\n",
        "df.loc[4589]=getTrackFeatures('77ZdAoTHYoF6Umo76HFD4m')\n",
        "df.loc[4626]=getTrackFeatures('1lqKgoo11HKUoMpbouC7I4')\n",
        "df.loc[4648]=getTrackFeatures('1OV0NdKXoWzwRtz8HNJOBb')\n",
        "df.loc[4685]=getTrackFeatures('0z9UVN8VBHJ9HdfYsOuuNf')\n",
        "df.loc[4785]=getTrackFeatures('3hTHfK1PVAPgZ8aU1eqbfT')\n",
        "df.loc[4804]=getTrackFeatures('42qh86p7TLXyumxSHn65kc')\n",
        "df.loc[4813]=getTrackFeatures('7GeYvtNRnQc8WmHZXz2set')\n",
        "df.loc[4836]=getTrackFeatures('0y2LoOiQy2NAMj8Xinh5yH')\n",
        "df.loc[4856]=getTrackFeatures('0jr6tT2vc4cIFPHb6wufG3')\n",
        "df.loc[4865]=getTrackFeatures('2SJxeq4i1PfaucxV0Wr4eM')\n",
        "df.loc[4917]=getTrackFeatures('5aJDXbAN2TSctGEDFdaKhc')\n",
        "df.loc[4926]=getTrackFeatures('4ABua0yuWcpTotImEEJTaw')\n",
        "df.loc[4949]=getTrackFeatures('4Cv5dkUBqepa0siwGREihD')\n",
        "df.loc[4985]=getTrackFeatures('1phfqF2ZNrLAOMFuLb0ZsN')\n",
        "df.loc[5061]=getTrackFeatures('4RphIJB5s1N2TTrQFFMxb4')\n",
        "df.loc[5141]=getTrackFeatures('6fIvjDuusQK59brMgHV9qb')\n",
        "df.loc[5154]=getTrackFeatures('4RphIJB5s1N2TTrQFFMxb4')\n",
        "df.loc[5172]=getTrackFeatures('3V0RvmFVgyqAyzGXCJqINF')\n",
        "df.loc[5226]=getTrackFeatures('208BTAn1CwfaQMSxO7QkM2')\n",
        "df.loc[5232]=getTrackFeatures('4gffHSXUEwBywZSP8SuBsl')\n",
        "df.loc[5287]=getTrackFeatures('4dTaAiV9xFFCxnPur9c9yL')\n",
        "df.loc[5339]=getTrackFeatures('42k1KeBehAd83lrGt1okiC')\n",
        "df.loc[5344]=getTrackFeatures('238Sekyg7DyN2XDm0z4oWY')\n",
        "df.loc[5422]=getTrackFeatures('53VIWPPMz9S7ob0D8JxF9N')\n",
        "df.loc[5478]=getTrackFeatures('4Oqg0RD3ywUXEtt7seShF0')\n",
        "df.loc[5509]=getTrackFeatures('4L0nc0tHfDjr3HlAm1EFeu')\n",
        "df.loc[5593]=getTrackFeatures('5QxbGa4K41SPmY8zeyRs67')\n",
        "df.loc[5654]=getTrackFeatures('1ZKuKdo28OiKuFmDShw62S')\n",
        "df.loc[5670]=getTrackFeatures('0a4HnQAiD08Yg8z30yfPhI')\n",
        "df.loc[5686]=getTrackFeatures('1V4jC0vJ5525lEF1bFgPX2')\n",
        "df.loc[5756]=getTrackFeatures('73SI1KIMZCGo7DRSEqFMoa')\n",
        "df.loc[5764]=getTrackFeatures('7HC7R2D8WjXVcUHJyEGjRs')\n",
        "df.loc[5788]=getTrackFeatures('56iHMewAdVSGY290yFKBsk')\n",
        "df.loc[5863]=getTrackFeatures('5nB5bek72WORC5jegCIPNk')\n",
        "df.loc[5871]=getTrackFeatures('7maTLYdnHDNsq3bB1tu2nH')\n",
        "df.loc[5954]=getTrackFeatures('4HYc74wPEfUAhlQFm4fZHa')\n",
        "df.loc[5999]=getTrackFeatures('2LHdmh6AIwowdD8YWfOa4R')\n",
        "df.loc[6030]=getTrackFeatures('3jkdQNkDTxxXtjSO4l0o1H')\n",
        "df.loc[6038]=getTrackFeatures('4W3QcMXjWVYEiNe4khtNUF')\n",
        "df.loc[6055]=getTrackFeatures('4pFST1TizXzxezYLFFTcYn')\n",
        "df.loc[6085]=getTrackFeatures('0lqYRbRiGc5oiCUW51JH5s')\n",
        "df.loc[6151]=getTrackFeatures('72by3Re4C3eVEBXvsUo0zV')\n",
        "df.loc[6232]=getTrackFeatures('4GXH9A6fzuE0MNtqtzjhLg')\n",
        "df.loc[6270]=getTrackFeatures('4NOZ35Dhucr6UlVyLOtktd')\n",
        "df.loc[6288]=getTrackFeatures('5dANgSy7v091dhiPnEXNrf')\n",
        "df.loc[6368]=getTrackFeatures('0TbdBzwBmfha566KAm49wb')\n",
        "df.loc[6396]=getTrackFeatures('6wZI4mdT8JwXgkGURnBQiq')\n",
        "df.loc[6417]=getTrackFeatures('4iz9lGMjU1lXS51oPmUmTe')\n",
        "df.loc[6426]=getTrackFeatures('5w86HjXc60QjhMUAFAeLTf')\n",
        "df.loc[6477]=getTrackFeatures('2Rs03eNdCYdd5kZJUzFpO1')\n",
        "df.loc[6485]=getTrackFeatures('6TVhP2a7ESba4pR5ePflRw')\n",
        "df.loc[6545]=getTrackFeatures('371GoHoueVN53jY8MoWufq')\n",
        "df.loc[6646]=getTrackFeatures('538hPQNtP190KcS3ZnWY5M')\n",
        "df.loc[6689]=getTrackFeatures('5LGEfWqwgYL16tyXkrRC8J')\n",
        "df.loc[6703]=getTrackFeatures('6OSmeoh8kXhCfz9WqvzDoJ')\n",
        "df.loc[6713]=getTrackFeatures('2Hy7Snw1mgCk86DdDqJgV7')\n",
        "df.loc[6729]=getTrackFeatures('6p6TjiJHc1kJQt5dXzkdrs')\n",
        "df.loc[6873]=getTrackFeatures('0BAUo3Y2wyxtcArALvI1NI')\n",
        "df.loc[6906]=getTrackFeatures('2DmBuFsXx1Pd5FHrMF8PD8')\n",
        "df.loc[6925]=getTrackFeatures('7qFxSPDUDMQNGBqTvK4aEj')\n",
        "df.loc[6940]=getTrackFeatures('3kqLybBT5LRSB9QCoR3ojK')\n",
        "df.loc[6968]=getTrackFeatures('0nKZeSrqH9u31NLoTUsYBR')\n",
        "df.loc[7005]=getTrackFeatures('7HhR1L61r3Z3PMWRRJSDHe')\n",
        "df.loc[7079]=getTrackFeatures('3kZoay4ANo86ehb6s4RwS9')\n",
        "df.loc[7099]=getTrackFeatures('2TNItTGFywUukXJdG6Qa25')\n",
        "df.loc[7126]=getTrackFeatures('3r4U9UpHaFurMtq1oCZoAp')\n",
        "df.loc[7346]=getTrackFeatures('5U1lQBg8zLFZCv9UzU6Noh')\n",
        "df.loc[7480]=getTrackFeatures('7B42GdidcsaQdJCBiPtzSW')\n",
        "df.loc[7561]=getTrackFeatures('0va4qYYci02sJcKnhv9tfC')\n",
        "df.loc[7600]=getTrackFeatures('2b8QQqf8Vwb7bfz22ja8Fk')\n",
        "df.loc[7608]=getTrackFeatures('69Rq57lrGf5syykFBNi3g4')\n",
        "df.loc[7623]=getTrackFeatures('68vgtRHr7iZHpzGpon6Jlo')\n",
        "df.loc[7634]=getTrackFeatures('7xXvPyOiFCsB5SSpio5g38')\n",
        "df.loc[7668]=getTrackFeatures('5Lzumvaqcoa6eZLLQn0IW2')\n",
        "df.loc[7672]=getTrackFeatures('507bYMYfbm6sUS9iEAaeSd')\n",
        "df.loc[7732]=getTrackFeatures('6ihObRBTB8xdSH2mlERtOX')\n",
        "df.loc[7736]=getTrackFeatures('4MMqj7HaLL8BphbBZnlsdq')\n",
        "df.loc[7775]=getTrackFeatures('7sZCAHP2duHwr5M5K7lHsb')\n",
        "df.loc[7779]=getTrackFeatures('2ISihV3VpUlngDWOlWDUI0')\n",
        "df.loc[7853]=getTrackFeatures('0UNTBB02C1aB55Fu4H63qd')\n",
        "df.loc[7908]=getTrackFeatures('6Nq5lE0CeOAAAqN4qhkbZU')\n",
        "df.loc[8050]=getTrackFeatures('1HCPjfa02m5JwcO37LHfYb')\n",
        "df.loc[8129]=getTrackFeatures('69j0KoPJuwpnbGWrfn7Yll')\n",
        "df.loc[8145]=getTrackFeatures('7FrJV8tydWEv1Mxu2mIQrm')\n",
        "df.loc[8223]=getTrackFeatures('2dCD8qq7yHZPZduA8FJazs')\n",
        "df.loc[8248]=getTrackFeatures('5kDkWHFx0AEvJ1Pfm2i0ac')\n",
        "df.loc[8286]=getTrackFeatures('0Uhnzk5zI46IRlQ04LNOtc')\n",
        "df.loc[8301]=getTrackFeatures('0Uhnzk5zI46IRlQ04LNOtc')\n",
        "df.loc[8327]=getTrackFeatures('6cZPfzVtkicrA3CyjqYKhu')\n",
        "df.loc[8498]=getTrackFeatures('7x6ev0H9OAmvuDnyuItBZS')\n",
        "df.loc[8632]=getTrackFeatures('43zr9kKkeiQrshvYuvNtfM')\n",
        "df.loc[8633]=getTrackFeatures('55mJleti2WfWEFNFcBduhc')\n",
        "df.loc[8635]=getTrackFeatures('1RKUoGiLEbcXN4GY4spQDx')\n",
        "df.loc[8639]=getTrackFeatures('6CBRI05fAHw76JqDk2IRkK')\n",
        "df.loc[8640]=getTrackFeatures('7qLQR9T8vL638MbPYCDAFk')\n",
        "df.loc[8641]=getTrackFeatures('2zj1zujNxjBMBdfkm5uY2o')\n",
        "df.loc[8642]=getTrackFeatures('7pbNNVcFePJV3Wani6zH8q')\n",
        "df.loc[8644]=getTrackFeatures('4tgeQrPu5xkrnwErym2JsJ')\n",
        "df.loc[8650]=getTrackFeatures('2eOuL8KesslTLQERQPu11D')\n",
        "df.loc[8652]=getTrackFeatures('23qDMWnwf8p0pr5slljB6i')\n",
        "df.loc[8653]=getTrackFeatures('4CmSNIT8dhpICN4Kp910Uz')\n",
        "df.loc[8655]=getTrackFeatures('2seY1Vy7jidW4bxk98n2eh')\n",
        "df.loc[8657]=getTrackFeatures('3yUcJwYu7fXAfqMj9krY6l')\n",
        "df.loc[8660]=getTrackFeatures('0lyYVubxulG0uUPOVCQj0Z')\n",
        "df.loc[8662]=getTrackFeatures('2648dyCgcTFNkJZXgGlHPv')\n",
        "df.loc[8663]=getTrackFeatures('2TVSa07y6g3HRn4oLWv57M')\n",
        "df.loc[8664]=getTrackFeatures('3uZAWnZVt2xL4X7RfNrCDk')\n",
        "df.loc[8666]=getTrackFeatures('3xuobJ0EyP0Boajt7p8xWq')\n",
        "df.loc[8667]=getTrackFeatures('0cHRuyr1YyvJXTCX5ZeqSO')\n",
        "df.loc[8668]=getTrackFeatures('1s8MNZEUhMRlCJiFzHCkTY')\n",
        "df.loc[8669]=getTrackFeatures('6Sy9BUbgFse0n0LPA5lwy5')\n",
        "df.loc[8670]=getTrackFeatures('75b9JVzc4QFvPBO7jDRIVe')\n",
        "df.loc[8671]=getTrackFeatures('75b9JVzc4QFvPBO7jDRIVe')\n",
        "df.loc[8672]=getTrackFeatures('1AmupdZPhPTRkq82EXi83f')\n",
        "df.loc[8674]=getTrackFeatures('34Vn9nKfztyLco9lJazy4j')\n",
        "df.loc[8675]=getTrackFeatures('6nDUaxCt8veC1ZnfQFfKP5')\n",
        "df.loc[8679]=getTrackFeatures('3Gf5nttwcX9aaSQXRWidEZ')\n",
        "df.loc[8680]=getTrackFeatures('2fdoGgBd4CbyA4Tkw1Gyw2')\n",
        "df.loc[8682]=getTrackFeatures('1Un1dsZkA9cfZMLOXOyUBc')\n",
        "df.loc[8684]=getTrackFeatures('5rJRKtJzm7qacwYEjsKav6')\n",
        "df.loc[8685]=getTrackFeatures('6Jvx6HCj3wxWWIs90YqWXj')\n",
        "df.loc[8687]=getTrackFeatures('4PRB8Cs2ONx4VcVv0rFSwj')\n",
        "df.loc[8691]=getTrackFeatures('154grZhOoDf2FDTnS2BpK6')\n",
        "df.loc[8693]=getTrackFeatures('7fFCnttacpotkyhTOxKv14')\n",
        "df.loc[8694]=getTrackFeatures('3hfMKCMfKcKctpjtH0TB76')\n",
        "df.loc[8697]=getTrackFeatures('22WlwTY6Y41bG3hIOMF4VO')\n",
        "df.loc[8700]=getTrackFeatures('2aGw77pZqli064JiPuXYRi')\n",
        "df.loc[8703]=getTrackFeatures('3NJQ1KdbMLE1CEEVNjs9IO')\n",
        "df.loc[8704]=getTrackFeatures('1PmJcgLwG1wRC5qMdjogRD')\n",
        "df.loc[8707]=getTrackFeatures('1CP0DS790dxOfCXXp7WHDP')\n",
        "df.loc[8708]=getTrackFeatures('0YDYMz9BP602o75O9jgr6l')\n",
        "df.loc[8709]=getTrackFeatures('2Mpj1Ul5OFPyyP4wB62Rvi')\n",
        "df.loc[8710]=getTrackFeatures('3NjAxulzcqR9riwzAnoN7p')\n",
        "df.loc[8711]=getTrackFeatures('0YHI5hydPPth6J5UOzdLDX')\n",
        "df.loc[8712]=getTrackFeatures('2rR9wUciUfXFrmf0h6rwMI')\n",
        "df.loc[8713]=getTrackFeatures('2gSVKxPDww9Eep5rdvtdem')\n",
        "df.loc[8715]=getTrackFeatures('04ccQGJ1i8gL7JoeCPiJbv')\n",
        "df.loc[8716]=getTrackFeatures('0xikWgPgYN9BEes0ieZ8Co')\n",
        "df.loc[8717]=getTrackFeatures('7fkbO9RJWW0zQAtXBu5ixb')\n",
        "df.loc[8721]=getTrackFeatures('3oW6SWwGqiZSPTiAp7ZQoH')\n",
        "df.loc[8723]=getTrackFeatures('6glsMWIMIxQ4BedzLqGVi4')\n",
        "df.loc[8724]=getTrackFeatures('3OWsm3HE35S9x3fgY8tbgh')\n",
        "df.loc[8725]=getTrackFeatures('5bCxcsT08RAtM4AvK9Gryi')\n",
        "df.loc[8727]=getTrackFeatures('2MMZ1Llts0rTaU834P2Xct')\n",
        "df.loc[8728]=getTrackFeatures('1sVv67vCTTKGBM5ZHYAcli')\n",
        "df.loc[8732]=getTrackFeatures('4ohEI9gzIH5mSK6R6aUssT')\n",
        "df.loc[8734]=getTrackFeatures('7FWuzwapuKHTEyDJIcQOw3')\n",
        "df.loc[8738]=getTrackFeatures('0mu59f9C3CwjFdtmf0j80v')\n",
        "df.loc[8741]=getTrackFeatures('0UaFVjNd7WxSb8hHHL6eql')\n",
        "df.loc[8743]=getTrackFeatures('4IWCqcLq1AlO7hXDTQLZAe')\n",
        "df.loc[8745]=getTrackFeatures('2EVNYzHWebyLvKxPX6Ozt8')\n",
        "df.loc[8758]=getTrackFeatures('2AuJ7leOU5BKes4za742Jo')\n",
        "df.loc[8883]=getTrackFeatures('1RUsaD5o5QjW6lDx50W7KP')\n",
        "df.loc[8897]=getTrackFeatures('4WP1XJnAUkZfTtMdZTaN9k')\n",
        "df.loc[8908]=getTrackFeatures('0lkyec6GEucNx8L9rJuLTK')\n",
        "df.loc[8947]=getTrackFeatures('4x6kZErnzSn7TET3CmFvn5')\n",
        "df.loc[8958]=getTrackFeatures('1ylplaqhSLPgMkHdNKJ1BT')\n",
        "df.loc[9176]=getTrackFeatures('5q186AzhWeOEoFnApajHgR')\n",
        "df.loc[9192]=getTrackFeatures('72MCDdQ1F4UfrOLl3ayLI6')"
      ]
    },
    {
      "cell_type": "code",
      "execution_count": 47,
      "metadata": {
        "id": "2E3Gd1txolq1"
      },
      "outputs": [],
      "source": [
        "# Add an identifiable id to match with charts_no_duplicate and export for documentation\n",
        "df['id'] = df.index + 1\n",
        "df.to_csv('df.csv')"
      ]
    }
  ],
  "metadata": {
    "colab": {
      "collapsed_sections": [],
      "name": "Spotify.ipynb",
      "provenance": []
    },
    "kernelspec": {
      "display_name": "Python 3",
      "name": "python3"
    },
    "language_info": {
      "codemirror_mode": {
        "name": "ipython",
        "version": 3
      },
      "file_extension": ".py",
      "mimetype": "text/x-python",
      "name": "python",
      "nbconvert_exporter": "python",
      "pygments_lexer": "ipython3",
      "version": "3.9.12"
    }
  },
  "nbformat": 4,
  "nbformat_minor": 0
}
