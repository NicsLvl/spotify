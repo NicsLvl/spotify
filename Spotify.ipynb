{
  "nbformat": 4,
  "nbformat_minor": 0,
  "metadata": {
    "colab": {
      "name": "Spotify.ipynb",
      "provenance": [],
      "collapsed_sections": []
    },
    "kernelspec": {
      "name": "python3",
      "display_name": "Python 3"
    },
    "language_info": {
      "name": "python"
    }
  },
  "cells": [
    {
      "cell_type": "code",
      "source": [
        "import pandas as pd\n",
        "import numpy as np"
      ],
      "metadata": {
        "id": "94YNy3aXPck7"
      },
      "execution_count": null,
      "outputs": []
    },
    {
      "cell_type": "code",
      "execution_count": null,
      "metadata": {
        "id": "uivLN5UW9-YW",
        "colab": {
          "base_uri": "https://localhost:8080/"
        },
        "outputId": "bb6f7ea5-dd89-4e3f-d9ed-4cacbe584c72"
      },
      "outputs": [
        {
          "output_type": "stream",
          "name": "stdout",
          "text": [
            "Requirement already satisfied: spotipy in /usr/local/lib/python3.7/dist-packages (2.19.0)\n",
            "Requirement already satisfied: requests>=2.25.0 in /usr/local/lib/python3.7/dist-packages (from spotipy) (2.27.1)\n",
            "Requirement already satisfied: six>=1.15.0 in /usr/local/lib/python3.7/dist-packages (from spotipy) (1.15.0)\n",
            "Requirement already satisfied: urllib3>=1.26.0 in /usr/local/lib/python3.7/dist-packages (from spotipy) (1.26.9)\n",
            "Requirement already satisfied: idna<4,>=2.5 in /usr/local/lib/python3.7/dist-packages (from requests>=2.25.0->spotipy) (2.10)\n",
            "Requirement already satisfied: charset-normalizer~=2.0.0 in /usr/local/lib/python3.7/dist-packages (from requests>=2.25.0->spotipy) (2.0.12)\n",
            "Requirement already satisfied: certifi>=2017.4.17 in /usr/local/lib/python3.7/dist-packages (from requests>=2.25.0->spotipy) (2021.10.8)\n"
          ]
        }
      ],
      "source": [
        "!pip install spotipy\n",
        "import spotipy\n",
        "from spotipy.oauth2 import SpotifyClientCredentials\n",
        "\n",
        "client_credentials_manager = SpotifyClientCredentials(client_id=client_id, client_secret=client_secret)\n",
        "sp = spotipy.Spotify(client_credentials_manager=client_credentials_manager) # spotify object to access API"
      ]
    },
    {
      "cell_type": "code",
      "source": [
        "charts = pd.read_csv(\"charts.csv\") # Extracted the billboard weekly top 100 data from: https://www.kaggle.com/datasets/dhruvildave/billboard-the-hot-100-songs?select=charts.csv"
      ],
      "metadata": {
        "id": "WnuIOGJDP5lR"
      },
      "execution_count": null,
      "outputs": []
    },
    {
      "cell_type": "code",
      "source": [
        "charts.head()"
      ],
      "metadata": {
        "colab": {
          "base_uri": "https://localhost:8080/",
          "height": 206
        },
        "id": "3JGCHI6-SDgS",
        "outputId": "b7543e22-1ea5-4566-bc50-ed0e1525a33f"
      },
      "execution_count": null,
      "outputs": [
        {
          "output_type": "execute_result",
          "data": {
            "text/plain": [
              "      date  rank           song                         artist  last-week  \\\n",
              "0  6/11/21     1     Easy On Me                          Adele        1.0   \n",
              "1  6/11/21     2           Stay  The Kid LAROI & Justin Bieber        2.0   \n",
              "2  6/11/21     3  Industry Baby        Lil Nas X & Jack Harlow        3.0   \n",
              "3  6/11/21     4     Fancy Like                   Walker Hayes        4.0   \n",
              "4  6/11/21     5     Bad Habits                     Ed Sheeran        5.0   \n",
              "\n",
              "   peak-rank  weeks-on-board  \n",
              "0          1               3  \n",
              "1          1              16  \n",
              "2          1              14  \n",
              "3          3              19  \n",
              "4          2              18  "
            ],
            "text/html": [
              "\n",
              "  <div id=\"df-df127c5e-09b3-4f9c-a481-7af1dff65ed0\">\n",
              "    <div class=\"colab-df-container\">\n",
              "      <div>\n",
              "<style scoped>\n",
              "    .dataframe tbody tr th:only-of-type {\n",
              "        vertical-align: middle;\n",
              "    }\n",
              "\n",
              "    .dataframe tbody tr th {\n",
              "        vertical-align: top;\n",
              "    }\n",
              "\n",
              "    .dataframe thead th {\n",
              "        text-align: right;\n",
              "    }\n",
              "</style>\n",
              "<table border=\"1\" class=\"dataframe\">\n",
              "  <thead>\n",
              "    <tr style=\"text-align: right;\">\n",
              "      <th></th>\n",
              "      <th>date</th>\n",
              "      <th>rank</th>\n",
              "      <th>song</th>\n",
              "      <th>artist</th>\n",
              "      <th>last-week</th>\n",
              "      <th>peak-rank</th>\n",
              "      <th>weeks-on-board</th>\n",
              "    </tr>\n",
              "  </thead>\n",
              "  <tbody>\n",
              "    <tr>\n",
              "      <th>0</th>\n",
              "      <td>6/11/21</td>\n",
              "      <td>1</td>\n",
              "      <td>Easy On Me</td>\n",
              "      <td>Adele</td>\n",
              "      <td>1.0</td>\n",
              "      <td>1</td>\n",
              "      <td>3</td>\n",
              "    </tr>\n",
              "    <tr>\n",
              "      <th>1</th>\n",
              "      <td>6/11/21</td>\n",
              "      <td>2</td>\n",
              "      <td>Stay</td>\n",
              "      <td>The Kid LAROI &amp; Justin Bieber</td>\n",
              "      <td>2.0</td>\n",
              "      <td>1</td>\n",
              "      <td>16</td>\n",
              "    </tr>\n",
              "    <tr>\n",
              "      <th>2</th>\n",
              "      <td>6/11/21</td>\n",
              "      <td>3</td>\n",
              "      <td>Industry Baby</td>\n",
              "      <td>Lil Nas X &amp; Jack Harlow</td>\n",
              "      <td>3.0</td>\n",
              "      <td>1</td>\n",
              "      <td>14</td>\n",
              "    </tr>\n",
              "    <tr>\n",
              "      <th>3</th>\n",
              "      <td>6/11/21</td>\n",
              "      <td>4</td>\n",
              "      <td>Fancy Like</td>\n",
              "      <td>Walker Hayes</td>\n",
              "      <td>4.0</td>\n",
              "      <td>3</td>\n",
              "      <td>19</td>\n",
              "    </tr>\n",
              "    <tr>\n",
              "      <th>4</th>\n",
              "      <td>6/11/21</td>\n",
              "      <td>5</td>\n",
              "      <td>Bad Habits</td>\n",
              "      <td>Ed Sheeran</td>\n",
              "      <td>5.0</td>\n",
              "      <td>2</td>\n",
              "      <td>18</td>\n",
              "    </tr>\n",
              "  </tbody>\n",
              "</table>\n",
              "</div>\n",
              "      <button class=\"colab-df-convert\" onclick=\"convertToInteractive('df-df127c5e-09b3-4f9c-a481-7af1dff65ed0')\"\n",
              "              title=\"Convert this dataframe to an interactive table.\"\n",
              "              style=\"display:none;\">\n",
              "        \n",
              "  <svg xmlns=\"http://www.w3.org/2000/svg\" height=\"24px\"viewBox=\"0 0 24 24\"\n",
              "       width=\"24px\">\n",
              "    <path d=\"M0 0h24v24H0V0z\" fill=\"none\"/>\n",
              "    <path d=\"M18.56 5.44l.94 2.06.94-2.06 2.06-.94-2.06-.94-.94-2.06-.94 2.06-2.06.94zm-11 1L8.5 8.5l.94-2.06 2.06-.94-2.06-.94L8.5 2.5l-.94 2.06-2.06.94zm10 10l.94 2.06.94-2.06 2.06-.94-2.06-.94-.94-2.06-.94 2.06-2.06.94z\"/><path d=\"M17.41 7.96l-1.37-1.37c-.4-.4-.92-.59-1.43-.59-.52 0-1.04.2-1.43.59L10.3 9.45l-7.72 7.72c-.78.78-.78 2.05 0 2.83L4 21.41c.39.39.9.59 1.41.59.51 0 1.02-.2 1.41-.59l7.78-7.78 2.81-2.81c.8-.78.8-2.07 0-2.86zM5.41 20L4 18.59l7.72-7.72 1.47 1.35L5.41 20z\"/>\n",
              "  </svg>\n",
              "      </button>\n",
              "      \n",
              "  <style>\n",
              "    .colab-df-container {\n",
              "      display:flex;\n",
              "      flex-wrap:wrap;\n",
              "      gap: 12px;\n",
              "    }\n",
              "\n",
              "    .colab-df-convert {\n",
              "      background-color: #E8F0FE;\n",
              "      border: none;\n",
              "      border-radius: 50%;\n",
              "      cursor: pointer;\n",
              "      display: none;\n",
              "      fill: #1967D2;\n",
              "      height: 32px;\n",
              "      padding: 0 0 0 0;\n",
              "      width: 32px;\n",
              "    }\n",
              "\n",
              "    .colab-df-convert:hover {\n",
              "      background-color: #E2EBFA;\n",
              "      box-shadow: 0px 1px 2px rgba(60, 64, 67, 0.3), 0px 1px 3px 1px rgba(60, 64, 67, 0.15);\n",
              "      fill: #174EA6;\n",
              "    }\n",
              "\n",
              "    [theme=dark] .colab-df-convert {\n",
              "      background-color: #3B4455;\n",
              "      fill: #D2E3FC;\n",
              "    }\n",
              "\n",
              "    [theme=dark] .colab-df-convert:hover {\n",
              "      background-color: #434B5C;\n",
              "      box-shadow: 0px 1px 3px 1px rgba(0, 0, 0, 0.15);\n",
              "      filter: drop-shadow(0px 1px 2px rgba(0, 0, 0, 0.3));\n",
              "      fill: #FFFFFF;\n",
              "    }\n",
              "  </style>\n",
              "\n",
              "      <script>\n",
              "        const buttonEl =\n",
              "          document.querySelector('#df-df127c5e-09b3-4f9c-a481-7af1dff65ed0 button.colab-df-convert');\n",
              "        buttonEl.style.display =\n",
              "          google.colab.kernel.accessAllowed ? 'block' : 'none';\n",
              "\n",
              "        async function convertToInteractive(key) {\n",
              "          const element = document.querySelector('#df-df127c5e-09b3-4f9c-a481-7af1dff65ed0');\n",
              "          const dataTable =\n",
              "            await google.colab.kernel.invokeFunction('convertToInteractive',\n",
              "                                                     [key], {});\n",
              "          if (!dataTable) return;\n",
              "\n",
              "          const docLinkHtml = 'Like what you see? Visit the ' +\n",
              "            '<a target=\"_blank\" href=https://colab.research.google.com/notebooks/data_table.ipynb>data table notebook</a>'\n",
              "            + ' to learn more about interactive tables.';\n",
              "          element.innerHTML = '';\n",
              "          dataTable['output_type'] = 'display_data';\n",
              "          await google.colab.output.renderOutput(dataTable, element);\n",
              "          const docLink = document.createElement('div');\n",
              "          docLink.innerHTML = docLinkHtml;\n",
              "          element.appendChild(docLink);\n",
              "        }\n",
              "      </script>\n",
              "    </div>\n",
              "  </div>\n",
              "  "
            ]
          },
          "metadata": {},
          "execution_count": 73
        }
      ]
    },
    {
      "cell_type": "code",
      "source": [
        "charts['year'] = charts['date'].str[-2:]\n",
        "charts['year'] = charts.year.astype(int)"
      ],
      "metadata": {
        "id": "Vz_0BoCBcu8s"
      },
      "execution_count": null,
      "outputs": []
    },
    {
      "cell_type": "code",
      "source": [
        "charts_no_duplicate = charts.drop_duplicates(subset=['song','artist'])\n",
        "charts_no_duplicate['year'] = charts_no_duplicate.year.astype(int)\n",
        "charts_no_duplicate = charts_no_duplicate[(charts_no_duplicate.year<=21)]\n",
        "charts_no_duplicate = charts_no_duplicate.reset_index()\n",
        "charts_no_duplicate[\"id\"] = charts_no_duplicate.index + 1"
      ],
      "metadata": {
        "id": "qi4jl8NFZo3h",
        "colab": {
          "base_uri": "https://localhost:8080/"
        },
        "outputId": "67dc2f56-b4f3-4e61-85d3-7fb3dfc6cfd4"
      },
      "execution_count": null,
      "outputs": [
        {
          "output_type": "stream",
          "name": "stderr",
          "text": [
            "/usr/local/lib/python3.7/dist-packages/ipykernel_launcher.py:2: SettingWithCopyWarning: \n",
            "A value is trying to be set on a copy of a slice from a DataFrame.\n",
            "Try using .loc[row_indexer,col_indexer] = value instead\n",
            "\n",
            "See the caveats in the documentation: https://pandas.pydata.org/pandas-docs/stable/user_guide/indexing.html#returning-a-view-versus-a-copy\n",
            "  \n"
          ]
        }
      ]
    },
    {
      "cell_type": "code",
      "source": [
        "#export charts_no_duplicate for documentation\n",
        "pd.DataFrame(charts_no_duplicate).to_csv('charts_no_duplicate.csv',header=False,index=False)"
      ],
      "metadata": {
        "id": "Hm6GgPEq_UE0"
      },
      "execution_count": null,
      "outputs": []
    },
    {
      "cell_type": "code",
      "source": [
        "# Create an empty list to store all the spotify IDs extracted from the search\n",
        "iddata = []"
      ],
      "metadata": {
        "id": "X-0uXRKjbkNn"
      },
      "execution_count": null,
      "outputs": []
    },
    {
      "cell_type": "code",
      "source": [
        "for i in range(len(charts_no_duplicate)):\n",
        "  track = charts_no_duplicate.iloc[i,2] # Song\n",
        "  artist = charts_no_duplicate.iloc[i,3] # Singer\n",
        "  try:\n",
        "    sptrack = sp.search(q='artist:' + artist + ' track:' + track, type='track',limit=1)\n",
        "    id = sptrack['tracks']['items'][0]['id']\n",
        "    iddata.append(id)\n",
        "  except IndexError:\n",
        "    sptrack = sp.search(q=' track:' + track, type='track',limit=1)\n",
        "    id = sptrack['tracks']['items'][0]['id']\n",
        "    iddata.append(id)\n",
        "  except:\n",
        "    iddata.append(\" \")"
      ],
      "metadata": {
        "id": "a301qr-sMzP_"
      },
      "execution_count": null,
      "outputs": []
    },
    {
      "cell_type": "code",
      "source": [
        "#export iddata for documentation\n",
        "pd.DataFrame(iddata).to_csv('iddata.csv',header=False,index=False)"
      ],
      "metadata": {
        "id": "VHFbOGQBfv_X"
      },
      "execution_count": null,
      "outputs": []
    },
    {
      "cell_type": "code",
      "source": [
        "def getTrackFeatures(id):\n",
        "  try:\n",
        "    meta = sp.track(id)\n",
        "    features = sp.audio_features(id)\n",
        "\n",
        "    # meta\n",
        "    name = meta['name']\n",
        "    album = meta['album']['name']\n",
        "    artist = meta['album']['artists'][0]['name']\n",
        "    release_date = meta['album']['release_date']\n",
        "    length = meta['duration_ms']\n",
        "    popularity = meta['popularity']\n",
        "\n",
        "\n",
        "    # features\n",
        "    acousticness = features[0]['acousticness']\n",
        "    danceability = features[0]['danceability']\n",
        "    energy = features[0]['energy']\n",
        "    instrumentalness = features[0]['instrumentalness']\n",
        "    liveness = features[0]['liveness']\n",
        "    loudness = features[0]['loudness']\n",
        "    speechiness = features[0]['speechiness']\n",
        "    tempo = features[0]['tempo']\n",
        "    time_signature = features[0]['time_signature']\n",
        "    \n",
        "    track = [name, album, artist, release_date, length, popularity, danceability, acousticness, energy, instrumentalness, liveness, loudness, speechiness, tempo, time_signature]\n",
        "    return track\n",
        "  except:\n",
        "    track = [\" \"]\n",
        "    return track"
      ],
      "metadata": {
        "id": "MyGm4AEJlrSN"
      },
      "execution_count": null,
      "outputs": []
    },
    {
      "cell_type": "code",
      "source": [
        "getTrackFeatures('6MFQeWtk7kxWGydnJB2y36')"
      ],
      "metadata": {
        "id": "TQespckInwyE"
      },
      "execution_count": null,
      "outputs": []
    },
    {
      "cell_type": "code",
      "source": [
        "trackfeatures = []\n",
        "for i in iddata:\n",
        "  trackfeatures.append(getTrackFeatures(i))"
      ],
      "metadata": {
        "id": "F_UQETmMSRX2"
      },
      "execution_count": null,
      "outputs": []
    },
    {
      "cell_type": "code",
      "source": [
        "#export trackfeatures for documentation\n",
        "df=pd.DataFrame(trackfeatures, columns = ['name', 'album', 'artist', 'release_date', 'length', 'popularity', 'danceability', 'acousticness', 'danceability', 'energy', 'instrumentalness', 'liveness', 'loudness', 'speechiness', 'tempo', 'time_signature'])"
      ],
      "metadata": {
        "id": "DKjPnz4dc7mv"
      },
      "execution_count": null,
      "outputs": []
    },
    {
      "cell_type": "markdown",
      "source": [
        "# Resolving Errors"
      ],
      "metadata": {
        "id": "FJTS877LFm66"
      }
    },
    {
      "cell_type": "code",
      "source": [
        "df=pd.read_csv('df.csv')"
      ],
      "metadata": {
        "id": "AAE7rh782_8w"
      },
      "execution_count": null,
      "outputs": []
    },
    {
      "cell_type": "code",
      "source": [
        "df.to_csv('df.csv')"
      ],
      "metadata": {
        "id": "z8RnnDnjQ0S_"
      },
      "execution_count": null,
      "outputs": []
    },
    {
      "cell_type": "code",
      "source": [
        "# When running the for loop there are some songs that returned an API error, hence we note down the song name to manually fill it in \n",
        "#91 error -> start at 92\n",
        "#298 error (actually 299) -> start at 300\n",
        "#346 error (actually 348) -> start at 349\n",
        "#399 error (actually 402) -> start at 403\n",
        "#400 error (actually 404) -> start at 405\n",
        "#400 error (actually 405) -> start at 406\n",
        "#400 error (actually 406) -> start at 407\n",
        "#571 error (actually 578) -> start at 579\n",
        "#608 error (actually 616) -> start at 617\n",
        "#679 error (actually 688) -> start at 689\n",
        "#1605 error (actually 1615) -> start at 1616\n",
        "#1825 error (actually 1836) -> start at 1837\n",
        "#2192 error (actually 2204) -> start at 2205\n",
        "#2198 error (actually 2211) -> start at 2212\n",
        "#2484 error (actually 2498) -> start at 2499\n",
        "#2672 error (actually 2687) -> start at 2688\n",
        "#2759 error (actually 2775) -> start at 2776\n",
        "#3008 error (actually 3025) -> start at 3026\n",
        "#3778 error (actually 3796) -> start at 3797\n",
        "#3915 error (actually 3934) -> start at 3935\n",
        "#3981 error (actually 4001) -> start at 4002\n",
        "#4014 error (actually 4035) -> start at 4036\n",
        "#4180 error (actually 4202) -> start at 4203\n",
        "#4417 error (actually 4440) -> start at 4441\n",
        "#4720 error (actually 4744) -> start at 4745\n",
        "#5112 error (actually 5137) -> start at 5138\n",
        "#5328 error (actually 5354) -> start at 5355\n",
        "#5621 error (actually 5648) -> start at 5649\n",
        "#5708 error (actually 5736) -> start at 5737\n",
        "#5736 error (actually 5765) -> start at 5766\n",
        "#5809 error (actually 5839) -> start at 5840\n",
        "#5874 error (actually 5905) -> start at 5906\n",
        "#5883 error (actually 5915) -> start at 5916\n",
        "#5989 error (actually 6022) -> start at 6023\n",
        "#6039 error (actually 6073) -> start at 6074\n",
        "#6045 error (actually 6080) -> start at 6081\n",
        "#6069 error (actually 6105) -> start at 6106\n",
        "#6070 error (actually 6107) -> start at 6108\n",
        "#6146 error (actually 6184) -> start at 6185\n",
        "#6177 error (actually 6216) -> start at 6217\n",
        "#6212 error (actually 6252) -> start at 6253\n",
        "#6278 error (actually 6319) -> start at 6320\n",
        "#6348 error (actually 6390) -> start at 6391, 42\n",
        "#6387 error (actually 6430) -> start at 6431, 43\n",
        "#6560 error (actually 6604) -> start at 6605, 44\n",
        "#6571 error (actually 6616) -> start at 6617, 45\n",
        "#6644 error (actually 6690) -> 6691, 46\n",
        "#6717 error (actually 6764) -> 6765, 47\n",
        "#6771 error (actually 6819) -> 6820, 48\n",
        "#6817 error (actually 6866) -> 6867, 49\n",
        "#6831 error (actually 6881) -> 6882, 50\n",
        "#7164 error (actually 7215) -> 7216, 51\n",
        "#7322 error (actually 7374) -> 7375, 52\n",
        "#7329 error (actually 7382) -> 7383, 53\n",
        "#7443 error (actually 7497) -> 7498, 54\n",
        "#7492 error (actually 7547) -> 7548, 55\n",
        "#7846 error (actually 7902) -> 7903, 56\n",
        "#7853 error (actually 7910) -> 7911, 57\n",
        "#8090 error (actually 8148) -> 8149, 58\n",
        "#8111 error (actually 8170) -> 8171, 59\n",
        "#8146 error (actually 8206) -> 8207, 60\n",
        "#8272 error (actually 8333) -> 8334, 61\n",
        "#8328 error (actually 8390) -> 8391, 62\n",
        "#8452 error (actually 8515) -> 8516, 63\n",
        "#8567 error (actually 8631) -> 8632, 64\n",
        "#8682 error (actually 8747) -> 8748, 65\n",
        "#8886 error (actually 8952) -> 8953, 66\n",
        "#8888 error (actually 8955) -> 8956, 67\n",
        "#8946 error (actually 9014) -> 9015, 68"
      ],
      "metadata": {
        "id": "Fk1Vp0bND9BS"
      },
      "execution_count": null,
      "outputs": []
    },
    {
      "cell_type": "code",
      "source": [
        "print(charts_no_duplicate.loc[91])\n",
        "df.loc[90.5] = getTrackFeatures('6HIIuuUIEzH1meVdGbMXyf')\n",
        "df = df.sort_index().reset_index(drop=True)"
      ],
      "metadata": {
        "colab": {
          "base_uri": "https://localhost:8080/"
        },
        "id": "gIwfH803Fzka",
        "outputId": "cd23bd65-9f02-4379-f185-7b811d3c0f67"
      },
      "execution_count": null,
      "outputs": [
        {
          "output_type": "stream",
          "name": "stdout",
          "text": [
            "index                                                        91\n",
            "date                                                    6/11/21\n",
            "rank                                                         92\n",
            "song              Ya Superame (En Vivo Desde Culiacan, Sinaloa)\n",
            "artist                                              Grupo Firme\n",
            "last-week                                                  92.0\n",
            "peak-rank                                                    92\n",
            "weeks-on-board                                                2\n",
            "year                                                         21\n",
            "id                                                           92\n",
            "Name: 91, dtype: object\n"
          ]
        }
      ]
    },
    {
      "cell_type": "code",
      "source": [
        "print(charts_no_duplicate.loc[299])\n",
        "df.loc[298.5] = getTrackFeatures('1QL7nSDZCwZMnbisV4KOXt')\n",
        "df = df.sort_index().reset_index(drop=True)"
      ],
      "metadata": {
        "colab": {
          "base_uri": "https://localhost:8080/"
        },
        "id": "SoUGtw0wG4i_",
        "outputId": "e294a8cd-0516-4aba-cb1d-7df37d3dda9b"
      },
      "execution_count": null,
      "outputs": [
        {
          "output_type": "stream",
          "name": "stdout",
          "text": [
            "index                                       1491\n",
            "date                                     31/7/21\n",
            "rank                                          92\n",
            "song                             transparentsoul\n",
            "artist            Willow Featuring Travis Barker\n",
            "last-week                                   93.0\n",
            "peak-rank                                     76\n",
            "weeks-on-board                                 6\n",
            "year                                          21\n",
            "id                                           300\n",
            "Name: 299, dtype: object\n"
          ]
        }
      ]
    },
    {
      "cell_type": "code",
      "source": [
        "print(charts_no_duplicate.loc[348])\n",
        "df.loc[347.5] = getTrackFeatures('5W8jRrZ6tWrTrqnKRtIQBf')\n",
        "df = df.sort_index().reset_index(drop=True)"
      ],
      "metadata": {
        "colab": {
          "base_uri": "https://localhost:8080/"
        },
        "id": "HCCw1uoMHVoh",
        "outputId": "4c2f5e49-4b3a-4c61-ca92-ab2122189a2d"
      },
      "execution_count": null,
      "outputs": [
        {
          "output_type": "stream",
          "name": "stdout",
          "text": [
            "index                           1887\n",
            "date                          3/7/21\n",
            "rank                              88\n",
            "song              pride.is.the.devil\n",
            "artist            J. Cole & Lil Baby\n",
            "last-week                       84.0\n",
            "peak-rank                          7\n",
            "weeks-on-board                     6\n",
            "year                              21\n",
            "id                               349\n",
            "Name: 348, dtype: object\n"
          ]
        }
      ]
    },
    {
      "cell_type": "code",
      "source": [
        "print(charts_no_duplicate.loc[402])\n",
        "df.loc[401.5] = getTrackFeatures('0GAyuCo975IHGxxiLKDufB')\n",
        "df = df.sort_index().reset_index(drop=True)"
      ],
      "metadata": {
        "colab": {
          "base_uri": "https://localhost:8080/"
        },
        "id": "ZijpoZwlHlSh",
        "outputId": "04345a98-0969-4df1-8f6f-58e631bdac89"
      },
      "execution_count": null,
      "outputs": [
        {
          "output_type": "stream",
          "name": "stdout",
          "text": [
            "index                             2282\n",
            "date                            5/6/21\n",
            "rank                                83\n",
            "song                    let.go.my.hand\n",
            "artist            J. Cole, Bas & 6LACK\n",
            "last-week                         19.0\n",
            "peak-rank                           19\n",
            "weeks-on-board                       2\n",
            "year                                21\n",
            "id                                 403\n",
            "Name: 402, dtype: object\n"
          ]
        }
      ]
    },
    {
      "cell_type": "code",
      "source": [
        "print(charts_no_duplicate.loc[404])\n",
        "df.loc[403.5] = getTrackFeatures('57ZUX6TNyKLBydAdVVd02x')\n",
        "df = df.sort_index().reset_index(drop=True)"
      ],
      "metadata": {
        "colab": {
          "base_uri": "https://localhost:8080/"
        },
        "id": "eUKtOtBCH1Am",
        "outputId": "5816b3eb-93dc-4038-a68a-2ffe82556dde"
      },
      "execution_count": null,
      "outputs": [
        {
          "output_type": "stream",
          "name": "stdout",
          "text": [
            "index                           2296\n",
            "date                          5/6/21\n",
            "rank                              97\n",
            "song              punchin'.the.clock\n",
            "artist                       J. Cole\n",
            "last-week                       20.0\n",
            "peak-rank                         20\n",
            "weeks-on-board                     2\n",
            "year                              21\n",
            "id                               405\n",
            "Name: 404, dtype: object\n"
          ]
        }
      ]
    },
    {
      "cell_type": "code",
      "source": [
        "print(charts_no_duplicate.loc[405])\n",
        "df.loc[404.5] = getTrackFeatures('5lLNBIyjp72btcnrjBG751')\n",
        "df = df.sort_index().reset_index(drop=True)"
      ],
      "metadata": {
        "colab": {
          "base_uri": "https://localhost:8080/"
        },
        "id": "VYL6sMvcIBKH",
        "outputId": "16038055-a039-429e-a711-9a072c51c5b1"
      },
      "execution_count": null,
      "outputs": [
        {
          "output_type": "stream",
          "name": "stdout",
          "text": [
            "index                       2298\n",
            "date                      5/6/21\n",
            "rank                          99\n",
            "song              the.climb.back\n",
            "artist                   J. Cole\n",
            "last-week                   25.0\n",
            "peak-rank                     25\n",
            "weeks-on-board                 4\n",
            "year                          21\n",
            "id                           406\n",
            "Name: 405, dtype: object\n"
          ]
        }
      ]
    },
    {
      "cell_type": "code",
      "source": [
        "print(charts_no_duplicate.loc[406])\n",
        "df.loc[405.5] = getTrackFeatures('5BwQjRasNcdRPuVWKcHto2')\n",
        "df = df.sort_index().reset_index(drop=True)"
      ],
      "metadata": {
        "colab": {
          "base_uri": "https://localhost:8080/"
        },
        "id": "TrCziOG3IfjK",
        "outputId": "7a4b1633-2e79-4d67-fa6b-4feb5eeff5e4"
      },
      "execution_count": null,
      "outputs": [
        {
          "output_type": "stream",
          "name": "stdout",
          "text": [
            "index                           2327\n",
            "date                         29/5/21\n",
            "rank                              28\n",
            "song              hunger.on.hillside\n",
            "artist                 J. Cole & Bas\n",
            "last-week                        NaN\n",
            "peak-rank                         28\n",
            "weeks-on-board                     1\n",
            "year                              21\n",
            "id                               407\n",
            "Name: 406, dtype: object\n"
          ]
        }
      ]
    },
    {
      "cell_type": "code",
      "source": [
        "print(charts_no_duplicate.loc[578])\n",
        "df.loc[577.5] = getTrackFeatures('1tEskhLQFPHfBqDaBgtkyO')\n",
        "df = df.sort_index().reset_index(drop=True)"
      ],
      "metadata": {
        "colab": {
          "base_uri": "https://localhost:8080/"
        },
        "id": "CrdhFGPCJImk",
        "outputId": "6b093e30-449d-499b-b144-afcd613c5d16"
      },
      "execution_count": null,
      "outputs": [
        {
          "output_type": "stream",
          "name": "stdout",
          "text": [
            "index                                        3852\n",
            "date                                      13/2/21\n",
            "rank                                           53\n",
            "song                             Should've Ducked\n",
            "artist            Lil Durk Featuring Pooh Shiesty\n",
            "last-week                                     NaN\n",
            "peak-rank                                      53\n",
            "weeks-on-board                                  1\n",
            "year                                           21\n",
            "id                                            579\n",
            "Name: 578, dtype: object\n"
          ]
        }
      ]
    },
    {
      "cell_type": "code",
      "source": [
        "print(charts_no_duplicate.loc[616])\n",
        "df.loc[615.5] = getTrackFeatures('77XoAnllT85lmR9WP0D8dS')\n",
        "df = df.sort_index().reset_index(drop=True)"
      ],
      "metadata": {
        "colab": {
          "base_uri": "https://localhost:8080/"
        },
        "id": "wnaIdBnuJR67",
        "outputId": "25beb849-4a7b-4c3b-ef49-b198ee7d44f0"
      },
      "execution_count": null,
      "outputs": [
        {
          "output_type": "stream",
          "name": "stdout",
          "text": [
            "index                                4275\n",
            "date                              16/1/21\n",
            "rank                                   76\n",
            "song              Ain't Always The Cowboy\n",
            "artist                          Jon Pardi\n",
            "last-week                            83.0\n",
            "peak-rank                              55\n",
            "weeks-on-board                         18\n",
            "year                                   21\n",
            "id                                    617\n",
            "Name: 616, dtype: object\n"
          ]
        }
      ]
    },
    {
      "cell_type": "code",
      "source": [
        "print(charts_no_duplicate.loc[688])\n",
        "df.loc[687.5] = getTrackFeatures('27oVCAziETRbNuo5A8LNpg')\n",
        "df = df.sort_index().reset_index(drop=True)"
      ],
      "metadata": {
        "colab": {
          "base_uri": "https://localhost:8080/"
        },
        "id": "W5mpxBZGJiaC",
        "outputId": "58bc6836-fb99-4dde-dd0e-d1f4239bad41"
      },
      "execution_count": null,
      "outputs": [
        {
          "output_type": "stream",
          "name": "stdout",
          "text": [
            "index                          4577\n",
            "date                       26/12/20\n",
            "rank                             78\n",
            "song              Mr. Solo Dolo III\n",
            "artist                     Kid Cudi\n",
            "last-week                       NaN\n",
            "peak-rank                        78\n",
            "weeks-on-board                    1\n",
            "year                             20\n",
            "id                              689\n",
            "Name: 688, dtype: object\n"
          ]
        }
      ]
    },
    {
      "cell_type": "code",
      "source": [
        "print(charts_no_duplicate.loc[1615])\n",
        "df.loc[1614.5] = getTrackFeatures('7ILEWkpfdK6AjH2D7jppWk')\n",
        "df = df.sort_index().reset_index(drop=True)"
      ],
      "metadata": {
        "colab": {
          "base_uri": "https://localhost:8080/"
        },
        "id": "RdLtvo6tJ09n",
        "outputId": "2e0a6112-c8e9-4d43-eb12-2d48343dd915"
      },
      "execution_count": null,
      "outputs": [
        {
          "output_type": "stream",
          "name": "stdout",
          "text": [
            "index                                                 12166\n",
            "date                                                13/7/19\n",
            "rank                                                     67\n",
            "song                                      Don't Check On Me\n",
            "artist            Chris Brown Featuring Justin Bieber & Ink\n",
            "last-week                                               NaN\n",
            "peak-rank                                                67\n",
            "weeks-on-board                                            1\n",
            "year                                                     19\n",
            "id                                                     1616\n",
            "Name: 1615, dtype: object\n"
          ]
        }
      ]
    },
    {
      "cell_type": "code",
      "source": [
        "print(charts_no_duplicate.loc[1836])\n",
        "df.loc[1835.5] = getTrackFeatures('0hPLZrnDgtKxrym1BHjDhd')\n",
        "df = df.sort_index().reset_index(drop=True)"
      ],
      "metadata": {
        "colab": {
          "base_uri": "https://localhost:8080/"
        },
        "id": "hc0WVkXWKFuf",
        "outputId": "5d719845-42a0-4210-d1f3-34eb301e3704"
      },
      "execution_count": null,
      "outputs": [
        {
          "output_type": "stream",
          "name": "stdout",
          "text": [
            "index                              14592\n",
            "date                             26/1/19\n",
            "rank                                  93\n",
            "song              Can't Leave Without It\n",
            "artist                         21 Savage\n",
            "last-week                           70.0\n",
            "peak-rank                             58\n",
            "weeks-on-board                         4\n",
            "year                                  19\n",
            "id                                  1837\n",
            "Name: 1836, dtype: object\n"
          ]
        }
      ]
    },
    {
      "cell_type": "code",
      "source": [
        "print(charts_no_duplicate.loc[2204])\n",
        "df.loc[2203.5] = getTrackFeatures('1nGoy0cEj0extAwXYNYTWd')\n",
        "df = df.sort_index().reset_index(drop=True)"
      ],
      "metadata": {
        "colab": {
          "base_uri": "https://localhost:8080/"
        },
        "id": "g2RRpHh5KW2b",
        "outputId": "21a69d60-2434-4369-dc0c-01003baaf8a8"
      },
      "execution_count": null,
      "outputs": [
        {
          "output_type": "stream",
          "name": "stdout",
          "text": [
            "index                                          17691\n",
            "date                                         23/6/18\n",
            "rank                                              92\n",
            "song                                  Wouldn't Leave\n",
            "artist            Kanye West Featuring PARTYNEXTDOOR\n",
            "last-week                                       24.0\n",
            "peak-rank                                         24\n",
            "weeks-on-board                                     2\n",
            "year                                              18\n",
            "id                                              2205\n",
            "Name: 2204, dtype: object\n"
          ]
        }
      ]
    },
    {
      "cell_type": "code",
      "source": [
        "print(charts_no_duplicate.loc[2211])\n",
        "df.loc[2210.5] = getTrackFeatures('6ojicjDYUUoeE1tdSvfFo4')\n",
        "df = df.sort_index().reset_index(drop=True)"
      ],
      "metadata": {
        "colab": {
          "base_uri": "https://localhost:8080/"
        },
        "id": "sqvNcQtTKiaE",
        "outputId": "f8604339-869f-4a63-f10a-b61050b54d3f"
      },
      "execution_count": null,
      "outputs": [
        {
          "output_type": "stream",
          "name": "stdout",
          "text": [
            "index                             17780\n",
            "date                            16/6/18\n",
            "rank                                 81\n",
            "song              Must've Never Met You\n",
            "artist                       Luke Combs\n",
            "last-week                           NaN\n",
            "peak-rank                            81\n",
            "weeks-on-board                        1\n",
            "year                                 18\n",
            "id                                 2212\n",
            "Name: 2211, dtype: object\n"
          ]
        }
      ]
    },
    {
      "cell_type": "code",
      "source": [
        "print(charts_no_duplicate.loc[2498])\n",
        "df.loc[2497.5] = getTrackFeatures('2D2w9943rsnJOGCrI4aMQp')\n",
        "df = df.sort_index().reset_index(drop=True)"
      ],
      "metadata": {
        "colab": {
          "base_uri": "https://localhost:8080/"
        },
        "id": "pGm0jsN_K62h",
        "outputId": "b61b1899-5b56-4e74-b5ca-0f0b44e0827d"
      },
      "execution_count": null,
      "outputs": [
        {
          "output_type": "stream",
          "name": "stdout",
          "text": [
            "index                                20672\n",
            "date                              25/11/17\n",
            "rank                                    73\n",
            "song                 My Choppa Hate N****s\n",
            "artist            21 Savage & Metro Boomin\n",
            "last-week                             94.0\n",
            "peak-rank                               73\n",
            "weeks-on-board                           2\n",
            "year                                    17\n",
            "id                                    2499\n",
            "Name: 2498, dtype: object\n"
          ]
        }
      ]
    },
    {
      "cell_type": "code",
      "source": [
        "print(charts_no_duplicate.loc[2687])\n",
        "df.loc[2686.5] = getTrackFeatures('0OVhQZkNe7lh0fQeH96EFW')\n",
        "df = df.sort_index().reset_index(drop=True)"
      ],
      "metadata": {
        "colab": {
          "base_uri": "https://localhost:8080/"
        },
        "id": "DmvusRSeK68g",
        "outputId": "1245e442-b83d-4b1d-e82c-b4b36331cd10"
      },
      "execution_count": null,
      "outputs": [
        {
          "output_type": "stream",
          "name": "stdout",
          "text": [
            "index                          22988\n",
            "date                         17/6/17\n",
            "rank                              89\n",
            "song              Don't Get Too High\n",
            "artist                 Bryson Tiller\n",
            "last-week                        NaN\n",
            "peak-rank                         89\n",
            "weeks-on-board                     1\n",
            "year                              17\n",
            "id                              2688\n",
            "Name: 2687, dtype: object\n"
          ]
        }
      ]
    },
    {
      "cell_type": "code",
      "source": [
        "print(charts_no_duplicate.loc[2775])\n",
        "df.loc[2774.5] = getTrackFeatures('5f5r2N4Lp9WoULWPH9zp2W')\n",
        "df = df.sort_index().reset_index(drop=True)"
      ],
      "metadata": {
        "colab": {
          "base_uri": "https://localhost:8080/"
        },
        "id": "bvQpLg01LjCk",
        "outputId": "125920dd-9955-47d9-8a4d-893083eeae90"
      },
      "execution_count": null,
      "outputs": [
        {
          "output_type": "stream",
          "name": "stdout",
          "text": [
            "index                             23896\n",
            "date                            15/4/17\n",
            "rank                                 97\n",
            "song              Can't Have Everything\n",
            "artist                            Drake\n",
            "last-week                          82.0\n",
            "peak-rank                            82\n",
            "weeks-on-board                        2\n",
            "year                                 17\n",
            "id                                 2776\n",
            "Name: 2775, dtype: object\n"
          ]
        }
      ]
    },
    {
      "cell_type": "code",
      "source": [
        "print(charts_no_duplicate.loc[3025])\n",
        "df.loc[3024.5] = getTrackFeatures('2GICtNjlmq5w1XIQ9s0D9y')\n",
        "df = df.sort_index().reset_index(drop=True)"
      ],
      "metadata": {
        "colab": {
          "base_uri": "https://localhost:8080/"
        },
        "id": "Y3YfiRBpLuZZ",
        "outputId": "4c513957-c883-4337-a9a5-7ce3b5d4b644"
      },
      "execution_count": null,
      "outputs": [
        {
          "output_type": "stream",
          "name": "stdout",
          "text": [
            "index                                            26496\n",
            "date                                          15/10/16\n",
            "rank                                                97\n",
            "song              With You Tonight / Hasta El Amanecer\n",
            "artist                                       Nicky Jam\n",
            "last-week                                         94.0\n",
            "peak-rank                                           73\n",
            "weeks-on-board                                      19\n",
            "year                                                16\n",
            "id                                                3026\n",
            "Name: 3025, dtype: object\n"
          ]
        }
      ]
    },
    {
      "cell_type": "code",
      "source": [
        "print(charts_no_duplicate.loc[3796])\n",
        "df.loc[3795.5] = getTrackFeatures('3tPYlTUFTkGTRKYgPn1vei')\n",
        "df = df.sort_index().reset_index(drop=True)"
      ],
      "metadata": {
        "colab": {
          "base_uri": "https://localhost:8080/"
        },
        "id": "tC2t-lDxN-Bh",
        "outputId": "ba374e6a-4ba1-4d58-d706-2c43d8883bd5"
      },
      "execution_count": null,
      "outputs": [
        {
          "output_type": "stream",
          "name": "stdout",
          "text": [
            "index                              36689\n",
            "date                             1/11/14\n",
            "rank                                  90\n",
            "song              I'm Not Gonna Miss You\n",
            "artist                     Glen Campbell\n",
            "last-week                            NaN\n",
            "peak-rank                             90\n",
            "weeks-on-board                         1\n",
            "year                                  14\n",
            "id                                  3797\n",
            "Name: 3796, dtype: object\n"
          ]
        }
      ]
    },
    {
      "cell_type": "code",
      "source": [
        "print(charts_no_duplicate.loc[3934])\n",
        "df.loc[3933.5] = getTrackFeatures('0BBj0SW3vef8UNzTg4lwH9')\n",
        "df = df.sort_index().reset_index(drop=True)"
      ],
      "metadata": {
        "colab": {
          "base_uri": "https://localhost:8080/"
        },
        "id": "fH41daYtOM2z",
        "outputId": "3293b28b-6f11-4ce8-d701-864a095107be"
      },
      "execution_count": null,
      "outputs": [
        {
          "output_type": "stream",
          "name": "stdout",
          "text": [
            "index                                    38799\n",
            "date                                    7/6/14\n",
            "rank                                       100\n",
            "song              Can't Remember To Forget You\n",
            "artist               Shakira Featuring Rihanna\n",
            "last-week                                 93.0\n",
            "peak-rank                                   15\n",
            "weeks-on-board                              19\n",
            "year                                        14\n",
            "id                                        3935\n",
            "Name: 3934, dtype: object\n"
          ]
        }
      ]
    },
    {
      "cell_type": "code",
      "source": [
        "print(charts_no_duplicate.loc[4001])\n",
        "df.loc[4000.5] = getTrackFeatures('0vvKyFjX1hzSwpNtVwnJ2H')\n",
        "df = df.sort_index().reset_index(drop=True)"
      ],
      "metadata": {
        "colab": {
          "base_uri": "https://localhost:8080/"
        },
        "id": "Z5TALZJwOb2V",
        "outputId": "16901512-9e80-42d0-9994-bfd22fd2f5fd"
      },
      "execution_count": null,
      "outputs": [
        {
          "output_type": "stream",
          "name": "stdout",
          "text": [
            "index                         39696\n",
            "date                         5/4/14\n",
            "rank                             97\n",
            "song              Can't Raise A Man\n",
            "artist                  K. Michelle\n",
            "last-week                      95.0\n",
            "peak-rank                        94\n",
            "weeks-on-board                    7\n",
            "year                             14\n",
            "id                             4002\n",
            "Name: 4001, dtype: object\n"
          ]
        }
      ]
    },
    {
      "cell_type": "code",
      "source": [
        "print(charts_no_duplicate.loc[4035])\n",
        "df.loc[4034.5] = getTrackFeatures('0nlMls0o7JPGhbyRNvGnOZ')\n",
        "df = df.sort_index().reset_index(drop=True)"
      ],
      "metadata": {
        "colab": {
          "base_uri": "https://localhost:8080/"
        },
        "id": "aH3IVfE0OotB",
        "outputId": "6be16e66-b816-4181-d2e6-b362c1563e47"
      },
      "execution_count": null,
      "outputs": [
        {
          "output_type": "stream",
          "name": "stdout",
          "text": [
            "index                             40187\n",
            "date                             1/3/14\n",
            "rank                                 88\n",
            "song              You're Mine (Eternal)\n",
            "artist                     Mariah Carey\n",
            "last-week                           NaN\n",
            "peak-rank                            88\n",
            "weeks-on-board                        1\n",
            "year                                 14\n",
            "id                                 4036\n",
            "Name: 4035, dtype: object\n"
          ]
        }
      ]
    },
    {
      "cell_type": "code",
      "source": [
        "print(charts_no_duplicate.loc[4202])\n",
        "df.loc[4201.5] = getTrackFeatures('3gTBF9aB9MVCy9ejLo8HJJ')\n",
        "df = df.sort_index().reset_index(drop=True)"
      ],
      "metadata": {
        "colab": {
          "base_uri": "https://localhost:8080/"
        },
        "id": "5wymr8H0PeFm",
        "outputId": "fc908969-edaa-40ff-e4c4-a8af1617af95"
      },
      "execution_count": null,
      "outputs": [
        {
          "output_type": "stream",
          "name": "stdout",
          "text": [
            "index                                  42381\n",
            "date                                 28/9/13\n",
            "rank                                      82\n",
            "song              Don't Drop That Thun Thun!\n",
            "artist                         The FiNATTiCZ\n",
            "last-week                               71.0\n",
            "peak-rank                                 35\n",
            "weeks-on-board                            10\n",
            "year                                      13\n",
            "id                                      4203\n",
            "Name: 4202, dtype: object\n"
          ]
        }
      ]
    },
    {
      "cell_type": "code",
      "source": [
        "print(charts_no_duplicate.loc[4440])\n",
        "df.loc[4439.5] = getTrackFeatures('2qWTGIvj3t9VdkggzllU8G')\n",
        "df = df.sort_index().reset_index(drop=True)"
      ],
      "metadata": {
        "colab": {
          "base_uri": "https://localhost:8080/"
        },
        "id": "E6aUFZd1PnlL",
        "outputId": "b21e4194-3297-41b4-e6e2-db18ebc5222c"
      },
      "execution_count": null,
      "outputs": [
        {
          "output_type": "stream",
          "name": "stdout",
          "text": [
            "index                                                         45592\n",
            "date                                                        16/2/13\n",
            "rank                                                             93\n",
            "song              Riff Off: Mickey / Like A Virgin / Hit Me With...\n",
            "artist            The Barden Bellas, The Treblemakers & The BU H...\n",
            "last-week                                                      86.0\n",
            "peak-rank                                                        86\n",
            "weeks-on-board                                                    5\n",
            "year                                                             13\n",
            "id                                                             4441\n",
            "Name: 4440, dtype: object\n"
          ]
        }
      ]
    },
    {
      "cell_type": "code",
      "source": [
        "print(charts_no_duplicate.loc[4744])\n",
        "df.loc[4743.5] = getTrackFeatures('4HRa9ZWcmZ8JD7UySPu0wT')\n",
        "df = df.sort_index().reset_index(drop=True)"
      ],
      "metadata": {
        "id": "viDHiv-ePzvM",
        "outputId": "93776d33-ff5c-4eac-9060-915df181adb8",
        "colab": {
          "base_uri": "https://localhost:8080/"
        }
      },
      "execution_count": null,
      "outputs": [
        {
          "output_type": "stream",
          "name": "stdout",
          "text": [
            "index                                       50196\n",
            "date                                      31/3/12\n",
            "rank                                           97\n",
            "song              Don't Stop (Color On The Walls)\n",
            "artist                          Foster The People\n",
            "last-week                                    98.0\n",
            "peak-rank                                      86\n",
            "weeks-on-board                                  9\n",
            "year                                           12\n",
            "id                                           4745\n",
            "Name: 4744, dtype: object\n"
          ]
        }
      ]
    },
    {
      "cell_type": "code",
      "source": [
        "print(charts_no_duplicate.loc[5137])\n",
        "df.loc[5136.5] = getTrackFeatures('3nnJwpK7mH3Vdovz1OmqCF')\n",
        "df = df.sort_index().reset_index(drop=True)"
      ],
      "metadata": {
        "colab": {
          "base_uri": "https://localhost:8080/"
        },
        "id": "HfH6fw-EqpkX",
        "outputId": "af1bab66-9086-474d-d058-1e8ce7144191"
      },
      "execution_count": null,
      "outputs": [
        {
          "output_type": "stream",
          "name": "stdout",
          "text": [
            "index                                                         54571\n",
            "date                                                        28/5/11\n",
            "rank                                                             72\n",
            "song              I'm Not Gonna Teach Your Boyfriend To Dance Wi...\n",
            "artist                                                    Glee Cast\n",
            "last-week                                                       NaN\n",
            "peak-rank                                                        72\n",
            "weeks-on-board                                                    1\n",
            "year                                                             11\n",
            "id                                                             5138\n",
            "Name: 5137, dtype: object\n"
          ]
        }
      ]
    },
    {
      "cell_type": "code",
      "source": [
        "print(charts_no_duplicate.loc[5354])\n",
        "df.loc[5353.5] = getTrackFeatures('0T6Bs49TkEFPvxl3tZOkkF')\n",
        "df = df.sort_index().reset_index(drop=True)"
      ],
      "metadata": {
        "colab": {
          "base_uri": "https://localhost:8080/"
        },
        "id": "w_z8--6zrFSU",
        "outputId": "a86e22b0-080d-4cad-851a-f55cd45967da"
      },
      "execution_count": null,
      "outputs": [
        {
          "output_type": "stream",
          "name": "stdout",
          "text": [
            "index                                                        56896\n",
            "date                                                      18/12/10\n",
            "rank                                                            97\n",
            "song              Don't Cry For Me Argentina (Lea Michele Version)\n",
            "artist                                                   Glee Cast\n",
            "last-week                                                      NaN\n",
            "peak-rank                                                       97\n",
            "weeks-on-board                                                   1\n",
            "year                                                            10\n",
            "id                                                            5355\n",
            "Name: 5354, dtype: object\n"
          ]
        }
      ]
    },
    {
      "cell_type": "code",
      "source": [
        "print(charts_no_duplicate.loc[5648])\n",
        "df.loc[5647.5] = getTrackFeatures('3oCRs9r4CUZESH7e3axxKU')\n",
        "df = df.sort_index().reset_index(drop=True)"
      ],
      "metadata": {
        "colab": {
          "base_uri": "https://localhost:8080/"
        },
        "id": "XOwaWTZBrZWM",
        "outputId": "3428a07d-33d4-4cb6-dacf-0e2857f44e26"
      },
      "execution_count": null,
      "outputs": [
        {
          "output_type": "stream",
          "name": "stdout",
          "text": [
            "index                                         59899\n",
            "date                                        22/5/10\n",
            "rank                                            100\n",
            "song              Give Me A Sign (Forever And Ever)\n",
            "artist                            Breaking Benjamin\n",
            "last-week                                      99.0\n",
            "peak-rank                                        97\n",
            "weeks-on-board                                    5\n",
            "year                                             10\n",
            "id                                             5649\n",
            "Name: 5648, dtype: object\n"
          ]
        }
      ]
    },
    {
      "cell_type": "code",
      "source": [
        "print(charts_no_duplicate.loc[5736])\n",
        "df.loc[5735.5] = getTrackFeatures('4kLzo3exwh18YxYqBxLsuX')\n",
        "df = df.sort_index().reset_index(drop=True)"
      ],
      "metadata": {
        "colab": {
          "base_uri": "https://localhost:8080/"
        },
        "id": "NH7UzJF4ruWu",
        "outputId": "2444a50d-8b0b-466d-ff55-45cf911ec1ef"
      },
      "execution_count": null,
      "outputs": [
        {
          "output_type": "stream",
          "name": "stdout",
          "text": [
            "index                                            60896\n",
            "date                                           13/3/10\n",
            "rank                                                97\n",
            "song              Didn't You Know How Much I Loved You\n",
            "artist                                  Kellie Pickler\n",
            "last-week                                          NaN\n",
            "peak-rank                                           97\n",
            "weeks-on-board                                       2\n",
            "year                                                10\n",
            "id                                                5737\n",
            "Name: 5736, dtype: object\n"
          ]
        }
      ]
    },
    {
      "cell_type": "code",
      "source": [
        "print(charts_no_duplicate.loc[5765])\n",
        "df.loc[5764.5] = getTrackFeatures('7i8eqTke7Fl8jl5pbEQPC5')\n",
        "df = df.sort_index().reset_index(drop=True)"
      ],
      "metadata": {
        "colab": {
          "base_uri": "https://localhost:8080/"
        },
        "id": "TwCn4OWtr-pR",
        "outputId": "cb4b6fd2-159b-4eff-bd81-9b4f4bc06cb1"
      },
      "execution_count": null,
      "outputs": [
        {
          "output_type": "stream",
          "name": "stdout",
          "text": [
            "index                                       61284\n",
            "date                                      13/2/10\n",
            "rank                                           85\n",
            "song                   Stranded (Haiti Mon Amour)\n",
            "artist            Jay-Z, Bono, The Edge & Rihanna\n",
            "last-week                                    16.0\n",
            "peak-rank                                      16\n",
            "weeks-on-board                                  2\n",
            "year                                           10\n",
            "id                                           5766\n",
            "Name: 5765, dtype: object\n"
          ]
        }
      ]
    },
    {
      "cell_type": "code",
      "source": [
        "print(charts_no_duplicate.loc[5839])\n",
        "df.loc[5838.5] = getTrackFeatures('4M44ezhmtmWq97SZATK9eD')\n",
        "df = df.sort_index().reset_index(drop=True)"
      ],
      "metadata": {
        "colab": {
          "base_uri": "https://localhost:8080/"
        },
        "id": "n5_BOOn6sgmC",
        "outputId": "bc2f4371-5581-468a-fa51-7bd8e9e6f169"
      },
      "execution_count": null,
      "outputs": [
        {
          "output_type": "stream",
          "name": "stdout",
          "text": [
            "index                                               62263\n",
            "date                                              5/12/09\n",
            "rank                                                   64\n",
            "song              Don't Stand So Close To Me / Young Girl\n",
            "artist                                          Glee Cast\n",
            "last-week                                             NaN\n",
            "peak-rank                                              64\n",
            "weeks-on-board                                          1\n",
            "year                                                    9\n",
            "id                                                   5840\n",
            "Name: 5839, dtype: object\n"
          ]
        }
      ]
    },
    {
      "cell_type": "code",
      "source": [
        "print(charts_no_duplicate.loc[5905])\n",
        "df.loc[5904.5] = getTrackFeatures('2vJVTVxLUZHjxan5UtBe1V')\n",
        "df = df.sort_index().reset_index(drop=True)"
      ],
      "metadata": {
        "colab": {
          "base_uri": "https://localhost:8080/"
        },
        "id": "wj-VYjESsrkY",
        "outputId": "9841fe41-92aa-48c9-cc62-4c83eb2951ef"
      },
      "execution_count": null,
      "outputs": [
        {
          "output_type": "stream",
          "name": "stdout",
          "text": [
            "index                          62895\n",
            "date                        24/10/09\n",
            "rank                              96\n",
            "song              I'm In Miami Trick\n",
            "artist                         LMFAO\n",
            "last-week                       87.0\n",
            "peak-rank                         51\n",
            "weeks-on-board                    20\n",
            "year                               9\n",
            "id                              5906\n",
            "Name: 5905, dtype: object\n"
          ]
        }
      ]
    },
    {
      "cell_type": "code",
      "source": [
        "print(charts_no_duplicate.loc[5915])\n",
        "df.loc[5914.5] = getTrackFeatures('0eHAYxlo3Ty9pQoht4jvG2')\n",
        "df = df.sort_index().reset_index(drop=True)"
      ],
      "metadata": {
        "colab": {
          "base_uri": "https://localhost:8080/"
        },
        "id": "nqvH5p-Hs92f",
        "outputId": "c0e90b31-aabb-462e-b8d0-8452d4653229"
      },
      "execution_count": null,
      "outputs": [
        {
          "output_type": "stream",
          "name": "stdout",
          "text": [
            "index                         62994\n",
            "date                       17/10/09\n",
            "rank                             95\n",
            "song              I'll Just Hold On\n",
            "artist                Blake Shelton\n",
            "last-week                      78.0\n",
            "peak-rank                        76\n",
            "weeks-on-board                   14\n",
            "year                              9\n",
            "id                             5916\n",
            "Name: 5915, dtype: object\n"
          ]
        }
      ]
    },
    {
      "cell_type": "code",
      "source": [
        "print(charts_no_duplicate.loc[6022])\n",
        "df.loc[6021.5] = getTrackFeatures('3IQSYqnKsCTMLWn2xE3HFT')\n",
        "df = df.sort_index().reset_index(drop=True)"
      ],
      "metadata": {
        "colab": {
          "base_uri": "https://localhost:8080/"
        },
        "id": "PqOwxBvIt7Tw",
        "outputId": "b88e110f-1239-473c-f436-da3cbd7f50c9"
      },
      "execution_count": null,
      "outputs": [
        {
          "output_type": "stream",
          "name": "stdout",
          "text": [
            "index                                          64377\n",
            "date                                         11/7/09\n",
            "rank                                              78\n",
            "song                                   I'm On A Boat\n",
            "artist            The Lonely Island Featuring T-Pain\n",
            "last-week                                       64.0\n",
            "peak-rank                                         56\n",
            "weeks-on-board                                    20\n",
            "year                                               9\n",
            "id                                              6023\n",
            "Name: 6022, dtype: object\n"
          ]
        }
      ]
    },
    {
      "cell_type": "code",
      "source": [
        "print(charts_no_duplicate.loc[6073])\n",
        "df.loc[6072.5] = getTrackFeatures('0B8yh3jfMdQM4Xtfidm2RC')\n",
        "df = df.sort_index().reset_index(drop=True)"
      ],
      "metadata": {
        "colab": {
          "base_uri": "https://localhost:8080/"
        },
        "id": "KVYwvHi0uE5_",
        "outputId": "b0e0126f-8251-4437-e922-09fa70cad1af"
      },
      "execution_count": null,
      "outputs": [
        {
          "output_type": "stream",
          "name": "stdout",
          "text": [
            "index                                   64996\n",
            "date                                  30/5/09\n",
            "rank                                       97\n",
            "song              I'm Just Here For The Music\n",
            "artist                            Paula Abdul\n",
            "last-week                                87.0\n",
            "peak-rank                                  87\n",
            "weeks-on-board                              2\n",
            "year                                        9\n",
            "id                                       6074\n",
            "Name: 6073, dtype: object\n"
          ]
        }
      ]
    },
    {
      "cell_type": "code",
      "source": [
        "print(charts_no_duplicate.loc[6080])\n",
        "df.loc[6079.5] = getTrackFeatures('1SoP2zC2ttcI2zjuRsQ5xx')\n",
        "df = df.sort_index().reset_index(drop=True)"
      ],
      "metadata": {
        "colab": {
          "base_uri": "https://localhost:8080/"
        },
        "id": "UOvvYA9AuPlu",
        "outputId": "3b85429b-7acd-438a-ab93-fe498a10a39b"
      },
      "execution_count": null,
      "outputs": [
        {
          "output_type": "stream",
          "name": "stdout",
          "text": [
            "index                                    65094\n",
            "date                                   23/5/09\n",
            "rank                                        95\n",
            "song              Don't Think I Can't Love You\n",
            "artist                               Jake Owen\n",
            "last-week                                 88.0\n",
            "peak-rank                                   57\n",
            "weeks-on-board                              15\n",
            "year                                         9\n",
            "id                                        6081\n",
            "Name: 6080, dtype: object\n"
          ]
        }
      ]
    },
    {
      "cell_type": "code",
      "source": [
        "print(charts_no_duplicate.loc[6105])\n",
        "df.loc[6104.5] = getTrackFeatures('12wSL3tGk3MtbDEhfG7xy3')\n",
        "df = df.sort_index().reset_index(drop=True)"
      ],
      "metadata": {
        "colab": {
          "base_uri": "https://localhost:8080/"
        },
        "id": "9GsV82DfuYyg",
        "outputId": "f790ea7b-8f35-4b36-f4bb-e9f0e32316e2"
      },
      "execution_count": null,
      "outputs": [
        {
          "output_type": "stream",
          "name": "stdout",
          "text": [
            "index                                             65380\n",
            "date                                             2/5/09\n",
            "rank                                                 81\n",
            "song              You'll Always Find Your Way Back Home\n",
            "artist                                   Hannah Montana\n",
            "last-week                                          88.0\n",
            "peak-rank                                            81\n",
            "weeks-on-board                                        4\n",
            "year                                                  9\n",
            "id                                                 6106\n",
            "Name: 6105, dtype: object\n"
          ]
        }
      ]
    },
    {
      "cell_type": "code",
      "source": [
        "print(charts_no_duplicate.loc[6107])\n",
        "df.loc[6106.5] = getTrackFeatures('6bQoVCAhcmYMPFx5pdyNj3')\n",
        "df = df.sort_index().reset_index(drop=True)"
      ],
      "metadata": {
        "colab": {
          "base_uri": "https://localhost:8080/"
        },
        "id": "usCq-cVjuoav",
        "outputId": "20d52dac-87a6-4c34-b0a2-5c2cbdb04a39"
      },
      "execution_count": null,
      "outputs": [
        {
          "output_type": "stream",
          "name": "stdout",
          "text": [
            "index                             65390\n",
            "date                             2/5/09\n",
            "rank                                 91\n",
            "song              Move (If You 'W'anna)\n",
            "artist                             Mims\n",
            "last-week                          77.0\n",
            "peak-rank                            61\n",
            "weeks-on-board                       13\n",
            "year                                  9\n",
            "id                                 6108\n",
            "Name: 6107, dtype: object\n"
          ]
        }
      ]
    },
    {
      "cell_type": "code",
      "source": [
        "print(charts_no_duplicate.loc[6184])\n",
        "df.loc[6183.5] = getTrackFeatures('6TfBA04WJ3X1d1wXhaCFVT')\n",
        "df = df.sort_index().reset_index(drop=True)"
      ],
      "metadata": {
        "colab": {
          "base_uri": "https://localhost:8080/"
        },
        "id": "ZkT8qYuAu0LB",
        "outputId": "0cb5ce0c-cc61-4f20-f4fe-559a40290372"
      },
      "execution_count": null,
      "outputs": [
        {
          "output_type": "stream",
          "name": "stdout",
          "text": [
            "index                                66384\n",
            "date                               21/2/09\n",
            "rank                                    85\n",
            "song              You're Gonna Go Far, Kid\n",
            "artist                       The Offspring\n",
            "last-week                             83.0\n",
            "peak-rank                               63\n",
            "weeks-on-board                          18\n",
            "year                                     9\n",
            "id                                    6185\n",
            "Name: 6184, dtype: object\n"
          ]
        }
      ]
    },
    {
      "cell_type": "code",
      "source": [
        "print(charts_no_duplicate.loc[6216])\n",
        "df.loc[6215.5] = getTrackFeatures('4avrnJ1t946he63pkD4syn')\n",
        "df = df.sort_index().reset_index(drop=True)"
      ],
      "metadata": {
        "colab": {
          "base_uri": "https://localhost:8080/"
        },
        "id": "wrqf0BK9u6Zi",
        "outputId": "99e9685b-22c4-4854-cbb2-0c60efca6cb3"
      },
      "execution_count": null,
      "outputs": [
        {
          "output_type": "stream",
          "name": "stdout",
          "text": [
            "index                                       66774\n",
            "date                                      24/1/09\n",
            "rank                                           75\n",
            "song              Pen & Paper (Something Typical)\n",
            "artist                 The Red Jumpsuit Apparatus\n",
            "last-week                                     NaN\n",
            "peak-rank                                      75\n",
            "weeks-on-board                                  1\n",
            "year                                            9\n",
            "id                                           6217\n",
            "Name: 6216, dtype: object\n"
          ]
        }
      ]
    },
    {
      "cell_type": "code",
      "source": [
        "print(charts_no_duplicate.loc[6252])\n",
        "df.loc[6251.5] = getTrackFeatures('1xQZtbipNLyP0e0hihE5F5')\n",
        "df = df.sort_index().reset_index(drop=True)"
      ],
      "metadata": {
        "colab": {
          "base_uri": "https://localhost:8080/"
        },
        "id": "MyPEX4UjvD4d",
        "outputId": "5873aef7-44d8-4d1d-93a6-64c83a16778c"
      },
      "execution_count": null,
      "outputs": [
        {
          "output_type": "stream",
          "name": "stdout",
          "text": [
            "index                        67394\n",
            "date                      13/12/08\n",
            "rank                            95\n",
            "song              I'd Come For You\n",
            "artist                  Nickelback\n",
            "last-week                     44.0\n",
            "peak-rank                       44\n",
            "weeks-on-board                   2\n",
            "year                             8\n",
            "id                            6253\n",
            "Name: 6252, dtype: object\n"
          ]
        }
      ]
    },
    {
      "cell_type": "code",
      "source": [
        "print(charts_no_duplicate.loc[6319])\n",
        "df.loc[6318.5] = getTrackFeatures('227pyOXIQszch2wJAzx0ny')\n",
        "df = df.sort_index().reset_index(drop=True)"
      ],
      "metadata": {
        "colab": {
          "base_uri": "https://localhost:8080/"
        },
        "id": "0VBJzBXbvQJk",
        "outputId": "e55408ce-f7e3-4a96-c68a-439fc98f2e7c"
      },
      "execution_count": null,
      "outputs": [
        {
          "output_type": "stream",
          "name": "stdout",
          "text": [
            "index                                       68284\n",
            "date                                     11/10/08\n",
            "rank                                           85\n",
            "song              Check Yes Juliet (Run Baby Run)\n",
            "artist                               WE the Kings\n",
            "last-week                                    77.0\n",
            "peak-rank                                      70\n",
            "weeks-on-board                                 11\n",
            "year                                            8\n",
            "id                                           6320\n",
            "Name: 6319, dtype: object\n"
          ]
        }
      ]
    },
    {
      "cell_type": "code",
      "source": [
        "print(charts_no_duplicate.loc[6390])\n",
        "df.loc[6389.5] = getTrackFeatures('7qW9TkSOoSWI63EqzMzksJ')\n",
        "df = df.sort_index().reset_index(drop=True)"
      ],
      "metadata": {
        "colab": {
          "base_uri": "https://localhost:8080/"
        },
        "id": "eZ8lAsI3vYXq",
        "outputId": "89a476b8-482d-4f0a-8c2b-59c1bbd95549"
      },
      "execution_count": null,
      "outputs": [
        {
          "output_type": "stream",
          "name": "stdout",
          "text": [
            "index                       69182\n",
            "date                       9/8/08\n",
            "rank                           83\n",
            "song              I'm Still A Guy\n",
            "artist               Brad Paisley\n",
            "last-week                    76.0\n",
            "peak-rank                      33\n",
            "weeks-on-board                 20\n",
            "year                            8\n",
            "id                           6391\n",
            "Name: 6390, dtype: object\n"
          ]
        }
      ]
    },
    {
      "cell_type": "code",
      "source": [
        "print(charts_no_duplicate.loc[6430])\n",
        "df.loc[6429.5] = getTrackFeatures('5Ga2YBqKtetWgWL2pl3g3f')\n",
        "df = df.sort_index().reset_index(drop=True)"
      ],
      "metadata": {
        "colab": {
          "base_uri": "https://localhost:8080/"
        },
        "id": "kw2JqHjGvtnj",
        "outputId": "bc63342e-cd28-4588-8f6b-4fb6ef00619e"
      },
      "execution_count": null,
      "outputs": [
        {
          "output_type": "stream",
          "name": "stdout",
          "text": [
            "index                              69754\n",
            "date                             28/6/08\n",
            "rank                                  55\n",
            "song              You're Gonna Miss This\n",
            "artist                      Trace Adkins\n",
            "last-week                           55.0\n",
            "peak-rank                             12\n",
            "weeks-on-board                        20\n",
            "year                                   8\n",
            "id                                  6431\n",
            "Name: 6430, dtype: object\n"
          ]
        }
      ]
    },
    {
      "cell_type": "code",
      "source": [
        "print(charts_no_duplicate.loc[6604])\n",
        "df.loc[6603.5] = getTrackFeatures('27K0tchvM5KszaSJEX7fj5')\n",
        "df = df.sort_index().reset_index(drop=True)"
      ],
      "metadata": {
        "colab": {
          "base_uri": "https://localhost:8080/"
        },
        "id": "ag3y0nAWv7a0",
        "outputId": "00a99197-4748-42ad-8a59-3456ca97621f"
      },
      "execution_count": null,
      "outputs": [
        {
          "output_type": "stream",
          "name": "stdout",
          "text": [
            "index                                                       71991\n",
            "date                                                      26/1/08\n",
            "rank                                                           92\n",
            "song                                          Witch Doctor (2007)\n",
            "artist            Alvin And The Chipmunks Featuring Chris Classic\n",
            "last-week                                                    64.0\n",
            "peak-rank                                                      62\n",
            "weeks-on-board                                                  3\n",
            "year                                                            8\n",
            "id                                                           6605\n",
            "Name: 6604, dtype: object\n"
          ]
        }
      ]
    },
    {
      "cell_type": "code",
      "source": [
        "print(charts_no_duplicate.loc[6616])\n",
        "df.loc[6615.5] = getTrackFeatures('59xrXDaYumkmhZtH0jMohG')\n",
        "df = df.sort_index().reset_index(drop=True)"
      ],
      "metadata": {
        "colab": {
          "base_uri": "https://localhost:8080/"
        },
        "id": "AxabrAdawM1h",
        "outputId": "8bb21c3e-2483-4727-907d-e5c083e124d5"
      },
      "execution_count": null,
      "outputs": [
        {
          "output_type": "stream",
          "name": "stdout",
          "text": [
            "index                                                         72165\n",
            "date                                                        12/1/08\n",
            "rank                                                             66\n",
            "song              The Chipmunk Song (Christmas Don't Be Late) (2...\n",
            "artist                                      Alvin And The Chipmunks\n",
            "last-week                                                      70.0\n",
            "peak-rank                                                        66\n",
            "weeks-on-board                                                    2\n",
            "year                                                              8\n",
            "id                                                             6617\n",
            "Name: 6616, dtype: object\n"
          ]
        }
      ]
    },
    {
      "cell_type": "code",
      "source": [
        "print(charts_no_duplicate.loc[6690])\n",
        "df.loc[6689.5] = getTrackFeatures('4ns1XFP3W5JPyzvnAjMdHD')\n",
        "df = df.sort_index().reset_index(drop=True)"
      ],
      "metadata": {
        "colab": {
          "base_uri": "https://localhost:8080/"
        },
        "id": "NPsj6DhiwUQw",
        "outputId": "dcd9168e-aba7-42fe-c008-420c972d9e0b"
      },
      "execution_count": null,
      "outputs": [
        {
          "output_type": "stream",
          "name": "stdout",
          "text": [
            "index                                           73390\n",
            "date                                         20/10/07\n",
            "rank                                               91\n",
            "song              Int'l Players Anthem (I Choose You)\n",
            "artist                          UGK Featuring OutKast\n",
            "last-week                                        84.0\n",
            "peak-rank                                          70\n",
            "weeks-on-board                                      9\n",
            "year                                                7\n",
            "id                                               6691\n",
            "Name: 6690, dtype: object\n"
          ]
        }
      ]
    },
    {
      "cell_type": "code",
      "source": [
        "print(charts_no_duplicate.loc[6764])\n",
        "df.loc[6763.5] = getTrackFeatures('68gSc54o9lUu8aVg3DJqYH')\n",
        "df = df.sort_index().reset_index(drop=True)"
      ],
      "metadata": {
        "colab": {
          "base_uri": "https://localhost:8080/"
        },
        "id": "YPV7lWMawjLs",
        "outputId": "fbc385fb-ff9f-4200-bd72-af27aa1ff32b"
      },
      "execution_count": null,
      "outputs": [
        {
          "output_type": "stream",
          "name": "stdout",
          "text": [
            "index                                                      74492\n",
            "date                                                      4/8/07\n",
            "rank                                                          93\n",
            "song              Before It's Too Late (Sam And Mikaela's Theme)\n",
            "artist                                             Goo Goo Dolls\n",
            "last-week                                                   87.0\n",
            "peak-rank                                                     86\n",
            "weeks-on-board                                                 3\n",
            "year                                                           7\n",
            "id                                                          6765\n",
            "Name: 6764, dtype: object\n"
          ]
        }
      ]
    },
    {
      "cell_type": "code",
      "source": [
        "print(charts_no_duplicate.loc[6819])\n",
        "df.loc[6818.5] = getTrackFeatures('6lptYvvpxe3LIFgEAoQ8DG')\n",
        "df = df.sort_index().reset_index(drop=True)"
      ],
      "metadata": {
        "colab": {
          "base_uri": "https://localhost:8080/"
        },
        "id": "Tbq0YXZxwslg",
        "outputId": "b9d7c406-2d65-4d26-ee48-f1a4a73117bf"
      },
      "execution_count": null,
      "outputs": [
        {
          "output_type": "stream",
          "name": "stdout",
          "text": [
            "index                                        75344\n",
            "date                                        2/6/07\n",
            "rank                                            45\n",
            "song                    Do It Just Like A Rockstar\n",
            "artist            Freak Nasty Featuring Crazy Mike\n",
            "last-week                                     56.0\n",
            "peak-rank                                       45\n",
            "weeks-on-board                                   3\n",
            "year                                             7\n",
            "id                                            6820\n",
            "Name: 6819, dtype: object\n"
          ]
        }
      ]
    },
    {
      "cell_type": "code",
      "source": [
        "print(charts_no_duplicate.loc[6866])\n",
        "df.loc[6865.5] = getTrackFeatures('0EKBV6GybPtALXUgWqWrym')\n",
        "df = df.sort_index().reset_index(drop=True)"
      ],
      "metadata": {
        "colab": {
          "base_uri": "https://localhost:8080/"
        },
        "id": "lKwZ8gHVxOef",
        "outputId": "265e63ff-aacd-47e5-f074-8a976c2f6051"
      },
      "execution_count": null,
      "outputs": [
        {
          "output_type": "stream",
          "name": "stdout",
          "text": [
            "index                                      75874\n",
            "date                                     28/4/07\n",
            "rank                                          75\n",
            "song              The Story (I Was Made For You)\n",
            "artist                            Brandi Carlile\n",
            "last-week                                    NaN\n",
            "peak-rank                                     75\n",
            "weeks-on-board                                 1\n",
            "year                                           7\n",
            "id                                          6867\n",
            "Name: 6866, dtype: object\n"
          ]
        }
      ]
    },
    {
      "cell_type": "code",
      "source": [
        "print(charts_no_duplicate.loc[6881])\n",
        "df.loc[6880.5] = getTrackFeatures('1AfkyOZmDWuJ9miRTrIHKE')\n",
        "df = df.sort_index().reset_index(drop=True)"
      ],
      "metadata": {
        "colab": {
          "base_uri": "https://localhost:8080/"
        },
        "id": "HUZgB5puxWZC",
        "outputId": "b042feb0-90c0-4bd2-9129-056d1da842a2"
      },
      "execution_count": null,
      "outputs": [
        {
          "output_type": "stream",
          "name": "stdout",
          "text": [
            "index                                     76092\n",
            "date                                    14/4/07\n",
            "rank                                         93\n",
            "song                           Wouldn't Get Far\n",
            "artist            The Game Featuring Kanye West\n",
            "last-week                                  82.0\n",
            "peak-rank                                    64\n",
            "weeks-on-board                                9\n",
            "year                                          7\n",
            "id                                         6882\n",
            "Name: 6881, dtype: object\n"
          ]
        }
      ]
    },
    {
      "cell_type": "code",
      "source": [
        "print(charts_no_duplicate.loc[7215])\n",
        "df.loc[7214.5] = getTrackFeatures('1lih9AUGlOI2qbAkptdBsr')\n",
        "df = df.sort_index().reset_index(drop=True)"
      ],
      "metadata": {
        "colab": {
          "base_uri": "https://localhost:8080/"
        },
        "id": "bGRlofPixur2",
        "outputId": "7495595d-187f-4acc-8987-a5f0e424090f"
      },
      "execution_count": null,
      "outputs": [
        {
          "output_type": "stream",
          "name": "stdout",
          "text": [
            "index                                   80836\n",
            "date                                  13/5/06\n",
            "rank                                       37\n",
            "song               I'm N Luv (Wit A Stripper)\n",
            "artist            T-Pain Featuring Mike Jones\n",
            "last-week                                31.0\n",
            "peak-rank                                   5\n",
            "weeks-on-board                             20\n",
            "year                                        6\n",
            "id                                       7216\n",
            "Name: 7215, dtype: object\n"
          ]
        }
      ]
    },
    {
      "cell_type": "code",
      "source": [
        "print(charts_no_duplicate.loc[7374])\n",
        "df.loc[7373.5] = getTrackFeatures('401olpZBrdF03wa5lJfgdy')\n",
        "df = df.sort_index().reset_index(drop=True)"
      ],
      "metadata": {
        "colab": {
          "base_uri": "https://localhost:8080/"
        },
        "id": "GFOFKO7Ix38G",
        "outputId": "60124452-5335-42dc-dc13-3b5a71a75ade"
      },
      "execution_count": null,
      "outputs": [
        {
          "output_type": "stream",
          "name": "stdout",
          "text": [
            "index                               83177\n",
            "date                              3/12/05\n",
            "rank                                   78\n",
            "song              You're Like Comin' Home\n",
            "artist                           Lonestar\n",
            "last-week                            72.0\n",
            "peak-rank                              63\n",
            "weeks-on-board                         11\n",
            "year                                    5\n",
            "id                                   7375\n",
            "Name: 7374, dtype: object\n"
          ]
        }
      ]
    },
    {
      "cell_type": "code",
      "source": [
        "print(charts_no_duplicate.loc[7382])\n",
        "df.loc[7381.5] = getTrackFeatures('0o995gJCGebaza0LWybToU')\n",
        "df = df.sort_index().reset_index(drop=True)"
      ],
      "metadata": {
        "colab": {
          "base_uri": "https://localhost:8080/"
        },
        "id": "CWZ7Sve2yB6E",
        "outputId": "7c7c9cd5-0993-4d0d-8938-ff2b58b07123"
      },
      "execution_count": null,
      "outputs": [
        {
          "output_type": "stream",
          "name": "stdout",
          "text": [
            "index                         83287\n",
            "date                       26/11/05\n",
            "rank                             88\n",
            "song              Doesn't Remind Me\n",
            "artist                   Audioslave\n",
            "last-week                      79.0\n",
            "peak-rank                        68\n",
            "weeks-on-board                   11\n",
            "year                              5\n",
            "id                             7383\n",
            "Name: 7382, dtype: object\n"
          ]
        }
      ]
    },
    {
      "cell_type": "code",
      "source": [
        "print(charts_no_duplicate.loc[7497])\n",
        "df.loc[7496.5] = getTrackFeatures('3ExcxvkepzqXKkf8tfZlI8')\n",
        "df = df.sort_index().reset_index(drop=True)"
      ],
      "metadata": {
        "colab": {
          "base_uri": "https://localhost:8080/"
        },
        "id": "IXmVgu09yJC_",
        "outputId": "4b370733-a9d2-4f4a-ab9f-3476f8dea849"
      },
      "execution_count": null,
      "outputs": [
        {
          "output_type": "stream",
          "name": "stdout",
          "text": [
            "index                               85096\n",
            "date                              23/7/05\n",
            "rank                                   97\n",
            "song              Don't Ask Me How I Know\n",
            "artist                       Bobby Pinson\n",
            "last-week                            88.0\n",
            "peak-rank                              88\n",
            "weeks-on-board                          7\n",
            "year                                    5\n",
            "id                                   7498\n",
            "Name: 7497, dtype: object\n"
          ]
        }
      ]
    },
    {
      "cell_type": "code",
      "source": [
        "print(charts_no_duplicate.loc[7547])\n",
        "df.loc[7546.5] = getTrackFeatures('5KdyG61gbN8d66qjPl2UIz')\n",
        "df = df.sort_index().reset_index(drop=True)"
      ],
      "metadata": {
        "colab": {
          "base_uri": "https://localhost:8080/"
        },
        "id": "Nwt6lQU8yTLl",
        "outputId": "80e12c1b-5b4f-4a98-9a2a-582e3919275f"
      },
      "execution_count": null,
      "outputs": [
        {
          "output_type": "stream",
          "name": "stdout",
          "text": [
            "index                                                  85894\n",
            "date                                                 28/5/05\n",
            "rank                                                      95\n",
            "song              I'll Take That As A Yes (The Hot Tub Song)\n",
            "artist                                           Phil Vassar\n",
            "last-week                                               89.0\n",
            "peak-rank                                                 89\n",
            "weeks-on-board                                             5\n",
            "year                                                       5\n",
            "id                                                      7548\n",
            "Name: 7547, dtype: object\n"
          ]
        }
      ]
    },
    {
      "cell_type": "code",
      "source": [
        "print(charts_no_duplicate.loc[7902])\n",
        "df.loc[7901.5] = getTrackFeatures('510Efpc9eTTSe038rqZwfC')\n",
        "df = df.sort_index().reset_index(drop=True)"
      ],
      "metadata": {
        "colab": {
          "base_uri": "https://localhost:8080/"
        },
        "id": "5wnARrgwyeID",
        "outputId": "a68e387b-778f-4e28-d488-f45000f11b23"
      },
      "execution_count": null,
      "outputs": [
        {
          "output_type": "stream",
          "name": "stdout",
          "text": [
            "index                      91696\n",
            "date                     17/4/04\n",
            "rank                          97\n",
            "song              I'm Really Hot\n",
            "artist             Missy Elliott\n",
            "last-week                   91.0\n",
            "peak-rank                     59\n",
            "weeks-on-board                10\n",
            "year                           4\n",
            "id                          7903\n",
            "Name: 7902, dtype: object\n"
          ]
        }
      ]
    },
    {
      "cell_type": "code",
      "source": [
        "print(charts_no_duplicate.loc[7910])\n",
        "df.loc[7909.5] = getTrackFeatures('0q7z99dIbw37rabJtGBZt5')\n",
        "df = df.sort_index().reset_index(drop=True)"
      ],
      "metadata": {
        "colab": {
          "base_uri": "https://localhost:8080/"
        },
        "id": "uPkUdZ2YytyQ",
        "outputId": "0f3184bd-0a31-40c2-e30a-384e2b426bb1"
      },
      "execution_count": null,
      "outputs": [
        {
          "output_type": "stream",
          "name": "stdout",
          "text": [
            "index                             91893\n",
            "date                             3/4/04\n",
            "rank                                 94\n",
            "song              Work It (Reinvention)\n",
            "artist                            Nelly\n",
            "last-week                          84.0\n",
            "peak-rank                            68\n",
            "weeks-on-board                        5\n",
            "year                                  4\n",
            "id                                 7911\n",
            "Name: 7910, dtype: object\n"
          ]
        }
      ]
    },
    {
      "cell_type": "code",
      "source": [
        "print(charts_no_duplicate.loc[8148])\n",
        "df.loc[8147.5] = getTrackFeatures('5S5TBPy2x24wXbkzpjHdIg')\n",
        "df = df.sort_index().reset_index(drop=True)"
      ],
      "metadata": {
        "colab": {
          "base_uri": "https://localhost:8080/"
        },
        "id": "MpPzyH-8y4-8",
        "outputId": "c89e7846-d826-4db9-eedb-416654e7a7b6"
      },
      "execution_count": null,
      "outputs": [
        {
          "output_type": "stream",
          "name": "stdout",
          "text": [
            "index                         95990\n",
            "date                        21/6/03\n",
            "rank                             91\n",
            "song              That'd Be Alright\n",
            "artist                 Alan Jackson\n",
            "last-week                      83.0\n",
            "peak-rank                        29\n",
            "weeks-on-board                   20\n",
            "year                              3\n",
            "id                             8149\n",
            "Name: 8148, dtype: object\n"
          ]
        }
      ]
    },
    {
      "cell_type": "code",
      "source": [
        "print(charts_no_duplicate.loc[8170])\n",
        "df.loc[8169.5] = getTrackFeatures('3Mkegm3Crq0YEw04lLg0J4')\n",
        "df = df.sort_index().reset_index(drop=True)"
      ],
      "metadata": {
        "colab": {
          "base_uri": "https://localhost:8080/"
        },
        "id": "gzO84hJ0zUPB",
        "outputId": "d4660406-4487-4fc8-e830-f8707c0d5bdc"
      },
      "execution_count": null,
      "outputs": [
        {
          "output_type": "stream",
          "name": "stdout",
          "text": [
            "index                                                    96395\n",
            "date                                                   24/5/03\n",
            "rank                                                        96\n",
            "song              Roll Wit M.V.P. (We Be Like! The La La Song)\n",
            "artist                                              Stagga Lee\n",
            "last-week                                                 91.0\n",
            "peak-rank                                                   91\n",
            "weeks-on-board                                               4\n",
            "year                                                         3\n",
            "id                                                        8171\n",
            "Name: 8170, dtype: object\n"
          ]
        }
      ]
    },
    {
      "cell_type": "code",
      "source": [
        "print(charts_no_duplicate.loc[8206])\n",
        "df.loc[8205.5] = getTrackFeatures('39YovPslPCXbFYhlYjsZ2Y')\n",
        "df = df.sort_index().reset_index(drop=True)"
      ],
      "metadata": {
        "colab": {
          "base_uri": "https://localhost:8080/"
        },
        "id": "okoVVviH0K7Q",
        "outputId": "1fd477f4-8d69-4cf0-9371-8b77fba58a87"
      },
      "execution_count": null,
      "outputs": [
        {
          "output_type": "stream",
          "name": "stdout",
          "text": [
            "index                                             96944\n",
            "date                                            12/4/03\n",
            "rank                                                 45\n",
            "song                             Don't Mess With My Man\n",
            "artist            Nivea Featuring Brian & Brandon Casey\n",
            "last-week                                          37.0\n",
            "peak-rank                                             8\n",
            "weeks-on-board                                       36\n",
            "year                                                  3\n",
            "id                                                 8207\n",
            "Name: 8206, dtype: object\n"
          ]
        }
      ]
    },
    {
      "cell_type": "code",
      "source": [
        "print(charts_no_duplicate.loc[8333])\n",
        "df.loc[8332.5] = getTrackFeatures('2rh1HEbkalvTKVhooKdePe')\n",
        "df = df.sort_index().reset_index(drop=True)"
      ],
      "metadata": {
        "colab": {
          "base_uri": "https://localhost:8080/"
        },
        "id": "bd7pHjzq0UpQ",
        "outputId": "975643cb-5f0b-4e83-db6a-1c7ad80f0b35"
      },
      "execution_count": null,
      "outputs": [
        {
          "output_type": "stream",
          "name": "stdout",
          "text": [
            "index                                  99099\n",
            "date                                16/11/02\n",
            "rank                                     100\n",
            "song              Don't Say No, Just Say Yes\n",
            "artist                                 Avant\n",
            "last-week                               96.0\n",
            "peak-rank                                 96\n",
            "weeks-on-board                             4\n",
            "year                                       2\n",
            "id                                      8334\n",
            "Name: 8333, dtype: object\n"
          ]
        }
      ]
    },
    {
      "cell_type": "code",
      "source": [
        "print(charts_no_duplicate.loc[8390])\n",
        "df.loc[8389.5] = getTrackFeatures('6lvOjbVbunXeDBOEY3QDdZ')\n",
        "df = df.sort_index().reset_index(drop=True)"
      ],
      "metadata": {
        "colab": {
          "base_uri": "https://localhost:8080/"
        },
        "id": "J0QE36Nm0bAS",
        "outputId": "6a0b3b8b-b03d-4a2f-d3f7-dc3a7fed192e"
      },
      "execution_count": null,
      "outputs": [
        {
          "output_type": "stream",
          "name": "stdout",
          "text": [
            "index                                             99982\n",
            "date                                            14/9/02\n",
            "rank                                                 83\n",
            "song              I'm Gonna Miss Her (The Fishin' Song)\n",
            "artist                                     Brad Paisley\n",
            "last-week                                          89.0\n",
            "peak-rank                                            29\n",
            "weeks-on-board                                       20\n",
            "year                                                  2\n",
            "id                                                 8391\n",
            "Name: 8390, dtype: object\n"
          ]
        }
      ]
    },
    {
      "cell_type": "code",
      "source": [
        "print(charts_no_duplicate.loc[8515])\n",
        "df.loc[8514.5] = getTrackFeatures('0jdkdbnRwNVHJQ6zL84pQs')\n",
        "df = df.sort_index().reset_index(drop=True)"
      ],
      "metadata": {
        "colab": {
          "base_uri": "https://localhost:8080/"
        },
        "id": "qiyYVZhc0nHe",
        "outputId": "3385fcbe-08b9-4db4-8148-ca9e9329f9a7"
      },
      "execution_count": null,
      "outputs": [
        {
          "output_type": "stream",
          "name": "stdout",
          "text": [
            "index                           102156\n",
            "date                           13/4/02\n",
            "rank                                57\n",
            "song              Young'n (Holla Back)\n",
            "artist                        Fabolous\n",
            "last-week                         59.0\n",
            "peak-rank                           33\n",
            "weeks-on-board                      20\n",
            "year                                 2\n",
            "id                                8516\n",
            "Name: 8515, dtype: object\n"
          ]
        }
      ]
    },
    {
      "cell_type": "code",
      "source": [
        "print(charts_no_duplicate.loc[8631])\n",
        "df.loc[8630.5] = getTrackFeatures('4EGnzfHA9pWcXxcPL4pSRN')\n",
        "df = df.sort_index().reset_index(drop=True)"
      ],
      "metadata": {
        "colab": {
          "base_uri": "https://localhost:8080/"
        },
        "id": "v7eqd7O-078L",
        "outputId": "7012537c-dbfa-49fe-9a88-b3f8ee67991f"
      },
      "execution_count": null,
      "outputs": [
        {
          "output_type": "stream",
          "name": "stdout",
          "text": [
            "index                                           104395\n",
            "date                                          10/11/01\n",
            "rank                                                96\n",
            "song              I'll Fly With You (L'amour Toujours)\n",
            "artist                                 Gigi D'Agostino\n",
            "last-week                                          NaN\n",
            "peak-rank                                           78\n",
            "weeks-on-board                                      13\n",
            "year                                                 1\n",
            "id                                                8632\n",
            "Name: 8631, dtype: object\n"
          ]
        }
      ]
    },
    {
      "cell_type": "code",
      "source": [
        "print(charts_no_duplicate.loc[8747])\n",
        "df.loc[8746.5] = getTrackFeatures('4iihDHIoKZdOeOW1kFDUtR')\n",
        "df = df.sort_index().reset_index(drop=True)"
      ],
      "metadata": {
        "colab": {
          "base_uri": "https://localhost:8080/"
        },
        "id": "TQQZENeb1G0i",
        "outputId": "01e266d1-ce7e-4734-f2d7-b59d80287622"
      },
      "execution_count": null,
      "outputs": [
        {
          "output_type": "stream",
          "name": "stdout",
          "text": [
            "index                106552\n",
            "date                 9/6/01\n",
            "rank                     53\n",
            "song                  Jaded\n",
            "artist            Aerosmith\n",
            "last-week              42.0\n",
            "peak-rank                 7\n",
            "weeks-on-board           20\n",
            "year                      1\n",
            "id                     8748\n",
            "Name: 8747, dtype: object\n"
          ]
        }
      ]
    },
    {
      "cell_type": "code",
      "source": [
        "print(charts_no_duplicate.loc[8952])\n",
        "df.loc[8951.5] = getTrackFeatures('5d8woPn6sHRA6yPnnHnqSt')\n",
        "df = df.sort_index().reset_index(drop=True)"
      ],
      "metadata": {
        "colab": {
          "base_uri": "https://localhost:8080/"
        },
        "id": "AORi9CdT1Rbk",
        "outputId": "3438a08f-e713-4f7a-80a0-bc92ee86b0dc"
      },
      "execution_count": null,
      "outputs": [
        {
          "output_type": "stream",
          "name": "stdout",
          "text": [
            "index                               109967\n",
            "date                              14/10/00\n",
            "rank                                    68\n",
            "song                         What'Chu Like\n",
            "artist            Da Brat Featuring Tyrese\n",
            "last-week                             68.0\n",
            "peak-rank                               26\n",
            "weeks-on-board                          20\n",
            "year                                     0\n",
            "id                                    8953\n",
            "Name: 8952, dtype: object\n"
          ]
        }
      ]
    },
    {
      "cell_type": "code",
      "source": [
        "print(charts_no_duplicate.loc[8955])\n",
        "df.loc[8954.5] = getTrackFeatures('1migZXJuB0tB2pFucCtEm5')\n",
        "df = df.sort_index().reset_index(drop=True)"
      ],
      "metadata": {
        "colab": {
          "base_uri": "https://localhost:8080/"
        },
        "id": "dVYG5Tiy1j25",
        "outputId": "b275e55d-2bd2-4388-f92f-44c191846254"
      },
      "execution_count": null,
      "outputs": [
        {
          "output_type": "stream",
          "name": "stdout",
          "text": [
            "index                                   109997\n",
            "date                                  14/10/00\n",
            "rank                                        98\n",
            "song              You'll Always Be Loved By Me\n",
            "artist                           Brooks & Dunn\n",
            "last-week                                100.0\n",
            "peak-rank                                   55\n",
            "weeks-on-board                              19\n",
            "year                                         0\n",
            "id                                        8956\n",
            "Name: 8955, dtype: object\n"
          ]
        }
      ]
    },
    {
      "cell_type": "code",
      "source": [
        "print(charts_no_duplicate.loc[9014])\n",
        "df.loc[9013.5] = getTrackFeatures('3u25S5XdV8goD3piUSZRw6')\n",
        "df = df.sort_index().reset_index(drop=True)"
      ],
      "metadata": {
        "colab": {
          "base_uri": "https://localhost:8080/"
        },
        "id": "A3-NQBzw2CQN",
        "outputId": "84effdd2-fb6b-4408-b3d5-baa192adef70"
      },
      "execution_count": null,
      "outputs": [
        {
          "output_type": "stream",
          "name": "stdout",
          "text": [
            "index                             111088\n",
            "date                             29/7/00\n",
            "rank                                  89\n",
            "song              Couldn't Last A Moment\n",
            "artist                       Collin Raye\n",
            "last-week                           73.0\n",
            "peak-rank                             43\n",
            "weeks-on-board                        20\n",
            "year                                   0\n",
            "id                                  9015\n",
            "Name: 9014, dtype: object\n"
          ]
        }
      ]
    },
    {
      "cell_type": "code",
      "source": [
        "# Check for missing data values\n",
        "df[df['name'] == ' '].index"
      ],
      "metadata": {
        "colab": {
          "base_uri": "https://localhost:8080/"
        },
        "id": "nBfWK-dBEF2f",
        "outputId": "2bd84fa4-f1a8-43de-909c-3868dbf8910d"
      },
      "execution_count": null,
      "outputs": [
        {
          "output_type": "execute_result",
          "data": {
            "text/plain": [
              "Int64Index([112, 113, 114, 209, 262, 624, 7392], dtype='int64')"
            ]
          },
          "metadata": {},
          "execution_count": 332
        }
      ]
    },
    {
      "cell_type": "code",
      "source": [
        "# Manually add the spotify ID for the missing songs\n",
        "df.loc[112] = getTrackFeatures('58T4yPLn4NjBYXfRxeweyM')\n",
        "df.loc[113] = getTrackFeatures('25r6MZ4Gtd76l43qnZI1DG')\n",
        "df.loc[114] = getTrackFeatures('4iJyoBOLtHqaGxP12qzhQI')\n",
        "df.loc[209] = getTrackFeatures('6SRsiMl7w1USE4mFqrOhHC')\n",
        "df.loc[262] = getTrackFeatures('4ka1FkKAMde6dQAFFMXKac')\n",
        "df.loc[624] = getTrackFeatures('2EjXfH91m7f8HiJN1yQg97')"
      ],
      "metadata": {
        "id": "cOuF8AD9i6La"
      },
      "execution_count": null,
      "outputs": []
    },
    {
      "cell_type": "code",
      "source": [
        "print(\n",
        "df.loc[112],\n",
        "df.loc[113],\n",
        "df.loc[114],\n",
        "df.loc[209],\n",
        "df.loc[262],\n",
        "df.loc[624],\n",
        "df.loc[7392])"
      ],
      "metadata": {
        "colab": {
          "base_uri": "https://localhost:8080/"
        },
        "id": "35h_JddvlVZW",
        "outputId": "848171f4-d020-4fe4-96a0-76be05d2b32f"
      },
      "execution_count": null,
      "outputs": [
        {
          "output_type": "stream",
          "name": "stdout",
          "text": [
            "name                Woo Baby (feat. Chris Brown)\n",
            "album                                      Faith\n",
            "artist                                 Pop Smoke\n",
            "release_date                          2021-07-16\n",
            "length                                  156000.0\n",
            "popularity                                  77.0\n",
            "danceability                               0.563\n",
            "acousticness                               0.359\n",
            "energy                                     0.672\n",
            "instrumentalness                             0.0\n",
            "liveness                                  0.0972\n",
            "loudness                                  -7.226\n",
            "speechiness                               0.0765\n",
            "tempo                                     99.772\n",
            "time_signature                               4.0\n",
            "Name: 112, dtype: object name                Flocky Flocky (feat. Travis Scott)\n",
            "album                                    Life of a DON\n",
            "artist                                     Don Toliver\n",
            "release_date                                2021-10-08\n",
            "length                                        183513.0\n",
            "popularity                                        76.0\n",
            "danceability                                       0.8\n",
            "acousticness                                    0.0252\n",
            "energy                                           0.541\n",
            "instrumentalness                                   0.0\n",
            "liveness                                         0.146\n",
            "loudness                                         -5.05\n",
            "speechiness                                     0.0375\n",
            "tempo                                           135.99\n",
            "time_signature                                     4.0\n",
            "Name: 113, dtype: object name                Peaches (feat. Daniel Caesar & Giveon)\n",
            "album                                              Justice\n",
            "artist                                       Justin Bieber\n",
            "release_date                                    2021-03-19\n",
            "length                                            198081.0\n",
            "popularity                                            91.0\n",
            "danceability                                         0.677\n",
            "acousticness                                         0.321\n",
            "energy                                               0.696\n",
            "instrumentalness                                       0.0\n",
            "liveness                                              0.42\n",
            "loudness                                            -6.181\n",
            "speechiness                                          0.119\n",
            "tempo                                                90.03\n",
            "time_signature                                         4.0\n",
            "Name: 114, dtype: object name                        brutal\n",
            "album                         SOUR\n",
            "artist              Olivia Rodrigo\n",
            "release_date            2021-05-21\n",
            "length                    143746.0\n",
            "popularity                    86.0\n",
            "danceability                 0.672\n",
            "acousticness                0.0311\n",
            "energy                       0.526\n",
            "instrumentalness          0.000001\n",
            "liveness                      0.28\n",
            "loudness                    -6.446\n",
            "speechiness                 0.0599\n",
            "tempo                      123.999\n",
            "time_signature                 4.0\n",
            "Name: 209, dtype: object name                i hope ur miserable until ur dead\n",
            "album               i hope ur miserable until ur dead\n",
            "artist                                  Nessa Barrett\n",
            "release_date                               2021-08-06\n",
            "length                                       177582.0\n",
            "popularity                                       79.0\n",
            "danceability                                    0.706\n",
            "acousticness                                   0.0273\n",
            "energy                                          0.544\n",
            "instrumentalness                                  0.0\n",
            "liveness                                        0.087\n",
            "loudness                                       -7.275\n",
            "speechiness                                    0.0306\n",
            "tempo                                         115.935\n",
            "time_signature                                    4.0\n",
            "Name: 262, dtype: object name                Rockin' Around The Christmas Tree\n",
            "album                 Merry Christmas From Brenda Lee\n",
            "artist                                     Brenda Lee\n",
            "release_date                               1964-10-19\n",
            "length                                       126266.0\n",
            "popularity                                       69.0\n",
            "danceability                                    0.589\n",
            "acousticness                                    0.614\n",
            "energy                                          0.472\n",
            "instrumentalness                                  0.0\n",
            "liveness                                        0.505\n",
            "loudness                                       -8.749\n",
            "speechiness                                    0.0502\n",
            "tempo                                          67.196\n",
            "time_signature                                    4.0\n",
            "Name: 624, dtype: object name                   \n",
            "album               NaN\n",
            "artist              NaN\n",
            "release_date        NaN\n",
            "length              NaN\n",
            "popularity          NaN\n",
            "danceability        NaN\n",
            "acousticness        NaN\n",
            "energy              NaN\n",
            "instrumentalness    NaN\n",
            "liveness            NaN\n",
            "loudness            NaN\n",
            "speechiness         NaN\n",
            "tempo               NaN\n",
            "time_signature      NaN\n",
            "Name: 7392, dtype: object\n"
          ]
        }
      ]
    },
    {
      "cell_type": "code",
      "source": [
        "# Add an identifiable id to match with charts_no_duplicate\n",
        "df['id'] = df.index + 1\n",
        "df.to_csv('df.csv')"
      ],
      "metadata": {
        "id": "2E3Gd1txolq1"
      },
      "execution_count": null,
      "outputs": []
    }
  ]
}