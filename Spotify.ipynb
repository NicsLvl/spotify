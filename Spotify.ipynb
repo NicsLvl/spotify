{
  "cells": [
    {
      "cell_type": "code",
      "execution_count": null,
      "metadata": {
        "id": "94YNy3aXPck7"
      },
      "outputs": [],
      "source": [
        "import pandas as pd\n",
        "import numpy as np\n",
        "import seasborn as sns"
      ]
    },
    {
      "cell_type": "code",
      "execution_count": null,
      "metadata": {
        "colab": {
          "base_uri": "https://localhost:8080/"
        },
        "id": "uivLN5UW9-YW",
        "outputId": "bb6f7ea5-dd89-4e3f-d9ed-4cacbe584c72"
      },
      "outputs": [],
      "source": [
        "!pip install spotipy\n",
        "import spotipy\n",
        "from spotipy.oauth2 import SpotifyClientCredentials\n",
        "\n",
        "client_credentials_manager = SpotifyClientCredentials(client_id=client_id, client_secret=client_secret)\n",
        "sp = spotipy.Spotify(client_credentials_manager=client_credentials_manager) # spotify object to access API"
      ]
    },
    {
      "cell_type": "code",
      "execution_count": null,
      "metadata": {
        "id": "WnuIOGJDP5lR"
      },
      "outputs": [],
      "source": [
        "charts = pd.read_csv(\"charts.csv\") # Extracted the billboard weekly top 100 data from: https://www.kaggle.com/datasets/dhruvildave/billboard-the-hot-100-songs?select=charts.csv"
      ]
    },
    {
      "cell_type": "code",
      "execution_count": null,
      "metadata": {
        "colab": {
          "base_uri": "https://localhost:8080/",
          "height": 206
        },
        "id": "3JGCHI6-SDgS",
        "outputId": "b7543e22-1ea5-4566-bc50-ed0e1525a33f"
      },
      "outputs": [],
      "source": [
        "charts.head()"
      ]
    },
    {
      "cell_type": "code",
      "execution_count": null,
      "metadata": {
        "id": "Vz_0BoCBcu8s"
      },
      "outputs": [],
      "source": [
        "charts['year'] = charts['date'].str[-2:]\n",
        "charts['year'] = charts.year.astype(int)"
      ]
    },
    {
      "cell_type": "code",
      "execution_count": null,
      "metadata": {
        "colab": {
          "base_uri": "https://localhost:8080/"
        },
        "id": "qi4jl8NFZo3h",
        "outputId": "67dc2f56-b4f3-4e61-85d3-7fb3dfc6cfd4"
      },
      "outputs": [],
      "source": [
        "charts_no_duplicate = charts.drop_duplicates(subset=['song','artist'])\n",
        "charts_no_duplicate['year'] = charts_no_duplicate.year.astype(int)\n",
        "charts_no_duplicate = charts_no_duplicate[(charts_no_duplicate.year<=21)]\n",
        "charts_no_duplicate = charts_no_duplicate.reset_index()\n",
        "charts_no_duplicate[\"id\"] = charts_no_duplicate.index + 1"
      ]
    },
    {
      "cell_type": "code",
      "execution_count": null,
      "metadata": {
        "id": "Hm6GgPEq_UE0"
      },
      "outputs": [],
      "source": [
        "#export charts_no_duplicate for documentation\n",
        "pd.DataFrame(charts_no_duplicate).to_csv('charts_no_duplicate.csv',header=False,index=False)"
      ]
    },
    {
      "cell_type": "code",
      "execution_count": null,
      "metadata": {
        "id": "X-0uXRKjbkNn"
      },
      "outputs": [],
      "source": [
        "# Create an empty list to store all the spotify IDs extracted from the search\n",
        "iddata = []"
      ]
    },
    {
      "cell_type": "code",
      "execution_count": null,
      "metadata": {
        "id": "a301qr-sMzP_"
      },
      "outputs": [],
      "source": [
        "for i in range(len(charts_no_duplicate)):\n",
        "  track = charts_no_duplicate.iloc[i,2] # Song\n",
        "  artist = charts_no_duplicate.iloc[i,3] # Singer\n",
        "  try:\n",
        "    sptrack = sp.search(q='artist:' + artist + ' track:' + track, type='track',limit=1)\n",
        "    id = sptrack['tracks']['items'][0]['id']\n",
        "    iddata.append(id)\n",
        "  except IndexError:\n",
        "    sptrack = sp.search(q=' track:' + track, type='track',limit=1)\n",
        "    id = sptrack['tracks']['items'][0]['id']\n",
        "    iddata.append(id)\n",
        "  except:\n",
        "    iddata.append(\" \")"
      ]
    },
    {
      "cell_type": "code",
      "execution_count": null,
      "metadata": {
        "id": "VHFbOGQBfv_X"
      },
      "outputs": [],
      "source": [
        "#export iddata for documentation\n",
        "pd.DataFrame(iddata).to_csv('iddata.csv',header=False,index=False)"
      ]
    },
    {
      "cell_type": "code",
      "execution_count": null,
      "metadata": {
        "id": "MyGm4AEJlrSN"
      },
      "outputs": [],
      "source": [
        "def getTrackFeatures(id):\n",
        "  try:\n",
        "    meta = sp.track(id)\n",
        "    features = sp.audio_features(id)\n",
        "\n",
        "    # meta\n",
        "    name = meta['name']\n",
        "    album = meta['album']['name']\n",
        "    artist = meta['album']['artists'][0]['name']\n",
        "    release_date = meta['album']['release_date']\n",
        "    length = meta['duration_ms']\n",
        "    popularity = meta['popularity']\n",
        "\n",
        "\n",
        "    # features\n",
        "    acousticness = features[0]['acousticness']\n",
        "    danceability = features[0]['danceability']\n",
        "    energy = features[0]['energy']\n",
        "    instrumentalness = features[0]['instrumentalness']\n",
        "    liveness = features[0]['liveness']\n",
        "    loudness = features[0]['loudness']\n",
        "    speechiness = features[0]['speechiness']\n",
        "    tempo = features[0]['tempo']\n",
        "    time_signature = features[0]['time_signature']\n",
        "    \n",
        "    track = [name, album, artist, release_date, length, popularity, danceability, acousticness, energy, instrumentalness, liveness, loudness, speechiness, tempo, time_signature]\n",
        "    return track\n",
        "  except:\n",
        "    track = [\" \"]\n",
        "    return track"
      ]
    },
    {
      "cell_type": "code",
      "execution_count": null,
      "metadata": {
        "id": "TQespckInwyE"
      },
      "outputs": [],
      "source": [
        "getTrackFeatures('6MFQeWtk7kxWGydnJB2y36')"
      ]
    },
    {
      "cell_type": "code",
      "execution_count": null,
      "metadata": {
        "id": "F_UQETmMSRX2"
      },
      "outputs": [],
      "source": [
        "trackfeatures = []\n",
        "for i in iddata:\n",
        "  trackfeatures.append(getTrackFeatures(i))"
      ]
    },
    {
      "cell_type": "code",
      "execution_count": null,
      "metadata": {
        "id": "DKjPnz4dc7mv"
      },
      "outputs": [],
      "source": [
        "#export trackfeatures for documentation\n",
        "df=pd.DataFrame(trackfeatures, columns = ['name', 'album', 'artist', 'release_date', 'length', 'popularity', 'danceability', 'acousticness', 'danceability', 'energy', 'instrumentalness', 'liveness', 'loudness', 'speechiness', 'tempo', 'time_signature'])"
      ]
    },
    {
      "cell_type": "markdown",
      "metadata": {
        "id": "FJTS877LFm66"
      },
      "source": [
        "# Resolving Errors"
      ]
    },
    {
      "cell_type": "code",
      "execution_count": null,
      "metadata": {
        "id": "AAE7rh782_8w"
      },
      "outputs": [],
      "source": [
        "df=pd.read_csv('df.csv')"
      ]
    },
    {
      "cell_type": "code",
      "execution_count": null,
      "metadata": {
        "id": "z8RnnDnjQ0S_"
      },
      "outputs": [],
      "source": [
        "df.to_csv('df.csv')"
      ]
    },
    {
      "cell_type": "code",
      "execution_count": null,
      "metadata": {
        "id": "Fk1Vp0bND9BS"
      },
      "outputs": [],
      "source": [
        "# When running the for loop there are some songs that returned an API error, hence we note down the song name to manually fill it in \n",
        "#91 error -> start at 92\n",
        "#298 error (actually 299) -> start at 300\n",
        "#346 error (actually 348) -> start at 349\n",
        "#399 error (actually 402) -> start at 403\n",
        "#400 error (actually 404) -> start at 405\n",
        "#400 error (actually 405) -> start at 406\n",
        "#400 error (actually 406) -> start at 407\n",
        "#571 error (actually 578) -> start at 579\n",
        "#608 error (actually 616) -> start at 617\n",
        "#679 error (actually 688) -> start at 689\n",
        "#1605 error (actually 1615) -> start at 1616\n",
        "#1825 error (actually 1836) -> start at 1837\n",
        "#2192 error (actually 2204) -> start at 2205\n",
        "#2198 error (actually 2211) -> start at 2212\n",
        "#2484 error (actually 2498) -> start at 2499\n",
        "#2672 error (actually 2687) -> start at 2688\n",
        "#2759 error (actually 2775) -> start at 2776\n",
        "#3008 error (actually 3025) -> start at 3026\n",
        "#3778 error (actually 3796) -> start at 3797\n",
        "#3915 error (actually 3934) -> start at 3935\n",
        "#3981 error (actually 4001) -> start at 4002\n",
        "#4014 error (actually 4035) -> start at 4036\n",
        "#4180 error (actually 4202) -> start at 4203\n",
        "#4417 error (actually 4440) -> start at 4441\n",
        "#4720 error (actually 4744) -> start at 4745\n",
        "#5112 error (actually 5137) -> start at 5138\n",
        "#5328 error (actually 5354) -> start at 5355\n",
        "#5621 error (actually 5648) -> start at 5649\n",
        "#5708 error (actually 5736) -> start at 5737\n",
        "#5736 error (actually 5765) -> start at 5766\n",
        "#5809 error (actually 5839) -> start at 5840\n",
        "#5874 error (actually 5905) -> start at 5906\n",
        "#5883 error (actually 5915) -> start at 5916\n",
        "#5989 error (actually 6022) -> start at 6023\n",
        "#6039 error (actually 6073) -> start at 6074\n",
        "#6045 error (actually 6080) -> start at 6081\n",
        "#6069 error (actually 6105) -> start at 6106\n",
        "#6070 error (actually 6107) -> start at 6108\n",
        "#6146 error (actually 6184) -> start at 6185\n",
        "#6177 error (actually 6216) -> start at 6217\n",
        "#6212 error (actually 6252) -> start at 6253\n",
        "#6278 error (actually 6319) -> start at 6320\n",
        "#6348 error (actually 6390) -> start at 6391, 42\n",
        "#6387 error (actually 6430) -> start at 6431, 43\n",
        "#6560 error (actually 6604) -> start at 6605, 44\n",
        "#6571 error (actually 6616) -> start at 6617, 45\n",
        "#6644 error (actually 6690) -> 6691, 46\n",
        "#6717 error (actually 6764) -> 6765, 47\n",
        "#6771 error (actually 6819) -> 6820, 48\n",
        "#6817 error (actually 6866) -> 6867, 49\n",
        "#6831 error (actually 6881) -> 6882, 50\n",
        "#7164 error (actually 7215) -> 7216, 51\n",
        "#7322 error (actually 7374) -> 7375, 52\n",
        "#7329 error (actually 7382) -> 7383, 53\n",
        "#7443 error (actually 7497) -> 7498, 54\n",
        "#7492 error (actually 7547) -> 7548, 55\n",
        "#7846 error (actually 7902) -> 7903, 56\n",
        "#7853 error (actually 7910) -> 7911, 57\n",
        "#8090 error (actually 8148) -> 8149, 58\n",
        "#8111 error (actually 8170) -> 8171, 59\n",
        "#8146 error (actually 8206) -> 8207, 60\n",
        "#8272 error (actually 8333) -> 8334, 61\n",
        "#8328 error (actually 8390) -> 8391, 62\n",
        "#8452 error (actually 8515) -> 8516, 63\n",
        "#8567 error (actually 8631) -> 8632, 64\n",
        "#8682 error (actually 8747) -> 8748, 65\n",
        "#8886 error (actually 8952) -> 8953, 66\n",
        "#8888 error (actually 8955) -> 8956, 67\n",
        "#8946 error (actually 9014) -> 9015, 68"
      ]
    },
    {
      "cell_type": "code",
      "execution_count": null,
      "metadata": {
        "colab": {
          "base_uri": "https://localhost:8080/"
        },
        "id": "gIwfH803Fzka",
        "outputId": "cd23bd65-9f02-4379-f185-7b811d3c0f67"
      },
      "outputs": [],
      "source": [
        "print(charts_no_duplicate.loc[91])\n",
        "df.loc[90.5] = getTrackFeatures('6HIIuuUIEzH1meVdGbMXyf')\n",
        "df = df.sort_index().reset_index(drop=True)"
      ]
    },
    {
      "cell_type": "code",
      "execution_count": null,
      "metadata": {
        "colab": {
          "base_uri": "https://localhost:8080/"
        },
        "id": "SoUGtw0wG4i_",
        "outputId": "e294a8cd-0516-4aba-cb1d-7df37d3dda9b"
      },
      "outputs": [],
      "source": [
        "print(charts_no_duplicate.loc[299])\n",
        "df.loc[298.5] = getTrackFeatures('1QL7nSDZCwZMnbisV4KOXt')\n",
        "df = df.sort_index().reset_index(drop=True)"
      ]
    },
    {
      "cell_type": "code",
      "execution_count": null,
      "metadata": {
        "colab": {
          "base_uri": "https://localhost:8080/"
        },
        "id": "HCCw1uoMHVoh",
        "outputId": "4c2f5e49-4b3a-4c61-ca92-ab2122189a2d"
      },
      "outputs": [],
      "source": [
        "print(charts_no_duplicate.loc[348])\n",
        "df.loc[347.5] = getTrackFeatures('5W8jRrZ6tWrTrqnKRtIQBf')\n",
        "df = df.sort_index().reset_index(drop=True)"
      ]
    },
    {
      "cell_type": "code",
      "execution_count": null,
      "metadata": {
        "colab": {
          "base_uri": "https://localhost:8080/"
        },
        "id": "ZijpoZwlHlSh",
        "outputId": "04345a98-0969-4df1-8f6f-58e631bdac89"
      },
      "outputs": [],
      "source": [
        "print(charts_no_duplicate.loc[402])\n",
        "df.loc[401.5] = getTrackFeatures('0GAyuCo975IHGxxiLKDufB')\n",
        "df = df.sort_index().reset_index(drop=True)"
      ]
    },
    {
      "cell_type": "code",
      "execution_count": null,
      "metadata": {
        "colab": {
          "base_uri": "https://localhost:8080/"
        },
        "id": "eUKtOtBCH1Am",
        "outputId": "5816b3eb-93dc-4038-a68a-2ffe82556dde"
      },
      "outputs": [],
      "source": [
        "print(charts_no_duplicate.loc[404])\n",
        "df.loc[403.5] = getTrackFeatures('57ZUX6TNyKLBydAdVVd02x')\n",
        "df = df.sort_index().reset_index(drop=True)"
      ]
    },
    {
      "cell_type": "code",
      "execution_count": null,
      "metadata": {
        "colab": {
          "base_uri": "https://localhost:8080/"
        },
        "id": "VYL6sMvcIBKH",
        "outputId": "16038055-a039-429e-a711-9a072c51c5b1"
      },
      "outputs": [],
      "source": [
        "print(charts_no_duplicate.loc[405])\n",
        "df.loc[404.5] = getTrackFeatures('5lLNBIyjp72btcnrjBG751')\n",
        "df = df.sort_index().reset_index(drop=True)"
      ]
    },
    {
      "cell_type": "code",
      "execution_count": null,
      "metadata": {
        "colab": {
          "base_uri": "https://localhost:8080/"
        },
        "id": "TrCziOG3IfjK",
        "outputId": "7a4b1633-2e79-4d67-fa6b-4feb5eeff5e4"
      },
      "outputs": [],
      "source": [
        "print(charts_no_duplicate.loc[406])\n",
        "df.loc[405.5] = getTrackFeatures('5BwQjRasNcdRPuVWKcHto2')\n",
        "df = df.sort_index().reset_index(drop=True)"
      ]
    },
    {
      "cell_type": "code",
      "execution_count": null,
      "metadata": {
        "colab": {
          "base_uri": "https://localhost:8080/"
        },
        "id": "CrdhFGPCJImk",
        "outputId": "6b093e30-449d-499b-b144-afcd613c5d16"
      },
      "outputs": [],
      "source": [
        "print(charts_no_duplicate.loc[578])\n",
        "df.loc[577.5] = getTrackFeatures('1tEskhLQFPHfBqDaBgtkyO')\n",
        "df = df.sort_index().reset_index(drop=True)"
      ]
    },
    {
      "cell_type": "code",
      "execution_count": null,
      "metadata": {
        "colab": {
          "base_uri": "https://localhost:8080/"
        },
        "id": "wnaIdBnuJR67",
        "outputId": "25beb849-4a7b-4c3b-ef49-b198ee7d44f0"
      },
      "outputs": [],
      "source": [
        "print(charts_no_duplicate.loc[616])\n",
        "df.loc[615.5] = getTrackFeatures('77XoAnllT85lmR9WP0D8dS')\n",
        "df = df.sort_index().reset_index(drop=True)"
      ]
    },
    {
      "cell_type": "code",
      "execution_count": null,
      "metadata": {
        "colab": {
          "base_uri": "https://localhost:8080/"
        },
        "id": "W5mpxBZGJiaC",
        "outputId": "58bc6836-fb99-4dde-dd0e-d1f4239bad41"
      },
      "outputs": [],
      "source": [
        "print(charts_no_duplicate.loc[688])\n",
        "df.loc[687.5] = getTrackFeatures('27oVCAziETRbNuo5A8LNpg')\n",
        "df = df.sort_index().reset_index(drop=True)"
      ]
    },
    {
      "cell_type": "code",
      "execution_count": null,
      "metadata": {
        "colab": {
          "base_uri": "https://localhost:8080/"
        },
        "id": "RdLtvo6tJ09n",
        "outputId": "2e0a6112-c8e9-4d43-eb12-2d48343dd915"
      },
      "outputs": [],
      "source": [
        "print(charts_no_duplicate.loc[1615])\n",
        "df.loc[1614.5] = getTrackFeatures('7ILEWkpfdK6AjH2D7jppWk')\n",
        "df = df.sort_index().reset_index(drop=True)"
      ]
    },
    {
      "cell_type": "code",
      "execution_count": null,
      "metadata": {
        "colab": {
          "base_uri": "https://localhost:8080/"
        },
        "id": "hc0WVkXWKFuf",
        "outputId": "5d719845-42a0-4210-d1f3-34eb301e3704"
      },
      "outputs": [],
      "source": [
        "print(charts_no_duplicate.loc[1836])\n",
        "df.loc[1835.5] = getTrackFeatures('0hPLZrnDgtKxrym1BHjDhd')\n",
        "df = df.sort_index().reset_index(drop=True)"
      ]
    },
    {
      "cell_type": "code",
      "execution_count": null,
      "metadata": {
        "colab": {
          "base_uri": "https://localhost:8080/"
        },
        "id": "g2RRpHh5KW2b",
        "outputId": "21a69d60-2434-4369-dc0c-01003baaf8a8"
      },
      "outputs": [],
      "source": [
        "print(charts_no_duplicate.loc[2204])\n",
        "df.loc[2203.5] = getTrackFeatures('1nGoy0cEj0extAwXYNYTWd')\n",
        "df = df.sort_index().reset_index(drop=True)"
      ]
    },
    {
      "cell_type": "code",
      "execution_count": null,
      "metadata": {
        "colab": {
          "base_uri": "https://localhost:8080/"
        },
        "id": "sqvNcQtTKiaE",
        "outputId": "f8604339-869f-4a63-f10a-b61050b54d3f"
      },
      "outputs": [],
      "source": [
        "print(charts_no_duplicate.loc[2211])\n",
        "df.loc[2210.5] = getTrackFeatures('6ojicjDYUUoeE1tdSvfFo4')\n",
        "df = df.sort_index().reset_index(drop=True)"
      ]
    },
    {
      "cell_type": "code",
      "execution_count": null,
      "metadata": {
        "colab": {
          "base_uri": "https://localhost:8080/"
        },
        "id": "pGm0jsN_K62h",
        "outputId": "b61b1899-5b56-4e74-b5ca-0f0b44e0827d"
      },
      "outputs": [],
      "source": [
        "print(charts_no_duplicate.loc[2498])\n",
        "df.loc[2497.5] = getTrackFeatures('2D2w9943rsnJOGCrI4aMQp')\n",
        "df = df.sort_index().reset_index(drop=True)"
      ]
    },
    {
      "cell_type": "code",
      "execution_count": null,
      "metadata": {
        "colab": {
          "base_uri": "https://localhost:8080/"
        },
        "id": "DmvusRSeK68g",
        "outputId": "1245e442-b83d-4b1d-e82c-b4b36331cd10"
      },
      "outputs": [],
      "source": [
        "print(charts_no_duplicate.loc[2687])\n",
        "df.loc[2686.5] = getTrackFeatures('0OVhQZkNe7lh0fQeH96EFW')\n",
        "df = df.sort_index().reset_index(drop=True)"
      ]
    },
    {
      "cell_type": "code",
      "execution_count": null,
      "metadata": {
        "colab": {
          "base_uri": "https://localhost:8080/"
        },
        "id": "bvQpLg01LjCk",
        "outputId": "125920dd-9955-47d9-8a4d-893083eeae90"
      },
      "outputs": [],
      "source": [
        "print(charts_no_duplicate.loc[2775])\n",
        "df.loc[2774.5] = getTrackFeatures('5f5r2N4Lp9WoULWPH9zp2W')\n",
        "df = df.sort_index().reset_index(drop=True)"
      ]
    },
    {
      "cell_type": "code",
      "execution_count": null,
      "metadata": {
        "colab": {
          "base_uri": "https://localhost:8080/"
        },
        "id": "Y3YfiRBpLuZZ",
        "outputId": "4c513957-c883-4337-a9a5-7ce3b5d4b644"
      },
      "outputs": [],
      "source": [
        "print(charts_no_duplicate.loc[3025])\n",
        "df.loc[3024.5] = getTrackFeatures('2GICtNjlmq5w1XIQ9s0D9y')\n",
        "df = df.sort_index().reset_index(drop=True)"
      ]
    },
    {
      "cell_type": "code",
      "execution_count": null,
      "metadata": {
        "colab": {
          "base_uri": "https://localhost:8080/"
        },
        "id": "tC2t-lDxN-Bh",
        "outputId": "ba374e6a-4ba1-4d58-d706-2c43d8883bd5"
      },
      "outputs": [],
      "source": [
        "print(charts_no_duplicate.loc[3796])\n",
        "df.loc[3795.5] = getTrackFeatures('3tPYlTUFTkGTRKYgPn1vei')\n",
        "df = df.sort_index().reset_index(drop=True)"
      ]
    },
    {
      "cell_type": "code",
      "execution_count": null,
      "metadata": {
        "colab": {
          "base_uri": "https://localhost:8080/"
        },
        "id": "fH41daYtOM2z",
        "outputId": "3293b28b-6f11-4ce8-d701-864a095107be"
      },
      "outputs": [],
      "source": [
        "print(charts_no_duplicate.loc[3934])\n",
        "df.loc[3933.5] = getTrackFeatures('0BBj0SW3vef8UNzTg4lwH9')\n",
        "df = df.sort_index().reset_index(drop=True)"
      ]
    },
    {
      "cell_type": "code",
      "execution_count": null,
      "metadata": {
        "colab": {
          "base_uri": "https://localhost:8080/"
        },
        "id": "Z5TALZJwOb2V",
        "outputId": "16901512-9e80-42d0-9994-bfd22fd2f5fd"
      },
      "outputs": [],
      "source": [
        "print(charts_no_duplicate.loc[4001])\n",
        "df.loc[4000.5] = getTrackFeatures('0vvKyFjX1hzSwpNtVwnJ2H')\n",
        "df = df.sort_index().reset_index(drop=True)"
      ]
    },
    {
      "cell_type": "code",
      "execution_count": null,
      "metadata": {
        "colab": {
          "base_uri": "https://localhost:8080/"
        },
        "id": "aH3IVfE0OotB",
        "outputId": "6be16e66-b816-4181-d2e6-b362c1563e47"
      },
      "outputs": [],
      "source": [
        "print(charts_no_duplicate.loc[4035])\n",
        "df.loc[4034.5] = getTrackFeatures('0nlMls0o7JPGhbyRNvGnOZ')\n",
        "df = df.sort_index().reset_index(drop=True)"
      ]
    },
    {
      "cell_type": "code",
      "execution_count": null,
      "metadata": {
        "colab": {
          "base_uri": "https://localhost:8080/"
        },
        "id": "5wymr8H0PeFm",
        "outputId": "fc908969-edaa-40ff-e4c4-a8af1617af95"
      },
      "outputs": [],
      "source": [
        "print(charts_no_duplicate.loc[4202])\n",
        "df.loc[4201.5] = getTrackFeatures('3gTBF9aB9MVCy9ejLo8HJJ')\n",
        "df = df.sort_index().reset_index(drop=True)"
      ]
    },
    {
      "cell_type": "code",
      "execution_count": null,
      "metadata": {
        "colab": {
          "base_uri": "https://localhost:8080/"
        },
        "id": "E6aUFZd1PnlL",
        "outputId": "b21e4194-3297-41b4-e6e2-db18ebc5222c"
      },
      "outputs": [],
      "source": [
        "print(charts_no_duplicate.loc[4440])\n",
        "df.loc[4439.5] = getTrackFeatures('2qWTGIvj3t9VdkggzllU8G')\n",
        "df = df.sort_index().reset_index(drop=True)"
      ]
    },
    {
      "cell_type": "code",
      "execution_count": null,
      "metadata": {
        "colab": {
          "base_uri": "https://localhost:8080/"
        },
        "id": "viDHiv-ePzvM",
        "outputId": "93776d33-ff5c-4eac-9060-915df181adb8"
      },
      "outputs": [],
      "source": [
        "print(charts_no_duplicate.loc[4744])\n",
        "df.loc[4743.5] = getTrackFeatures('4HRa9ZWcmZ8JD7UySPu0wT')\n",
        "df = df.sort_index().reset_index(drop=True)"
      ]
    },
    {
      "cell_type": "code",
      "execution_count": null,
      "metadata": {
        "colab": {
          "base_uri": "https://localhost:8080/"
        },
        "id": "HfH6fw-EqpkX",
        "outputId": "af1bab66-9086-474d-d058-1e8ce7144191"
      },
      "outputs": [],
      "source": [
        "print(charts_no_duplicate.loc[5137])\n",
        "df.loc[5136.5] = getTrackFeatures('3nnJwpK7mH3Vdovz1OmqCF')\n",
        "df = df.sort_index().reset_index(drop=True)"
      ]
    },
    {
      "cell_type": "code",
      "execution_count": null,
      "metadata": {
        "colab": {
          "base_uri": "https://localhost:8080/"
        },
        "id": "w_z8--6zrFSU",
        "outputId": "a86e22b0-080d-4cad-851a-f55cd45967da"
      },
      "outputs": [],
      "source": [
        "print(charts_no_duplicate.loc[5354])\n",
        "df.loc[5353.5] = getTrackFeatures('0T6Bs49TkEFPvxl3tZOkkF')\n",
        "df = df.sort_index().reset_index(drop=True)"
      ]
    },
    {
      "cell_type": "code",
      "execution_count": null,
      "metadata": {
        "colab": {
          "base_uri": "https://localhost:8080/"
        },
        "id": "XOwaWTZBrZWM",
        "outputId": "3428a07d-33d4-4cb6-dacf-0e2857f44e26"
      },
      "outputs": [],
      "source": [
        "print(charts_no_duplicate.loc[5648])\n",
        "df.loc[5647.5] = getTrackFeatures('3oCRs9r4CUZESH7e3axxKU')\n",
        "df = df.sort_index().reset_index(drop=True)"
      ]
    },
    {
      "cell_type": "code",
      "execution_count": null,
      "metadata": {
        "colab": {
          "base_uri": "https://localhost:8080/"
        },
        "id": "NH7UzJF4ruWu",
        "outputId": "2444a50d-8b0b-466d-ff55-45cf911ec1ef"
      },
      "outputs": [],
      "source": [
        "print(charts_no_duplicate.loc[5736])\n",
        "df.loc[5735.5] = getTrackFeatures('4kLzo3exwh18YxYqBxLsuX')\n",
        "df = df.sort_index().reset_index(drop=True)"
      ]
    },
    {
      "cell_type": "code",
      "execution_count": null,
      "metadata": {
        "colab": {
          "base_uri": "https://localhost:8080/"
        },
        "id": "TwCn4OWtr-pR",
        "outputId": "cb4b6fd2-159b-4eff-bd81-9b4f4bc06cb1"
      },
      "outputs": [],
      "source": [
        "print(charts_no_duplicate.loc[5765])\n",
        "df.loc[5764.5] = getTrackFeatures('7i8eqTke7Fl8jl5pbEQPC5')\n",
        "df = df.sort_index().reset_index(drop=True)"
      ]
    },
    {
      "cell_type": "code",
      "execution_count": null,
      "metadata": {
        "colab": {
          "base_uri": "https://localhost:8080/"
        },
        "id": "n5_BOOn6sgmC",
        "outputId": "bc2f4371-5581-468a-fa51-7bd8e9e6f169"
      },
      "outputs": [],
      "source": [
        "print(charts_no_duplicate.loc[5839])\n",
        "df.loc[5838.5] = getTrackFeatures('4M44ezhmtmWq97SZATK9eD')\n",
        "df = df.sort_index().reset_index(drop=True)"
      ]
    },
    {
      "cell_type": "code",
      "execution_count": null,
      "metadata": {
        "colab": {
          "base_uri": "https://localhost:8080/"
        },
        "id": "wj-VYjESsrkY",
        "outputId": "9841fe41-92aa-48c9-cc62-4c83eb2951ef"
      },
      "outputs": [],
      "source": [
        "print(charts_no_duplicate.loc[5905])\n",
        "df.loc[5904.5] = getTrackFeatures('2vJVTVxLUZHjxan5UtBe1V')\n",
        "df = df.sort_index().reset_index(drop=True)"
      ]
    },
    {
      "cell_type": "code",
      "execution_count": null,
      "metadata": {
        "colab": {
          "base_uri": "https://localhost:8080/"
        },
        "id": "nqvH5p-Hs92f",
        "outputId": "c0e90b31-aabb-462e-b8d0-8452d4653229"
      },
      "outputs": [],
      "source": [
        "print(charts_no_duplicate.loc[5915])\n",
        "df.loc[5914.5] = getTrackFeatures('0eHAYxlo3Ty9pQoht4jvG2')\n",
        "df = df.sort_index().reset_index(drop=True)"
      ]
    },
    {
      "cell_type": "code",
      "execution_count": null,
      "metadata": {
        "colab": {
          "base_uri": "https://localhost:8080/"
        },
        "id": "PqOwxBvIt7Tw",
        "outputId": "b88e110f-1239-473c-f436-da3cbd7f50c9"
      },
      "outputs": [],
      "source": [
        "print(charts_no_duplicate.loc[6022])\n",
        "df.loc[6021.5] = getTrackFeatures('3IQSYqnKsCTMLWn2xE3HFT')\n",
        "df = df.sort_index().reset_index(drop=True)"
      ]
    },
    {
      "cell_type": "code",
      "execution_count": null,
      "metadata": {
        "colab": {
          "base_uri": "https://localhost:8080/"
        },
        "id": "KVYwvHi0uE5_",
        "outputId": "b0e0126f-8251-4437-e922-09fa70cad1af"
      },
      "outputs": [],
      "source": [
        "print(charts_no_duplicate.loc[6073])\n",
        "df.loc[6072.5] = getTrackFeatures('0B8yh3jfMdQM4Xtfidm2RC')\n",
        "df = df.sort_index().reset_index(drop=True)"
      ]
    },
    {
      "cell_type": "code",
      "execution_count": null,
      "metadata": {
        "colab": {
          "base_uri": "https://localhost:8080/"
        },
        "id": "UOvvYA9AuPlu",
        "outputId": "3b85429b-7acd-438a-ab93-fe498a10a39b"
      },
      "outputs": [],
      "source": [
        "print(charts_no_duplicate.loc[6080])\n",
        "df.loc[6079.5] = getTrackFeatures('1SoP2zC2ttcI2zjuRsQ5xx')\n",
        "df = df.sort_index().reset_index(drop=True)"
      ]
    },
    {
      "cell_type": "code",
      "execution_count": null,
      "metadata": {
        "colab": {
          "base_uri": "https://localhost:8080/"
        },
        "id": "9GsV82DfuYyg",
        "outputId": "f790ea7b-8f35-4b36-f4bb-e9f0e32316e2"
      },
      "outputs": [],
      "source": [
        "print(charts_no_duplicate.loc[6105])\n",
        "df.loc[6104.5] = getTrackFeatures('12wSL3tGk3MtbDEhfG7xy3')\n",
        "df = df.sort_index().reset_index(drop=True)"
      ]
    },
    {
      "cell_type": "code",
      "execution_count": null,
      "metadata": {
        "colab": {
          "base_uri": "https://localhost:8080/"
        },
        "id": "usCq-cVjuoav",
        "outputId": "20d52dac-87a6-4c34-b0a2-5c2cbdb04a39"
      },
      "outputs": [],
      "source": [
        "print(charts_no_duplicate.loc[6107])\n",
        "df.loc[6106.5] = getTrackFeatures('6bQoVCAhcmYMPFx5pdyNj3')\n",
        "df = df.sort_index().reset_index(drop=True)"
      ]
    },
    {
      "cell_type": "code",
      "execution_count": null,
      "metadata": {
        "colab": {
          "base_uri": "https://localhost:8080/"
        },
        "id": "ZkT8qYuAu0LB",
        "outputId": "0cb5ce0c-cc61-4f20-f4fe-559a40290372"
      },
      "outputs": [],
      "source": [
        "print(charts_no_duplicate.loc[6184])\n",
        "df.loc[6183.5] = getTrackFeatures('6TfBA04WJ3X1d1wXhaCFVT')\n",
        "df = df.sort_index().reset_index(drop=True)"
      ]
    },
    {
      "cell_type": "code",
      "execution_count": null,
      "metadata": {
        "colab": {
          "base_uri": "https://localhost:8080/"
        },
        "id": "wrqf0BK9u6Zi",
        "outputId": "99e9685b-22c4-4854-cbb2-0c60efca6cb3"
      },
      "outputs": [],
      "source": [
        "print(charts_no_duplicate.loc[6216])\n",
        "df.loc[6215.5] = getTrackFeatures('4avrnJ1t946he63pkD4syn')\n",
        "df = df.sort_index().reset_index(drop=True)"
      ]
    },
    {
      "cell_type": "code",
      "execution_count": null,
      "metadata": {
        "colab": {
          "base_uri": "https://localhost:8080/"
        },
        "id": "MyPEX4UjvD4d",
        "outputId": "5873aef7-44d8-4d1d-93a6-64c83a16778c"
      },
      "outputs": [],
      "source": [
        "print(charts_no_duplicate.loc[6252])\n",
        "df.loc[6251.5] = getTrackFeatures('1xQZtbipNLyP0e0hihE5F5')\n",
        "df = df.sort_index().reset_index(drop=True)"
      ]
    },
    {
      "cell_type": "code",
      "execution_count": null,
      "metadata": {
        "colab": {
          "base_uri": "https://localhost:8080/"
        },
        "id": "0VBJzBXbvQJk",
        "outputId": "e55408ce-f7e3-4a96-c68a-439fc98f2e7c"
      },
      "outputs": [],
      "source": [
        "print(charts_no_duplicate.loc[6319])\n",
        "df.loc[6318.5] = getTrackFeatures('227pyOXIQszch2wJAzx0ny')\n",
        "df = df.sort_index().reset_index(drop=True)"
      ]
    },
    {
      "cell_type": "code",
      "execution_count": null,
      "metadata": {
        "colab": {
          "base_uri": "https://localhost:8080/"
        },
        "id": "eZ8lAsI3vYXq",
        "outputId": "89a476b8-482d-4f0a-8c2b-59c1bbd95549"
      },
      "outputs": [],
      "source": [
        "print(charts_no_duplicate.loc[6390])\n",
        "df.loc[6389.5] = getTrackFeatures('7qW9TkSOoSWI63EqzMzksJ')\n",
        "df = df.sort_index().reset_index(drop=True)"
      ]
    },
    {
      "cell_type": "code",
      "execution_count": null,
      "metadata": {
        "colab": {
          "base_uri": "https://localhost:8080/"
        },
        "id": "kw2JqHjGvtnj",
        "outputId": "bc63342e-cd28-4588-8f6b-4fb6ef00619e"
      },
      "outputs": [],
      "source": [
        "print(charts_no_duplicate.loc[6430])\n",
        "df.loc[6429.5] = getTrackFeatures('5Ga2YBqKtetWgWL2pl3g3f')\n",
        "df = df.sort_index().reset_index(drop=True)"
      ]
    },
    {
      "cell_type": "code",
      "execution_count": null,
      "metadata": {
        "colab": {
          "base_uri": "https://localhost:8080/"
        },
        "id": "ag3y0nAWv7a0",
        "outputId": "00a99197-4748-42ad-8a59-3456ca97621f"
      },
      "outputs": [],
      "source": [
        "print(charts_no_duplicate.loc[6604])\n",
        "df.loc[6603.5] = getTrackFeatures('27K0tchvM5KszaSJEX7fj5')\n",
        "df = df.sort_index().reset_index(drop=True)"
      ]
    },
    {
      "cell_type": "code",
      "execution_count": null,
      "metadata": {
        "colab": {
          "base_uri": "https://localhost:8080/"
        },
        "id": "AxabrAdawM1h",
        "outputId": "8bb21c3e-2483-4727-907d-e5c083e124d5"
      },
      "outputs": [],
      "source": [
        "print(charts_no_duplicate.loc[6616])\n",
        "df.loc[6615.5] = getTrackFeatures('59xrXDaYumkmhZtH0jMohG')\n",
        "df = df.sort_index().reset_index(drop=True)"
      ]
    },
    {
      "cell_type": "code",
      "execution_count": null,
      "metadata": {
        "colab": {
          "base_uri": "https://localhost:8080/"
        },
        "id": "NPsj6DhiwUQw",
        "outputId": "dcd9168e-aba7-42fe-c008-420c972d9e0b"
      },
      "outputs": [],
      "source": [
        "print(charts_no_duplicate.loc[6690])\n",
        "df.loc[6689.5] = getTrackFeatures('4ns1XFP3W5JPyzvnAjMdHD')\n",
        "df = df.sort_index().reset_index(drop=True)"
      ]
    },
    {
      "cell_type": "code",
      "execution_count": null,
      "metadata": {
        "colab": {
          "base_uri": "https://localhost:8080/"
        },
        "id": "YPV7lWMawjLs",
        "outputId": "fbc385fb-ff9f-4200-bd72-af27aa1ff32b"
      },
      "outputs": [],
      "source": [
        "print(charts_no_duplicate.loc[6764])\n",
        "df.loc[6763.5] = getTrackFeatures('68gSc54o9lUu8aVg3DJqYH')\n",
        "df = df.sort_index().reset_index(drop=True)"
      ]
    },
    {
      "cell_type": "code",
      "execution_count": null,
      "metadata": {
        "colab": {
          "base_uri": "https://localhost:8080/"
        },
        "id": "Tbq0YXZxwslg",
        "outputId": "b9d7c406-2d65-4d26-ee48-f1a4a73117bf"
      },
      "outputs": [],
      "source": [
        "print(charts_no_duplicate.loc[6819])\n",
        "df.loc[6818.5] = getTrackFeatures('6lptYvvpxe3LIFgEAoQ8DG')\n",
        "df = df.sort_index().reset_index(drop=True)"
      ]
    },
    {
      "cell_type": "code",
      "execution_count": null,
      "metadata": {
        "colab": {
          "base_uri": "https://localhost:8080/"
        },
        "id": "lKwZ8gHVxOef",
        "outputId": "265e63ff-aacd-47e5-f074-8a976c2f6051"
      },
      "outputs": [],
      "source": [
        "print(charts_no_duplicate.loc[6866])\n",
        "df.loc[6865.5] = getTrackFeatures('0EKBV6GybPtALXUgWqWrym')\n",
        "df = df.sort_index().reset_index(drop=True)"
      ]
    },
    {
      "cell_type": "code",
      "execution_count": null,
      "metadata": {
        "colab": {
          "base_uri": "https://localhost:8080/"
        },
        "id": "HUZgB5puxWZC",
        "outputId": "b042feb0-90c0-4bd2-9129-056d1da842a2"
      },
      "outputs": [],
      "source": [
        "print(charts_no_duplicate.loc[6881])\n",
        "df.loc[6880.5] = getTrackFeatures('1AfkyOZmDWuJ9miRTrIHKE')\n",
        "df = df.sort_index().reset_index(drop=True)"
      ]
    },
    {
      "cell_type": "code",
      "execution_count": null,
      "metadata": {
        "colab": {
          "base_uri": "https://localhost:8080/"
        },
        "id": "bGRlofPixur2",
        "outputId": "7495595d-187f-4acc-8987-a5f0e424090f"
      },
      "outputs": [],
      "source": [
        "print(charts_no_duplicate.loc[7215])\n",
        "df.loc[7214.5] = getTrackFeatures('1lih9AUGlOI2qbAkptdBsr')\n",
        "df = df.sort_index().reset_index(drop=True)"
      ]
    },
    {
      "cell_type": "code",
      "execution_count": null,
      "metadata": {
        "colab": {
          "base_uri": "https://localhost:8080/"
        },
        "id": "GFOFKO7Ix38G",
        "outputId": "60124452-5335-42dc-dc13-3b5a71a75ade"
      },
      "outputs": [],
      "source": [
        "print(charts_no_duplicate.loc[7374])\n",
        "df.loc[7373.5] = getTrackFeatures('401olpZBrdF03wa5lJfgdy')\n",
        "df = df.sort_index().reset_index(drop=True)"
      ]
    },
    {
      "cell_type": "code",
      "execution_count": null,
      "metadata": {
        "colab": {
          "base_uri": "https://localhost:8080/"
        },
        "id": "CWZ7Sve2yB6E",
        "outputId": "7c7c9cd5-0993-4d0d-8938-ff2b58b07123"
      },
      "outputs": [],
      "source": [
        "print(charts_no_duplicate.loc[7382])\n",
        "df.loc[7381.5] = getTrackFeatures('0o995gJCGebaza0LWybToU')\n",
        "df = df.sort_index().reset_index(drop=True)"
      ]
    },
    {
      "cell_type": "code",
      "execution_count": null,
      "metadata": {
        "colab": {
          "base_uri": "https://localhost:8080/"
        },
        "id": "IXmVgu09yJC_",
        "outputId": "4b370733-a9d2-4f4a-ab9f-3476f8dea849"
      },
      "outputs": [],
      "source": [
        "print(charts_no_duplicate.loc[7497])\n",
        "df.loc[7496.5] = getTrackFeatures('3ExcxvkepzqXKkf8tfZlI8')\n",
        "df = df.sort_index().reset_index(drop=True)"
      ]
    },
    {
      "cell_type": "code",
      "execution_count": null,
      "metadata": {
        "colab": {
          "base_uri": "https://localhost:8080/"
        },
        "id": "Nwt6lQU8yTLl",
        "outputId": "80e12c1b-5b4f-4a98-9a2a-582e3919275f"
      },
      "outputs": [],
      "source": [
        "print(charts_no_duplicate.loc[7547])\n",
        "df.loc[7546.5] = getTrackFeatures('5KdyG61gbN8d66qjPl2UIz')\n",
        "df = df.sort_index().reset_index(drop=True)"
      ]
    },
    {
      "cell_type": "code",
      "execution_count": null,
      "metadata": {
        "colab": {
          "base_uri": "https://localhost:8080/"
        },
        "id": "5wnARrgwyeID",
        "outputId": "a68e387b-778f-4e28-d488-f45000f11b23"
      },
      "outputs": [],
      "source": [
        "print(charts_no_duplicate.loc[7902])\n",
        "df.loc[7901.5] = getTrackFeatures('510Efpc9eTTSe038rqZwfC')\n",
        "df = df.sort_index().reset_index(drop=True)"
      ]
    },
    {
      "cell_type": "code",
      "execution_count": null,
      "metadata": {
        "colab": {
          "base_uri": "https://localhost:8080/"
        },
        "id": "uPkUdZ2YytyQ",
        "outputId": "0f3184bd-0a31-40c2-e30a-384e2b426bb1"
      },
      "outputs": [],
      "source": [
        "print(charts_no_duplicate.loc[7910])\n",
        "df.loc[7909.5] = getTrackFeatures('0q7z99dIbw37rabJtGBZt5')\n",
        "df = df.sort_index().reset_index(drop=True)"
      ]
    },
    {
      "cell_type": "code",
      "execution_count": null,
      "metadata": {
        "colab": {
          "base_uri": "https://localhost:8080/"
        },
        "id": "MpPzyH-8y4-8",
        "outputId": "c89e7846-d826-4db9-eedb-416654e7a7b6"
      },
      "outputs": [],
      "source": [
        "print(charts_no_duplicate.loc[8148])\n",
        "df.loc[8147.5] = getTrackFeatures('5S5TBPy2x24wXbkzpjHdIg')\n",
        "df = df.sort_index().reset_index(drop=True)"
      ]
    },
    {
      "cell_type": "code",
      "execution_count": null,
      "metadata": {
        "colab": {
          "base_uri": "https://localhost:8080/"
        },
        "id": "gzO84hJ0zUPB",
        "outputId": "d4660406-4487-4fc8-e830-f8707c0d5bdc"
      },
      "outputs": [],
      "source": [
        "print(charts_no_duplicate.loc[8170])\n",
        "df.loc[8169.5] = getTrackFeatures('3Mkegm3Crq0YEw04lLg0J4')\n",
        "df = df.sort_index().reset_index(drop=True)"
      ]
    },
    {
      "cell_type": "code",
      "execution_count": null,
      "metadata": {
        "colab": {
          "base_uri": "https://localhost:8080/"
        },
        "id": "okoVVviH0K7Q",
        "outputId": "1fd477f4-8d69-4cf0-9371-8b77fba58a87"
      },
      "outputs": [],
      "source": [
        "print(charts_no_duplicate.loc[8206])\n",
        "df.loc[8205.5] = getTrackFeatures('39YovPslPCXbFYhlYjsZ2Y')\n",
        "df = df.sort_index().reset_index(drop=True)"
      ]
    },
    {
      "cell_type": "code",
      "execution_count": null,
      "metadata": {
        "colab": {
          "base_uri": "https://localhost:8080/"
        },
        "id": "bd7pHjzq0UpQ",
        "outputId": "975643cb-5f0b-4e83-db6a-1c7ad80f0b35"
      },
      "outputs": [],
      "source": [
        "print(charts_no_duplicate.loc[8333])\n",
        "df.loc[8332.5] = getTrackFeatures('2rh1HEbkalvTKVhooKdePe')\n",
        "df = df.sort_index().reset_index(drop=True)"
      ]
    },
    {
      "cell_type": "code",
      "execution_count": null,
      "metadata": {
        "colab": {
          "base_uri": "https://localhost:8080/"
        },
        "id": "J0QE36Nm0bAS",
        "outputId": "6a0b3b8b-b03d-4a2f-d3f7-dc3a7fed192e"
      },
      "outputs": [],
      "source": [
        "print(charts_no_duplicate.loc[8390])\n",
        "df.loc[8389.5] = getTrackFeatures('6lvOjbVbunXeDBOEY3QDdZ')\n",
        "df = df.sort_index().reset_index(drop=True)"
      ]
    },
    {
      "cell_type": "code",
      "execution_count": null,
      "metadata": {
        "colab": {
          "base_uri": "https://localhost:8080/"
        },
        "id": "qiyYVZhc0nHe",
        "outputId": "3385fcbe-08b9-4db4-8148-ca9e9329f9a7"
      },
      "outputs": [],
      "source": [
        "print(charts_no_duplicate.loc[8515])\n",
        "df.loc[8514.5] = getTrackFeatures('0jdkdbnRwNVHJQ6zL84pQs')\n",
        "df = df.sort_index().reset_index(drop=True)"
      ]
    },
    {
      "cell_type": "code",
      "execution_count": null,
      "metadata": {
        "colab": {
          "base_uri": "https://localhost:8080/"
        },
        "id": "v7eqd7O-078L",
        "outputId": "7012537c-dbfa-49fe-9a88-b3f8ee67991f"
      },
      "outputs": [],
      "source": [
        "print(charts_no_duplicate.loc[8631])\n",
        "df.loc[8630.5] = getTrackFeatures('4EGnzfHA9pWcXxcPL4pSRN')\n",
        "df = df.sort_index().reset_index(drop=True)"
      ]
    },
    {
      "cell_type": "code",
      "execution_count": null,
      "metadata": {
        "colab": {
          "base_uri": "https://localhost:8080/"
        },
        "id": "TQQZENeb1G0i",
        "outputId": "01e266d1-ce7e-4734-f2d7-b59d80287622"
      },
      "outputs": [],
      "source": [
        "print(charts_no_duplicate.loc[8747])\n",
        "df.loc[8746.5] = getTrackFeatures('4iihDHIoKZdOeOW1kFDUtR')\n",
        "df = df.sort_index().reset_index(drop=True)"
      ]
    },
    {
      "cell_type": "code",
      "execution_count": null,
      "metadata": {
        "colab": {
          "base_uri": "https://localhost:8080/"
        },
        "id": "AORi9CdT1Rbk",
        "outputId": "3438a08f-e713-4f7a-80a0-bc92ee86b0dc"
      },
      "outputs": [],
      "source": [
        "print(charts_no_duplicate.loc[8952])\n",
        "df.loc[8951.5] = getTrackFeatures('5d8woPn6sHRA6yPnnHnqSt')\n",
        "df = df.sort_index().reset_index(drop=True)"
      ]
    },
    {
      "cell_type": "code",
      "execution_count": null,
      "metadata": {
        "colab": {
          "base_uri": "https://localhost:8080/"
        },
        "id": "dVYG5Tiy1j25",
        "outputId": "b275e55d-2bd2-4388-f92f-44c191846254"
      },
      "outputs": [],
      "source": [
        "print(charts_no_duplicate.loc[8955])\n",
        "df.loc[8954.5] = getTrackFeatures('1migZXJuB0tB2pFucCtEm5')\n",
        "df = df.sort_index().reset_index(drop=True)"
      ]
    },
    {
      "cell_type": "code",
      "execution_count": null,
      "metadata": {
        "colab": {
          "base_uri": "https://localhost:8080/"
        },
        "id": "A3-NQBzw2CQN",
        "outputId": "84effdd2-fb6b-4408-b3d5-baa192adef70"
      },
      "outputs": [],
      "source": [
        "print(charts_no_duplicate.loc[9014])\n",
        "df.loc[9013.5] = getTrackFeatures('3u25S5XdV8goD3piUSZRw6')\n",
        "df = df.sort_index().reset_index(drop=True)"
      ]
    },
    {
      "cell_type": "code",
      "execution_count": null,
      "metadata": {
        "colab": {
          "base_uri": "https://localhost:8080/"
        },
        "id": "nBfWK-dBEF2f",
        "outputId": "2bd84fa4-f1a8-43de-909c-3868dbf8910d"
      },
      "outputs": [],
      "source": [
        "# Check for missing data values\n",
        "df[df['name'] == ' '].index"
      ]
    },
    {
      "cell_type": "code",
      "execution_count": null,
      "metadata": {
        "id": "cOuF8AD9i6La"
      },
      "outputs": [],
      "source": [
        "# Manually add the spotify ID for the missing songs\n",
        "df.loc[112] = getTrackFeatures('58T4yPLn4NjBYXfRxeweyM')\n",
        "df.loc[113] = getTrackFeatures('25r6MZ4Gtd76l43qnZI1DG')\n",
        "df.loc[114] = getTrackFeatures('4iJyoBOLtHqaGxP12qzhQI')\n",
        "df.loc[209] = getTrackFeatures('6SRsiMl7w1USE4mFqrOhHC')\n",
        "df.loc[262] = getTrackFeatures('4ka1FkKAMde6dQAFFMXKac')\n",
        "df.loc[624] = getTrackFeatures('2EjXfH91m7f8HiJN1yQg97')"
      ]
    },
    {
      "cell_type": "code",
      "execution_count": null,
      "metadata": {
        "colab": {
          "base_uri": "https://localhost:8080/"
        },
        "id": "35h_JddvlVZW",
        "outputId": "848171f4-d020-4fe4-96a0-76be05d2b32f"
      },
      "outputs": [],
      "source": [
        "print(\n",
        "df.loc[112],\n",
        "df.loc[113],\n",
        "df.loc[114],\n",
        "df.loc[209],\n",
        "df.loc[262],\n",
        "df.loc[624],\n",
        "df.loc[7392])"
      ]
    },
    {
      "cell_type": "code",
      "execution_count": null,
      "metadata": {
        "id": "2E3Gd1txolq1"
      },
      "outputs": [],
      "source": [
        "# Add an identifiable id to match with charts_no_duplicate\n",
        "df['id'] = df.index + 1\n",
        "df.to_csv('df.csv')"
      ]
    }
  ],
  "metadata": {
    "colab": {
      "collapsed_sections": [],
      "name": "Spotify.ipynb",
      "provenance": []
    },
    "kernelspec": {
      "display_name": "Python 3",
      "name": "python3"
    },
    "language_info": {
      "name": "python"
    }
  },
  "nbformat": 4,
  "nbformat_minor": 0
}
